{
 "cells": [
  {
   "cell_type": "markdown",
   "metadata": {},
   "source": [
    "## Preliminaries"
   ]
  },
  {
   "cell_type": "markdown",
   "metadata": {},
   "source": [
    "### Imports"
   ]
  },
  {
   "cell_type": "code",
   "execution_count": 2,
   "metadata": {
    "ExecuteTime": {
     "end_time": "2018-03-02T02:53:48.522285Z",
     "start_time": "2018-03-02T02:53:43.783853Z"
    }
   },
   "outputs": [],
   "source": [
    "import pickle\n",
    "\n",
    "import numpy as np\n",
    "import pandas as pd\n",
    "import matplotlib.pyplot as plt\n",
    "\n",
    "from sklearn.discriminant_analysis import LinearDiscriminantAnalysis\n",
    "from sklearn.linear_model import LogisticRegression\n",
    "\n",
    "\n",
    "from sklearn.model_selection import train_test_split, KFold\n",
    "\n",
    "import sys\n",
    "sys.path.append(\"../..\")\n",
    "from E4525_ML import mnist\n",
    "from E4525_ML.multiclass_logistic import LogisticGDClassifier\n",
    "%matplotlib inline"
   ]
  },
  {
   "cell_type": "code",
   "execution_count": 71,
   "metadata": {},
   "outputs": [],
   "source": [
    "import warnings\n",
    "warnings.filterwarnings(\"ignore\")"
   ]
  },
  {
   "cell_type": "markdown",
   "metadata": {
    "ExecuteTime": {
     "end_time": "2018-02-15T11:06:16.497625Z",
     "start_time": "2018-02-15T11:06:16.466372Z"
    }
   },
   "source": [
    "### Random Seed"
   ]
  },
  {
   "cell_type": "code",
   "execution_count": 3,
   "metadata": {
    "ExecuteTime": {
     "end_time": "2018-03-02T02:53:48.537898Z",
     "start_time": "2018-03-02T02:53:48.522285Z"
    }
   },
   "outputs": [],
   "source": [
    "seed=458\n",
    "np.random.seed(seed)"
   ]
  },
  {
   "cell_type": "markdown",
   "metadata": {},
   "source": [
    "### Data Directories"
   ]
  },
  {
   "cell_type": "code",
   "execution_count": 4,
   "metadata": {
    "ExecuteTime": {
     "end_time": "2018-03-02T02:53:48.561796Z",
     "start_time": "2018-03-02T02:53:48.537898Z"
    }
   },
   "outputs": [],
   "source": [
    "data_dir=r\"../../raw/mnist/\""
   ]
  },
  {
   "cell_type": "markdown",
   "metadata": {},
   "source": [
    "<div class=\"alert alert-block alert-info\"> Problem 0 </div>\n",
    "Make sure to **update** the file `mnist.py` on the `E4525_ML` directory (new version posted on Canvas).\n",
    "\n",
    "You will need the **updated** version of that file to complete the last section of this notebook."
   ]
  },
  {
   "cell_type": "markdown",
   "metadata": {},
   "source": [
    "## Read Data"
   ]
  },
  {
   "cell_type": "markdown",
   "metadata": {},
   "source": [
    "<div class=\"alert alert-block alert-info\"> Problem 1.0 </div>\n",
    "Read MNIST data set and labels,  also read the MNMIST test data set and test labels"
   ]
  },
  {
   "cell_type": "code",
   "execution_count": 9,
   "metadata": {
    "ExecuteTime": {
     "end_time": "2018-03-02T02:53:49.201245Z",
     "start_time": "2018-03-02T02:53:48.563202Z"
    }
   },
   "outputs": [
    {
     "name": "stdout",
     "output_type": "stream",
     "text": [
      "(60000, 28, 28) (60000,)\n"
     ]
    }
   ],
   "source": [
    "data_file=data_dir+\"train-images-idx3-ubyte.gz\"\n",
    "label_file=data_dir+\"train-labels-idx1-ubyte.gz\"\n",
    "\n",
    "test_data_file=data_dir+\"t10k-images-idx3-ubyte.gz\"\n",
    "test_label_file=data_dir+\"t10k-labels-idx1-ubyte.gz\"\n",
    "\n",
    "data=mnist.read_images(data_file)\n",
    "label=mnist.read_labels(label_file)\n",
    "    \n",
    "test_data=mnist.read_images(test_data_file)\n",
    "test_label=mnist.read_labels(test_label_file)\n",
    "    \n",
    "print(data.shape,label.shape)"
   ]
  },
  {
   "cell_type": "markdown",
   "metadata": {
    "ExecuteTime": {
     "end_time": "2018-01-21T22:03:06.235419Z",
     "start_time": "2018-01-21T22:03:06.219795Z"
    }
   },
   "source": [
    "<div class=\"alert alert-block alert-info\"> Problem 1.2 </div>\n",
    "Use `skelearn`'s `train_test_split` function to separate the MNIST samples into  a 15% validation set and a  training sample.\n"
   ]
  },
  {
   "cell_type": "code",
   "execution_count": 22,
   "metadata": {
    "ExecuteTime": {
     "end_time": "2018-03-02T02:53:49.370644Z",
     "start_time": "2018-03-02T02:53:49.201245Z"
    }
   },
   "outputs": [],
   "source": [
    "x_train, x_validation, y_train, y_validation=train_test_split(data, label, test_size=0.15)"
   ]
  },
  {
   "cell_type": "markdown",
   "metadata": {},
   "source": [
    "## LDA"
   ]
  },
  {
   "cell_type": "markdown",
   "metadata": {
    "ExecuteTime": {
     "end_time": "2018-01-21T22:09:15.766264Z",
     "start_time": "2018-01-21T22:09:15.750639Z"
    }
   },
   "source": [
    "<div class=\"alert alert-block alert-info\"> Problem 2.1 </div>\n",
    "fit an LDA model on the training data set using `sklearns` `LinearDiscriminantAnalysis` classifier "
   ]
  },
  {
   "cell_type": "code",
   "execution_count": 17,
   "metadata": {
    "ExecuteTime": {
     "end_time": "2018-03-02T02:53:56.122416Z",
     "start_time": "2018-03-02T02:53:49.370644Z"
    }
   },
   "outputs": [
    {
     "name": "stderr",
     "output_type": "stream",
     "text": [
      "/Users/Renaissance/anaconda2/envs/3point6/lib/python3.7/site-packages/sklearn/discriminant_analysis.py:388: UserWarning: Variables are collinear.\n",
      "  warnings.warn(\"Variables are collinear.\")\n"
     ]
    },
    {
     "data": {
      "text/plain": [
       "LinearDiscriminantAnalysis(n_components=None, priors=None, shrinkage=None,\n",
       "                           solver='svd', store_covariance=False, tol=0.0001)"
      ]
     },
     "execution_count": 17,
     "metadata": {},
     "output_type": "execute_result"
    }
   ],
   "source": [
    "lda=LinearDiscriminantAnalysis()\n",
    "x_train_reshape=x_train.reshape(len(x_train), -1)\n",
    "lda.fit(x_train_reshape, y_train)"
   ]
  },
  {
   "cell_type": "markdown",
   "metadata": {
    "ExecuteTime": {
     "end_time": "2018-02-27T23:22:08.665966Z",
     "start_time": "2018-02-27T23:22:08.656899Z"
    }
   },
   "source": [
    "<div class=\"alert alert-block alert-info\"> Problem 2.2 </div>\n",
    "Compute model accuracy on the training set"
   ]
  },
  {
   "cell_type": "code",
   "execution_count": 20,
   "metadata": {
    "ExecuteTime": {
     "end_time": "2018-03-02T02:53:56.250935Z",
     "start_time": "2018-03-02T02:53:56.124604Z"
    }
   },
   "outputs": [
    {
     "data": {
      "text/plain": [
       "0.8729803921568627"
      ]
     },
     "execution_count": 20,
     "metadata": {},
     "output_type": "execute_result"
    }
   ],
   "source": [
    "np.average(y_train==lda.predict(x_train_reshape))"
   ]
  },
  {
   "cell_type": "markdown",
   "metadata": {
    "ExecuteTime": {
     "end_time": "2018-02-27T23:22:33.457547Z",
     "start_time": "2018-02-27T23:22:33.449526Z"
    }
   },
   "source": [
    "<div class=\"alert alert-block alert-info\"> Problem 2.3 </div>\n",
    "Compute accuracy of the model on the validation set"
   ]
  },
  {
   "cell_type": "code",
   "execution_count": 27,
   "metadata": {
    "ExecuteTime": {
     "end_time": "2018-03-02T02:53:56.284022Z",
     "start_time": "2018-03-02T02:53:56.253442Z"
    }
   },
   "outputs": [
    {
     "data": {
      "text/plain": [
       "0.8683333333333333"
      ]
     },
     "execution_count": 27,
     "metadata": {},
     "output_type": "execute_result"
    }
   ],
   "source": [
    "x_validation_reshape=x_validation.reshape(len(x_validation), -1)\n",
    "np.average(y_validation==lda.predict(x_validation_reshape))"
   ]
  },
  {
   "cell_type": "markdown",
   "metadata": {},
   "source": [
    "## Logistic Regression"
   ]
  },
  {
   "cell_type": "markdown",
   "metadata": {},
   "source": [
    "<div class=\"alert alert-block alert-info\"> Problem 3.1 </div>\n",
    "\n",
    "Use the `LogisticGDClassifier` class from `E4525_ML.multiclass_logistic` module to fit a logistic model"
   ]
  },
  {
   "cell_type": "code",
   "execution_count": 24,
   "metadata": {
    "ExecuteTime": {
     "end_time": "2018-03-02T02:54:18.808353Z",
     "start_time": "2018-03-02T02:53:56.286028Z"
    }
   },
   "outputs": [],
   "source": [
    "lc=LogisticGDClassifier()"
   ]
  },
  {
   "cell_type": "code",
   "execution_count": null,
   "metadata": {},
   "outputs": [],
   "source": [
    "lc.fit(x_train_reshape, y_train)"
   ]
  },
  {
   "cell_type": "markdown",
   "metadata": {},
   "source": [
    "<div class=\"alert alert-block alert-info\"> Problem 3.2 </div>\n",
    "Compute model accuracy in the training data set"
   ]
  },
  {
   "cell_type": "code",
   "execution_count": 28,
   "metadata": {
    "ExecuteTime": {
     "end_time": "2018-03-02T02:54:18.909580Z",
     "start_time": "2018-03-02T02:54:18.808353Z"
    }
   },
   "outputs": [
    {
     "data": {
      "text/plain": [
       "0.13031372549019607"
      ]
     },
     "execution_count": 28,
     "metadata": {},
     "output_type": "execute_result"
    }
   ],
   "source": [
    "np.average(lc.predict(x_train_reshape)==y_train)"
   ]
  },
  {
   "cell_type": "markdown",
   "metadata": {
    "ExecuteTime": {
     "end_time": "2018-02-28T11:10:43.634394Z",
     "start_time": "2018-02-28T11:10:43.627379Z"
    }
   },
   "source": [
    "<div class=\"alert alert-block alert-info\"> Problem 3.3 </div>\n",
    "Compute model accuracy in the valuation data set"
   ]
  },
  {
   "cell_type": "code",
   "execution_count": 30,
   "metadata": {
    "ExecuteTime": {
     "end_time": "2018-03-02T02:54:18.941595Z",
     "start_time": "2018-03-02T02:54:18.909580Z"
    }
   },
   "outputs": [
    {
     "data": {
      "text/plain": [
       "0.08766666666666667"
      ]
     },
     "execution_count": 30,
     "metadata": {},
     "output_type": "execute_result"
    }
   ],
   "source": [
    "np.average(lc.predict(x_validation_reshape)==y_validation)"
   ]
  },
  {
   "cell_type": "markdown",
   "metadata": {},
   "source": [
    "## Feature Engineering in one Dimension"
   ]
  },
  {
   "cell_type": "code",
   "execution_count": 34,
   "metadata": {
    "ExecuteTime": {
     "end_time": "2018-03-02T02:54:18.953092Z",
     "start_time": "2018-03-02T02:54:18.945578Z"
    }
   },
   "outputs": [],
   "source": [
    "N=50\n",
    "N_val=1000"
   ]
  },
  {
   "cell_type": "code",
   "execution_count": 35,
   "metadata": {
    "ExecuteTime": {
     "end_time": "2018-03-02T02:54:18.968123Z",
     "start_time": "2018-03-02T02:54:18.957105Z"
    }
   },
   "outputs": [],
   "source": [
    "def f(x):\n",
    "    return 10*(1-4*(np.abs(np.abs(x)-1)))"
   ]
  },
  {
   "cell_type": "code",
   "execution_count": 36,
   "metadata": {
    "ExecuteTime": {
     "end_time": "2018-03-02T02:54:18.988127Z",
     "start_time": "2018-03-02T02:54:18.972126Z"
    }
   },
   "outputs": [],
   "source": [
    "def generate_sample(N):\n",
    "    X=np.random.uniform(-2,2,N)\n",
    "    eta=f(X)\n",
    "    eta.shape\n",
    "    theta=1/(1+np.exp(-eta))\n",
    "    Y= np.random.uniform(0,1,N)>theta\n",
    "    return X,Y"
   ]
  },
  {
   "cell_type": "markdown",
   "metadata": {},
   "source": [
    "<div class=\"alert alert-block alert-info\"> Problem 4.0 </div>\n",
    "Generate \n",
    "1. a training sample of variables $X$ and $Y$ with $N$ data samples\n",
    "2. a valuation set with   $N_{val}$ samples\n",
    "3. a test set with $N_{val}$ samples"
   ]
  },
  {
   "cell_type": "code",
   "execution_count": 39,
   "metadata": {
    "ExecuteTime": {
     "end_time": "2018-03-02T02:54:19.004123Z",
     "start_time": "2018-03-02T02:54:18.988127Z"
    }
   },
   "outputs": [],
   "source": [
    "train_x, train_y=generate_sample(N)\n",
    "validation_x, validation_y=generate_sample(N_val)\n",
    "test_x, test_y=generate_sample(N_val)"
   ]
  },
  {
   "cell_type": "markdown",
   "metadata": {
    "ExecuteTime": {
     "end_time": "2018-02-28T17:55:32.365942Z",
     "start_time": "2018-02-28T17:55:32.347942Z"
    }
   },
   "source": [
    "<div class=\"alert alert-block alert-info\"> Problem 4.1 </div>\n",
    "What is the proportion of positive class ($Y=1$) samples on the training data?"
   ]
  },
  {
   "cell_type": "code",
   "execution_count": 40,
   "metadata": {
    "ExecuteTime": {
     "end_time": "2018-03-02T02:54:19.032124Z",
     "start_time": "2018-03-02T02:54:19.008125Z"
    },
    "scrolled": true
   },
   "outputs": [
    {
     "data": {
      "text/plain": [
       "0.78"
      ]
     },
     "execution_count": 40,
     "metadata": {},
     "output_type": "execute_result"
    }
   ],
   "source": [
    "np.average(train_y==1)"
   ]
  },
  {
   "cell_type": "markdown",
   "metadata": {
    "ExecuteTime": {
     "end_time": "2018-02-28T17:39:04.058942Z",
     "start_time": "2018-02-28T17:39:04.050942Z"
    }
   },
   "source": [
    "<div class=\"alert alert-block alert-info\"> Problem 4.2 </div>\n",
    "Write a function able to generate the feature matrix\n",
    "$$\n",
    "    H_{i,d}= h_d(x_i)\n",
    "$$\n",
    "for $i=1,\\dots N$ and $d=1,\\dots D$\n",
    "\n",
    "where the functions $h_d(x)$ are defined as \n",
    "$$\n",
    "    h_d(x) = x^d\n",
    "$$\n",
    "\n",
    "[HINT] be careful to include $h_D$ in the range of functions"
   ]
  },
  {
   "cell_type": "code",
   "execution_count": 58,
   "metadata": {
    "ExecuteTime": {
     "end_time": "2018-03-02T02:54:19.051637Z",
     "start_time": "2018-03-02T02:54:19.036124Z"
    }
   },
   "outputs": [],
   "source": [
    "def feature_matrix(N, D, X):\n",
    "    H=np.zeros((N, D))\n",
    "    for i in range(N):\n",
    "        for j in range(1, D+1):\n",
    "            H[i, j-1]=X[i]**j\n",
    "    return H"
   ]
  },
  {
   "cell_type": "markdown",
   "metadata": {
    "ExecuteTime": {
     "end_time": "2018-02-28T17:42:00.116942Z",
     "start_time": "2018-02-28T17:42:00.110942Z"
    }
   },
   "source": [
    "<div class=\"alert alert-block alert-info\"> Problem 4.3 </div>\n",
    "1. Train  a logistic regression model (use sklearn `LogisticRegression` class) over the training data you already generated. \n",
    "2. Use the valuation set  to select the best value of $D$ using accuracy as selection criteria.\n",
    "3. Plot accuracy on the  training and valuation sets as a function of $D$.\n",
    "\n",
    "[HINT]\n",
    "1. You only need to consider the range $D=1,\\dots 10$.\n",
    "2. Remember to disable regularization by setting the parameter $C$ of the `LogisticRegression` class to a very large number.\n",
    "\n"
   ]
  },
  {
   "cell_type": "code",
   "execution_count": 78,
   "metadata": {
    "ExecuteTime": {
     "end_time": "2018-03-02T02:54:19.300275Z",
     "start_time": "2018-03-02T02:54:19.096174Z"
    }
   },
   "outputs": [
    {
     "name": "stdout",
     "output_type": "stream",
     "text": [
      "The best d is: 5\n",
      "The validation accuracy is:  0.924\n"
     ]
    }
   ],
   "source": [
    "train_accu=[]\n",
    "validation_accu=[]\n",
    "N=train_x.shape[0]\n",
    "Nv=validation_x.shape[0]\n",
    "\n",
    "for d in range(1, 11):\n",
    "    lr=LogisticRegression(C=10000)\n",
    "    H_train=feature_matrix(N, d, train_x)\n",
    "    H_validation=feature_matrix(Nv, d, validation_x)\n",
    "    \n",
    "    lr.fit(H_train, train_y)\n",
    "    train_accu.append(np.average(lr.predict(H_train)==train_y))\n",
    "    validation_accu.append(np.average(lr.predict(H_validation)==validation_y))\n",
    "\n",
    "best_d=np.array(validation_accu).argmax()\n",
    "print('The best d is:', best_d)\n",
    "print('The validation accuracy is: ', validation_accu[best_d])"
   ]
  },
  {
   "cell_type": "code",
   "execution_count": 81,
   "metadata": {},
   "outputs": [
    {
     "data": {
      "text/plain": [
       "Text(0.5, 1.0, 'validation accuracy vs. d')"
      ]
     },
     "execution_count": 81,
     "metadata": {},
     "output_type": "execute_result"
    },
    {
     "data": {
      "image/png": "[encoded data removed]",
      "text/plain": [
       "<Figure size 432x288 with 1 Axes>"
      ]
     },
     "metadata": {
      "needs_background": "light"
     },
     "output_type": "display_data"
    }
   ],
   "source": [
    "plt.plot(np.arange(1, 11), validation_accu)\n",
    "plt.title('validation accuracy vs. d')"
   ]
  },
  {
   "cell_type": "markdown",
   "metadata": {},
   "source": [
    "<div class=\"alert alert-block alert-info\"> Problem 4.4 </div>\n",
    "Use the test set  to measure the accuracy for the optimal classifier you have found\n",
    "(do not use data from the  valuation set to train the classifier)"
   ]
  },
  {
   "cell_type": "code",
   "execution_count": 82,
   "metadata": {
    "ExecuteTime": {
     "end_time": "2018-03-02T02:54:19.312275Z",
     "start_time": "2018-03-02T02:54:19.300275Z"
    }
   },
   "outputs": [],
   "source": [
    "H_train=feature_matrix(N, best_d, train_x)\n",
    "lr=LogisticRegression(C=10000)\n",
    "lr.fit(H_train, train_y)\n",
    "H_test=feature_matrix(N_val, best_d, test_x)\n",
    "accu_test=np.average(lr.predict(H_test)==test_y)"
   ]
  },
  {
   "cell_type": "code",
   "execution_count": 83,
   "metadata": {},
   "outputs": [
    {
     "name": "stdout",
     "output_type": "stream",
     "text": [
      "The accuracy on the test set is:  0.919\n"
     ]
    }
   ],
   "source": [
    "print('The accuracy on the test set is: ', accu_test)"
   ]
  },
  {
   "cell_type": "markdown",
   "metadata": {},
   "source": [
    "## Feature Engineering for MNIST sample"
   ]
  },
  {
   "cell_type": "markdown",
   "metadata": {},
   "source": [
    "<div class=\"alert alert-block alert-info\"> Problem 5.1 </div>\n",
    "In this problem we will use `mnist.ImageFeatureModel` class to find the optimal number of orientations $\\theta$  of the oriented gradients\n",
    "features for the MNIST data set.\n",
    "\n",
    "1. use `mnist.ImageFeatureModel` to generate image oriented gradient features.\n",
    "2. use  `LogisticGDClassifier` as the base model\n",
    "3. set the block size to 4 ( this is to reduce memory use)\n",
    "4. select the best number of orientations by performing  5-Fold cross-validation on the full MNIST data set.\n",
    "5. Consider only [1,2,4,8] as possible values for the orientation\n",
    "6. Plot number of orientations vs validation accuracy\n",
    "\n",
    "[HINT] \n",
    "1. the `validation_model` function below will be useful to perform cross-validation\n",
    "2. If you run into memory trouble (your computer crashes), reduce the size of the data set.\n",
    "Make sure to  indicate this clearly on your solution.\n",
    "3. This problem is computationally expensive, make sure to allocate time to resolve it."
   ]
  },
  {
   "cell_type": "code",
   "execution_count": 85,
   "metadata": {
    "ExecuteTime": {
     "end_time": "2018-03-02T02:54:19.351788Z",
     "start_time": "2018-03-02T02:54:19.312275Z"
    }
   },
   "outputs": [],
   "source": [
    "def validate_model(model,K,X,Y):\n",
    "    folder=KFold(K,shuffle=True)\n",
    "    folds=folder.split(X,Y)\n",
    "    val_error=0.0\n",
    "    fold_count=0\n",
    "    for fold in folds:\n",
    "        train_idx,val_idx=fold\n",
    "        x_train=X[train_idx]\n",
    "        y_train=Y[train_idx]\n",
    "        x_val=X[val_idx]\n",
    "        y_val=Y[val_idx]     \n",
    "        model.fit(x_train,y_train)\n",
    "        y_pred=model.predict(x_val)\n",
    "        val_err=np.mean(y_val==y_pred)\n",
    "        val_error+=val_err\n",
    "        fold_count+=1\n",
    "        print(fold_count,val_err)\n",
    "    return val_error/K\n",
    "      "
   ]
  },
  {
   "cell_type": "code",
   "execution_count": 86,
   "metadata": {
    "ExecuteTime": {
     "end_time": "2018-03-02T03:14:27.026220Z",
     "start_time": "2018-03-02T02:54:19.356299Z"
    },
    "scrolled": true
   },
   "outputs": [
    {
     "name": "stdout",
     "output_type": "stream",
     "text": [
      "2020-03-16 23:53:15|\t0: TRAIN loss 2.3292,  acc 0.0690\n",
      "2020-03-16 23:53:16|\t10: TRAIN loss 0.5831,  acc 0.8230\n",
      "2020-03-16 23:53:17|\t20: TRAIN loss 0.5193,  acc 0.8530\n",
      "2020-03-16 23:53:17|\t30: TRAIN loss 0.5161,  acc 0.8470\n",
      "2020-03-16 23:53:18|\t40: TRAIN loss 0.4887,  acc 0.8610\n",
      "2020-03-16 23:53:19|\t50: TRAIN loss 0.4977,  acc 0.8450\n",
      "2020-03-16 23:53:20|\t60: TRAIN loss 0.4414,  acc 0.8660\n",
      "2020-03-16 23:53:21|\t70: TRAIN loss 0.4198,  acc 0.8830\n",
      "2020-03-16 23:53:22|\t80: TRAIN loss 0.4485,  acc 0.8640\n",
      "2020-03-16 23:53:23|\t90: TRAIN loss 0.4907,  acc 0.8480\n",
      "2020-03-16 23:53:24|\t99: TRAIN loss 0.5059,  acc 0.8530\n",
      "1 0.8606666666666667\n",
      "2020-03-16 23:53:32|\t0: TRAIN loss 2.3047,  acc 0.1270\n",
      "2020-03-16 23:53:33|\t10: TRAIN loss 0.6088,  acc 0.8170\n",
      "2020-03-16 23:53:34|\t20: TRAIN loss 0.5394,  acc 0.8380\n",
      "2020-03-16 23:53:35|\t30: TRAIN loss 0.5030,  acc 0.8540\n",
      "2020-03-16 23:53:36|\t40: TRAIN loss 0.4755,  acc 0.8650\n",
      "2020-03-16 23:53:37|\t50: TRAIN loss 0.4937,  acc 0.8420\n",
      "2020-03-16 23:53:37|\t60: TRAIN loss 0.4442,  acc 0.8650\n",
      "2020-03-16 23:53:38|\t70: TRAIN loss 0.4421,  acc 0.8570\n",
      "2020-03-16 23:53:39|\t79: TRAIN loss 0.4688,  acc 0.8540\n",
      "2 0.8565833333333334\n",
      "2020-03-16 23:53:47|\t0: TRAIN loss 2.3151,  acc 0.1340\n",
      "2020-03-16 23:53:48|\t10: TRAIN loss 0.5994,  acc 0.8170\n",
      "2020-03-16 23:53:49|\t20: TRAIN loss 0.4824,  acc 0.8540\n",
      "2020-03-16 23:53:50|\t30: TRAIN loss 0.4290,  acc 0.8660\n",
      "2020-03-16 23:53:50|\t40: TRAIN loss 0.5085,  acc 0.8470\n",
      "2020-03-16 23:53:51|\t50: TRAIN loss 0.4983,  acc 0.8550\n",
      "2020-03-16 23:53:52|\t60: TRAIN loss 0.4279,  acc 0.8620\n",
      "2020-03-16 23:53:53|\t70: TRAIN loss 0.4043,  acc 0.8790\n",
      "2020-03-16 23:53:54|\t80: TRAIN loss 0.4238,  acc 0.8730\n",
      "2020-03-16 23:53:55|\t90: TRAIN loss 0.4382,  acc 0.8650\n",
      "2020-03-16 23:53:56|\t99: TRAIN loss 0.4982,  acc 0.8600\n",
      "3 0.86425\n",
      "2020-03-16 23:54:04|\t0: TRAIN loss 2.3168,  acc 0.1460\n",
      "2020-03-16 23:54:05|\t10: TRAIN loss 0.5869,  acc 0.8390\n",
      "2020-03-16 23:54:06|\t20: TRAIN loss 0.5419,  acc 0.8440\n",
      "2020-03-16 23:54:07|\t30: TRAIN loss 0.4918,  acc 0.8550\n",
      "2020-03-16 23:54:08|\t40: TRAIN loss 0.5365,  acc 0.8370\n",
      "2020-03-16 23:54:09|\t50: TRAIN loss 0.4748,  acc 0.8540\n",
      "2020-03-16 23:54:10|\t60: TRAIN loss 0.4863,  acc 0.8450\n",
      "2020-03-16 23:54:11|\t70: TRAIN loss 0.4224,  acc 0.8750\n",
      "2020-03-16 23:54:12|\t80: TRAIN loss 0.4627,  acc 0.8740\n",
      "2020-03-16 23:54:13|\t90: TRAIN loss 0.4583,  acc 0.8430\n",
      "2020-03-16 23:54:13|\t99: TRAIN loss 0.4163,  acc 0.8730\n",
      "4 0.8669166666666667\n",
      "2020-03-16 23:54:21|\t0: TRAIN loss 2.3034,  acc 0.1100\n",
      "2020-03-16 23:54:22|\t10: TRAIN loss 0.6355,  acc 0.8230\n",
      "2020-03-16 23:54:23|\t20: TRAIN loss 0.5303,  acc 0.8490\n",
      "2020-03-16 23:54:24|\t30: TRAIN loss 0.4950,  acc 0.8560\n",
      "2020-03-16 23:54:25|\t40: TRAIN loss 0.4529,  acc 0.8650\n",
      "2020-03-16 23:54:26|\t50: TRAIN loss 0.5432,  acc 0.8450\n",
      "2020-03-16 23:54:27|\t60: TRAIN loss 0.4257,  acc 0.8650\n",
      "2020-03-16 23:54:28|\t70: TRAIN loss 0.4398,  acc 0.8720\n",
      "2020-03-16 23:54:28|\t70: TRAIN loss 0.5151,  acc 0.8430\n",
      "5 0.86125\n",
      "orientation= 1 0.8619333333333333\n",
      "2020-03-16 23:54:37|\t0: TRAIN loss 2.3147,  acc 0.0790\n",
      "2020-03-16 23:54:39|\t10: TRAIN loss 0.3183,  acc 0.9100\n",
      "2020-03-16 23:54:40|\t20: TRAIN loss 0.2726,  acc 0.9240\n",
      "2020-03-16 23:54:41|\t30: TRAIN loss 0.1993,  acc 0.9400\n",
      "2020-03-16 23:54:42|\t40: TRAIN loss 0.2145,  acc 0.9350\n",
      "2020-03-16 23:54:43|\t50: TRAIN loss 0.1936,  acc 0.9310\n",
      "2020-03-16 23:54:44|\t60: TRAIN loss 0.1822,  acc 0.9480\n",
      "2020-03-16 23:54:46|\t70: TRAIN loss 0.2249,  acc 0.9340\n",
      "2020-03-16 23:54:47|\t80: TRAIN loss 0.1699,  acc 0.9510\n",
      "2020-03-16 23:54:48|\t90: TRAIN loss 0.1724,  acc 0.9510\n",
      "2020-03-16 23:54:49|\t99: TRAIN loss 0.1751,  acc 0.9480\n",
      "1 0.9509166666666666\n",
      "2020-03-16 23:54:59|\t0: TRAIN loss 2.2956,  acc 0.1310\n",
      "2020-03-16 23:55:00|\t10: TRAIN loss 0.2996,  acc 0.9230\n",
      "2020-03-16 23:55:01|\t20: TRAIN loss 0.2119,  acc 0.9460\n",
      "2020-03-16 23:55:02|\t30: TRAIN loss 0.2456,  acc 0.9410\n",
      "2020-03-16 23:55:03|\t40: TRAIN loss 0.2194,  acc 0.9340\n",
      "2020-03-16 23:55:04|\t50: TRAIN loss 0.2012,  acc 0.9370\n",
      "2020-03-16 23:55:05|\t60: TRAIN loss 0.1884,  acc 0.9490\n",
      "2020-03-16 23:55:06|\t70: TRAIN loss 0.1875,  acc 0.9460\n",
      "2020-03-16 23:55:08|\t80: TRAIN loss 0.1571,  acc 0.9550\n",
      "2020-03-16 23:55:09|\t90: TRAIN loss 0.1470,  acc 0.9570\n",
      "2020-03-16 23:55:10|\t99: TRAIN loss 0.1619,  acc 0.9510\n",
      "2 0.9471666666666667\n",
      "2020-03-16 23:55:19|\t0: TRAIN loss 2.3161,  acc 0.1040\n",
      "2020-03-16 23:55:20|\t10: TRAIN loss 0.3192,  acc 0.9170\n",
      "2020-03-16 23:55:21|\t20: TRAIN loss 0.2556,  acc 0.9380\n",
      "2020-03-16 23:55:22|\t30: TRAIN loss 0.2309,  acc 0.9370\n",
      "2020-03-16 23:55:23|\t40: TRAIN loss 0.2302,  acc 0.9360\n",
      "2020-03-16 23:55:25|\t50: TRAIN loss 0.2103,  acc 0.9460\n",
      "2020-03-16 23:55:26|\t60: TRAIN loss 0.1797,  acc 0.9520\n",
      "2020-03-16 23:55:27|\t70: TRAIN loss 0.1682,  acc 0.9530\n",
      "2020-03-16 23:55:28|\t80: TRAIN loss 0.1621,  acc 0.9450\n",
      "2020-03-16 23:55:29|\t90: TRAIN loss 0.1823,  acc 0.9490\n",
      "2020-03-16 23:55:30|\t99: TRAIN loss 0.1637,  acc 0.9570\n",
      "3 0.9464166666666667\n",
      "2020-03-16 23:55:39|\t0: TRAIN loss 2.2915,  acc 0.1050\n",
      "2020-03-16 23:55:40|\t10: TRAIN loss 0.3300,  acc 0.9160\n",
      "2020-03-16 23:55:41|\t20: TRAIN loss 0.2395,  acc 0.9390\n",
      "2020-03-16 23:55:42|\t30: TRAIN loss 0.2090,  acc 0.9430\n",
      "2020-03-16 23:55:44|\t40: TRAIN loss 0.2232,  acc 0.9380\n",
      "2020-03-16 23:55:45|\t50: TRAIN loss 0.1987,  acc 0.9450\n",
      "2020-03-16 23:55:46|\t60: TRAIN loss 0.1893,  acc 0.9420\n",
      "2020-03-16 23:55:47|\t70: TRAIN loss 0.1735,  acc 0.9420\n",
      "2020-03-16 23:55:49|\t80: TRAIN loss 0.1954,  acc 0.9410\n",
      "2020-03-16 23:55:50|\t90: TRAIN loss 0.1942,  acc 0.9460\n",
      "2020-03-16 23:55:52|\t99: TRAIN loss 0.1809,  acc 0.9510\n",
      "4 0.9480833333333333\n",
      "2020-03-16 23:56:02|\t0: TRAIN loss 2.2864,  acc 0.1100\n",
      "2020-03-16 23:56:03|\t10: TRAIN loss 0.3200,  acc 0.9170\n",
      "2020-03-16 23:56:04|\t20: TRAIN loss 0.2855,  acc 0.9200\n",
      "2020-03-16 23:56:05|\t30: TRAIN loss 0.2273,  acc 0.9390\n",
      "2020-03-16 23:56:07|\t40: TRAIN loss 0.2169,  acc 0.9430\n",
      "2020-03-16 23:56:08|\t50: TRAIN loss 0.2263,  acc 0.9340\n",
      "2020-03-16 23:56:09|\t60: TRAIN loss 0.2053,  acc 0.9460\n",
      "2020-03-16 23:56:11|\t70: TRAIN loss 0.1737,  acc 0.9490\n",
      "2020-03-16 23:56:12|\t80: TRAIN loss 0.1659,  acc 0.9510\n",
      "2020-03-16 23:56:13|\t90: TRAIN loss 0.1705,  acc 0.9480\n",
      "2020-03-16 23:56:14|\t99: TRAIN loss 0.1911,  acc 0.9490\n",
      "5 0.9505\n",
      "orientation= 2 0.9486166666666668\n",
      "2020-03-16 23:56:27|\t0: TRAIN loss 2.3031,  acc 0.0820\n",
      "2020-03-16 23:56:28|\t10: TRAIN loss 0.2372,  acc 0.9370\n",
      "2020-03-16 23:56:30|\t20: TRAIN loss 0.1771,  acc 0.9530\n",
      "2020-03-16 23:56:31|\t30: TRAIN loss 0.1589,  acc 0.9630\n",
      "2020-03-16 23:56:33|\t40: TRAIN loss 0.1287,  acc 0.9710\n",
      "2020-03-16 23:56:35|\t50: TRAIN loss 0.1560,  acc 0.9470\n",
      "2020-03-16 23:56:37|\t60: TRAIN loss 0.1396,  acc 0.9600\n",
      "2020-03-16 23:56:38|\t70: TRAIN loss 0.1399,  acc 0.9590\n",
      "2020-03-16 23:56:40|\t80: TRAIN loss 0.1458,  acc 0.9630\n",
      "2020-03-16 23:56:41|\t90: TRAIN loss 0.1265,  acc 0.9570\n",
      "2020-03-16 23:56:42|\t99: TRAIN loss 0.1126,  acc 0.9670\n",
      "1 0.9646666666666667\n",
      "2020-03-16 23:56:54|\t0: TRAIN loss 2.2948,  acc 0.1230\n",
      "2020-03-16 23:56:55|\t10: TRAIN loss 0.2201,  acc 0.9440\n",
      "2020-03-16 23:56:56|\t20: TRAIN loss 0.1711,  acc 0.9540\n",
      "2020-03-16 23:56:58|\t30: TRAIN loss 0.1772,  acc 0.9480\n",
      "2020-03-16 23:56:59|\t40: TRAIN loss 0.1695,  acc 0.9570\n",
      "2020-03-16 23:57:01|\t50: TRAIN loss 0.1516,  acc 0.9670\n",
      "2020-03-16 23:57:02|\t60: TRAIN loss 0.1389,  acc 0.9610\n",
      "2020-03-16 23:57:04|\t70: TRAIN loss 0.1156,  acc 0.9660\n",
      "2020-03-16 23:57:05|\t80: TRAIN loss 0.1291,  acc 0.9710\n",
      "2020-03-16 23:57:07|\t90: TRAIN loss 0.1237,  acc 0.9670\n",
      "2020-03-16 23:57:08|\t99: TRAIN loss 0.1088,  acc 0.9700\n",
      "2 0.9685\n",
      "2020-03-16 23:57:19|\t0: TRAIN loss 2.2935,  acc 0.1350\n",
      "2020-03-16 23:57:21|\t10: TRAIN loss 0.2483,  acc 0.9300\n",
      "2020-03-16 23:57:22|\t20: TRAIN loss 0.1634,  acc 0.9570\n",
      "2020-03-16 23:57:24|\t30: TRAIN loss 0.1776,  acc 0.9460\n",
      "2020-03-16 23:57:25|\t40: TRAIN loss 0.1377,  acc 0.9620\n",
      "2020-03-16 23:57:27|\t50: TRAIN loss 0.1433,  acc 0.9660\n",
      "2020-03-16 23:57:28|\t60: TRAIN loss 0.1475,  acc 0.9600\n",
      "2020-03-16 23:57:29|\t70: TRAIN loss 0.1047,  acc 0.9680\n",
      "2020-03-16 23:57:31|\t80: TRAIN loss 0.1290,  acc 0.9680\n",
      "2020-03-16 23:57:32|\t90: TRAIN loss 0.1203,  acc 0.9700\n",
      "2020-03-16 23:57:34|\t99: TRAIN loss 0.1131,  acc 0.9650\n",
      "3 0.967\n",
      "2020-03-16 23:57:45|\t0: TRAIN loss 2.2965,  acc 0.0970\n",
      "2020-03-16 23:57:46|\t10: TRAIN loss 0.2359,  acc 0.9460\n",
      "2020-03-16 23:57:48|\t20: TRAIN loss 0.1743,  acc 0.9540\n"
     ]
    },
    {
     "name": "stdout",
     "output_type": "stream",
     "text": [
      "2020-03-16 23:57:49|\t30: TRAIN loss 0.1331,  acc 0.9730\n",
      "2020-03-16 23:57:50|\t40: TRAIN loss 0.1484,  acc 0.9610\n",
      "2020-03-16 23:57:52|\t50: TRAIN loss 0.1489,  acc 0.9580\n",
      "2020-03-16 23:57:53|\t60: TRAIN loss 0.1190,  acc 0.9660\n",
      "2020-03-16 23:57:55|\t70: TRAIN loss 0.1209,  acc 0.9720\n",
      "2020-03-16 23:57:56|\t80: TRAIN loss 0.1109,  acc 0.9730\n",
      "2020-03-16 23:57:57|\t90: TRAIN loss 0.0994,  acc 0.9720\n",
      "2020-03-16 23:57:59|\t99: TRAIN loss 0.1199,  acc 0.9720\n",
      "4 0.9643333333333334\n",
      "2020-03-16 23:58:10|\t0: TRAIN loss 2.3166,  acc 0.0820\n",
      "2020-03-16 23:58:11|\t10: TRAIN loss 0.2222,  acc 0.9490\n",
      "2020-03-16 23:58:12|\t20: TRAIN loss 0.2028,  acc 0.9510\n",
      "2020-03-16 23:58:14|\t30: TRAIN loss 0.1748,  acc 0.9540\n",
      "2020-03-16 23:58:15|\t40: TRAIN loss 0.1158,  acc 0.9720\n",
      "2020-03-16 23:58:17|\t50: TRAIN loss 0.1408,  acc 0.9590\n",
      "2020-03-16 23:58:18|\t60: TRAIN loss 0.1463,  acc 0.9640\n",
      "2020-03-16 23:58:19|\t70: TRAIN loss 0.1326,  acc 0.9620\n",
      "2020-03-16 23:58:21|\t80: TRAIN loss 0.1331,  acc 0.9680\n",
      "2020-03-16 23:58:22|\t90: TRAIN loss 0.1347,  acc 0.9630\n",
      "2020-03-16 23:58:23|\t99: TRAIN loss 0.1092,  acc 0.9700\n",
      "5 0.9685833333333334\n",
      "orientation= 4 0.9666166666666667\n",
      "2020-03-16 23:58:39|\t0: TRAIN loss 2.3143,  acc 0.0710\n",
      "2020-03-16 23:58:42|\t10: TRAIN loss 0.1858,  acc 0.9540\n",
      "2020-03-16 23:58:44|\t20: TRAIN loss 0.1370,  acc 0.9620\n",
      "2020-03-16 23:58:48|\t30: TRAIN loss 0.1500,  acc 0.9610\n",
      "2020-03-16 23:58:50|\t40: TRAIN loss 0.1258,  acc 0.9760\n",
      "2020-03-16 23:58:52|\t50: TRAIN loss 0.1058,  acc 0.9780\n",
      "2020-03-16 23:58:55|\t60: TRAIN loss 0.1103,  acc 0.9720\n",
      "2020-03-16 23:58:57|\t70: TRAIN loss 0.0953,  acc 0.9740\n",
      "2020-03-16 23:58:59|\t80: TRAIN loss 0.0923,  acc 0.9710\n",
      "2020-03-16 23:59:02|\t90: TRAIN loss 0.0957,  acc 0.9680\n",
      "2020-03-16 23:59:04|\t99: TRAIN loss 0.0857,  acc 0.9690\n",
      "1 0.9725\n",
      "2020-03-16 23:59:21|\t0: TRAIN loss 2.3320,  acc 0.0870\n",
      "2020-03-16 23:59:23|\t10: TRAIN loss 0.1994,  acc 0.9520\n",
      "2020-03-16 23:59:26|\t20: TRAIN loss 0.1422,  acc 0.9660\n",
      "2020-03-16 23:59:28|\t30: TRAIN loss 0.1523,  acc 0.9650\n",
      "2020-03-16 23:59:30|\t40: TRAIN loss 0.0900,  acc 0.9840\n",
      "2020-03-16 23:59:33|\t50: TRAIN loss 0.1105,  acc 0.9700\n",
      "2020-03-16 23:59:35|\t60: TRAIN loss 0.0948,  acc 0.9760\n",
      "2020-03-16 23:59:37|\t70: TRAIN loss 0.1088,  acc 0.9660\n",
      "2020-03-16 23:59:39|\t80: TRAIN loss 0.0867,  acc 0.9760\n",
      "2020-03-16 23:59:41|\t90: TRAIN loss 0.1027,  acc 0.9740\n",
      "2020-03-16 23:59:43|\t99: TRAIN loss 0.0918,  acc 0.9730\n",
      "2 0.9725833333333334\n",
      "2020-03-17 00:00:00|\t0: TRAIN loss 2.3064,  acc 0.1160\n",
      "2020-03-17 00:00:02|\t10: TRAIN loss 0.1694,  acc 0.9520\n",
      "2020-03-17 00:00:05|\t20: TRAIN loss 0.1415,  acc 0.9550\n",
      "2020-03-17 00:00:07|\t30: TRAIN loss 0.1514,  acc 0.9570\n",
      "2020-03-17 00:00:09|\t40: TRAIN loss 0.1055,  acc 0.9750\n",
      "2020-03-17 00:00:11|\t50: TRAIN loss 0.1036,  acc 0.9700\n",
      "2020-03-17 00:00:14|\t60: TRAIN loss 0.1104,  acc 0.9700\n",
      "2020-03-17 00:00:16|\t70: TRAIN loss 0.1044,  acc 0.9770\n",
      "2020-03-17 00:00:18|\t80: TRAIN loss 0.0845,  acc 0.9830\n",
      "2020-03-17 00:00:20|\t90: TRAIN loss 0.0794,  acc 0.9780\n",
      "2020-03-17 00:00:23|\t99: TRAIN loss 0.0701,  acc 0.9790\n",
      "3 0.97275\n",
      "2020-03-17 00:00:40|\t0: TRAIN loss 2.2911,  acc 0.1830\n",
      "2020-03-17 00:00:42|\t10: TRAIN loss 0.1839,  acc 0.9550\n",
      "2020-03-17 00:00:44|\t20: TRAIN loss 0.1505,  acc 0.9600\n",
      "2020-03-17 00:00:46|\t30: TRAIN loss 0.1139,  acc 0.9760\n",
      "2020-03-17 00:00:49|\t40: TRAIN loss 0.1018,  acc 0.9710\n",
      "2020-03-17 00:00:51|\t50: TRAIN loss 0.1144,  acc 0.9700\n",
      "2020-03-17 00:00:53|\t60: TRAIN loss 0.0951,  acc 0.9750\n",
      "2020-03-17 00:00:55|\t70: TRAIN loss 0.1135,  acc 0.9670\n",
      "2020-03-17 00:00:57|\t80: TRAIN loss 0.1024,  acc 0.9690\n",
      "2020-03-17 00:00:59|\t90: TRAIN loss 0.0827,  acc 0.9780\n",
      "2020-03-17 00:01:01|\t99: TRAIN loss 0.1049,  acc 0.9630\n",
      "4 0.9715833333333334\n",
      "2020-03-17 00:01:18|\t0: TRAIN loss 2.3111,  acc 0.0980\n",
      "2020-03-17 00:01:21|\t10: TRAIN loss 0.1946,  acc 0.9420\n",
      "2020-03-17 00:01:23|\t20: TRAIN loss 0.1567,  acc 0.9600\n",
      "2020-03-17 00:01:25|\t30: TRAIN loss 0.1476,  acc 0.9540\n",
      "2020-03-17 00:01:27|\t40: TRAIN loss 0.0959,  acc 0.9740\n",
      "2020-03-17 00:01:30|\t50: TRAIN loss 0.1370,  acc 0.9580\n",
      "2020-03-17 00:01:32|\t60: TRAIN loss 0.1129,  acc 0.9700\n",
      "2020-03-17 00:01:34|\t70: TRAIN loss 0.1081,  acc 0.9800\n",
      "2020-03-17 00:01:36|\t80: TRAIN loss 0.0792,  acc 0.9740\n",
      "2020-03-17 00:01:38|\t90: TRAIN loss 0.1008,  acc 0.9750\n",
      "2020-03-17 00:01:41|\t99: TRAIN loss 0.0948,  acc 0.9680\n",
      "5 0.97175\n",
      "orientation= 8 0.9722333333333333\n",
      "2020-03-17 00:02:09|\t0: TRAIN loss 2.3155,  acc 0.0870\n",
      "2020-03-17 00:02:14|\t10: TRAIN loss 0.1674,  acc 0.9600\n",
      "2020-03-17 00:02:19|\t20: TRAIN loss 0.0905,  acc 0.9740\n",
      "2020-03-17 00:02:23|\t30: TRAIN loss 0.1111,  acc 0.9700\n",
      "2020-03-17 00:02:27|\t40: TRAIN loss 0.0911,  acc 0.9810\n",
      "2020-03-17 00:02:30|\t47: TRAIN loss 0.0899,  acc 0.9750\n",
      "1 0.971\n",
      "2020-03-17 00:02:59|\t0: TRAIN loss 2.3116,  acc 0.1020\n",
      "2020-03-17 00:03:03|\t10: TRAIN loss 0.1386,  acc 0.9590\n",
      "2020-03-17 00:03:07|\t20: TRAIN loss 0.1219,  acc 0.9660\n",
      "2020-03-17 00:03:11|\t30: TRAIN loss 0.0821,  acc 0.9800\n",
      "2020-03-17 00:03:15|\t40: TRAIN loss 0.1205,  acc 0.9680\n",
      "2020-03-17 00:03:19|\t50: TRAIN loss 0.1061,  acc 0.9720\n",
      "2020-03-17 00:03:22|\t60: TRAIN loss 0.0964,  acc 0.9690\n",
      "2020-03-17 00:03:26|\t70: TRAIN loss 0.0968,  acc 0.9740\n",
      "2020-03-17 00:03:30|\t80: TRAIN loss 0.0794,  acc 0.9750\n",
      "2020-03-17 00:03:34|\t90: TRAIN loss 0.0811,  acc 0.9740\n",
      "2020-03-17 00:03:38|\t99: TRAIN loss 0.0851,  acc 0.9810\n",
      "2 0.9730833333333333\n",
      "2020-03-17 00:04:08|\t0: TRAIN loss 2.3005,  acc 0.1090\n",
      "2020-03-17 00:04:12|\t10: TRAIN loss 0.1481,  acc 0.9550\n",
      "2020-03-17 00:04:16|\t20: TRAIN loss 0.1166,  acc 0.9700\n",
      "2020-03-17 00:04:20|\t30: TRAIN loss 0.0908,  acc 0.9800\n",
      "2020-03-17 00:04:24|\t40: TRAIN loss 0.0880,  acc 0.9770\n",
      "2020-03-17 00:04:28|\t50: TRAIN loss 0.0848,  acc 0.9760\n",
      "2020-03-17 00:04:31|\t60: TRAIN loss 0.0816,  acc 0.9750\n",
      "2020-03-17 00:04:35|\t70: TRAIN loss 0.0779,  acc 0.9780\n",
      "2020-03-17 00:04:39|\t80: TRAIN loss 0.0633,  acc 0.9830\n",
      "2020-03-17 00:04:44|\t90: TRAIN loss 0.0744,  acc 0.9810\n",
      "2020-03-17 00:04:48|\t99: TRAIN loss 0.0695,  acc 0.9830\n",
      "3 0.9741666666666666\n",
      "2020-03-17 00:05:16|\t0: TRAIN loss 2.3076,  acc 0.1090\n",
      "2020-03-17 00:05:20|\t10: TRAIN loss 0.1564,  acc 0.9500\n",
      "2020-03-17 00:05:24|\t20: TRAIN loss 0.1103,  acc 0.9740\n",
      "2020-03-17 00:05:28|\t30: TRAIN loss 0.1127,  acc 0.9660\n",
      "2020-03-17 00:05:32|\t40: TRAIN loss 0.0931,  acc 0.9730\n",
      "2020-03-17 00:05:35|\t50: TRAIN loss 0.1025,  acc 0.9770\n",
      "2020-03-17 00:05:39|\t60: TRAIN loss 0.0984,  acc 0.9770\n",
      "2020-03-17 00:05:43|\t70: TRAIN loss 0.0681,  acc 0.9790\n",
      "2020-03-17 00:05:47|\t80: TRAIN loss 0.0894,  acc 0.9780\n",
      "2020-03-17 00:05:50|\t90: TRAIN loss 0.0708,  acc 0.9820\n",
      "2020-03-17 00:05:55|\t99: TRAIN loss 0.0621,  acc 0.9770\n",
      "4 0.9789166666666667\n",
      "2020-03-17 00:06:26|\t0: TRAIN loss 2.3085,  acc 0.1400\n",
      "2020-03-17 00:06:30|\t10: TRAIN loss 0.1961,  acc 0.9480\n",
      "2020-03-17 00:06:34|\t20: TRAIN loss 0.1309,  acc 0.9630\n",
      "2020-03-17 00:06:38|\t30: TRAIN loss 0.0958,  acc 0.9700\n",
      "2020-03-17 00:06:42|\t40: TRAIN loss 0.1038,  acc 0.9730\n",
      "2020-03-17 00:06:46|\t50: TRAIN loss 0.1099,  acc 0.9710\n",
      "2020-03-17 00:06:50|\t60: TRAIN loss 0.0877,  acc 0.9750\n",
      "2020-03-17 00:06:54|\t70: TRAIN loss 0.0803,  acc 0.9770\n",
      "2020-03-17 00:06:58|\t80: TRAIN loss 0.0619,  acc 0.9850\n",
      "2020-03-17 00:07:01|\t90: TRAIN loss 0.0871,  acc 0.9780\n",
      "2020-03-17 00:07:05|\t99: TRAIN loss 0.0726,  acc 0.9840\n",
      "5 0.97625\n",
      "orientation= 16 0.9746833333333333\n",
      "2020-03-17 00:07:55|\t0: TRAIN loss 2.3129,  acc 0.1290\n",
      "2020-03-17 00:08:02|\t10: TRAIN loss 0.1253,  acc 0.9720\n",
      "2020-03-17 00:08:08|\t20: TRAIN loss 0.0972,  acc 0.9700\n",
      "2020-03-17 00:08:15|\t30: TRAIN loss 0.0747,  acc 0.9790\n",
      "2020-03-17 00:08:22|\t40: TRAIN loss 0.0867,  acc 0.9760\n",
      "2020-03-17 00:08:28|\t50: TRAIN loss 0.0599,  acc 0.9840\n",
      "2020-03-17 00:08:35|\t60: TRAIN loss 0.0759,  acc 0.9800\n",
      "2020-03-17 00:08:42|\t70: TRAIN loss 0.0576,  acc 0.9880\n",
      "2020-03-17 00:08:46|\t75: TRAIN loss 0.0756,  acc 0.9770\n",
      "1 0.9751666666666666\n",
      "2020-03-17 00:09:38|\t0: TRAIN loss 2.3187,  acc 0.0620\n",
      "2020-03-17 00:09:44|\t10: TRAIN loss 0.1187,  acc 0.9700\n",
      "2020-03-17 00:09:51|\t20: TRAIN loss 0.1078,  acc 0.9610\n",
      "2020-03-17 00:09:58|\t30: TRAIN loss 0.0804,  acc 0.9790\n",
      "2020-03-17 00:10:05|\t40: TRAIN loss 0.0835,  acc 0.9770\n",
      "2020-03-17 00:10:12|\t50: TRAIN loss 0.0712,  acc 0.9830\n",
      "2020-03-17 00:10:18|\t60: TRAIN loss 0.0743,  acc 0.9780\n",
      "2020-03-17 00:10:25|\t70: TRAIN loss 0.0763,  acc 0.9770\n"
     ]
    },
    {
     "name": "stdout",
     "output_type": "stream",
     "text": [
      "2020-03-17 00:10:32|\t80: TRAIN loss 0.0711,  acc 0.9770\n",
      "2020-03-17 00:10:38|\t90: TRAIN loss 0.0452,  acc 0.9870\n",
      "2020-03-17 00:10:45|\t99: TRAIN loss 0.0816,  acc 0.9760\n",
      "2 0.97675\n",
      "2020-03-17 00:11:36|\t0: TRAIN loss 2.3002,  acc 0.0790\n",
      "2020-03-17 00:11:43|\t10: TRAIN loss 0.1162,  acc 0.9730\n",
      "2020-03-17 00:11:49|\t20: TRAIN loss 0.0980,  acc 0.9710\n",
      "2020-03-17 00:11:56|\t30: TRAIN loss 0.1159,  acc 0.9750\n",
      "2020-03-17 00:12:03|\t40: TRAIN loss 0.0766,  acc 0.9770\n",
      "2020-03-17 00:12:09|\t50: TRAIN loss 0.0635,  acc 0.9780\n",
      "2020-03-17 00:12:16|\t60: TRAIN loss 0.0807,  acc 0.9750\n",
      "2020-03-17 00:12:23|\t70: TRAIN loss 0.0805,  acc 0.9740\n",
      "2020-03-17 00:12:30|\t80: TRAIN loss 0.0654,  acc 0.9840\n",
      "2020-03-17 00:12:34|\t85: TRAIN loss 0.0784,  acc 0.9770\n",
      "3 0.9788333333333333\n",
      "2020-03-17 00:13:26|\t0: TRAIN loss 2.2882,  acc 0.1790\n",
      "2020-03-17 00:13:33|\t10: TRAIN loss 0.1310,  acc 0.9640\n",
      "2020-03-17 00:13:39|\t20: TRAIN loss 0.1036,  acc 0.9780\n",
      "2020-03-17 00:13:46|\t30: TRAIN loss 0.0732,  acc 0.9820\n",
      "2020-03-17 00:13:53|\t40: TRAIN loss 0.0692,  acc 0.9840\n",
      "2020-03-17 00:13:59|\t50: TRAIN loss 0.0733,  acc 0.9830\n",
      "2020-03-17 00:14:06|\t60: TRAIN loss 0.0709,  acc 0.9810\n",
      "2020-03-17 00:14:13|\t70: TRAIN loss 0.0662,  acc 0.9820\n",
      "2020-03-17 00:14:19|\t80: TRAIN loss 0.0636,  acc 0.9810\n",
      "2020-03-17 00:14:26|\t90: TRAIN loss 0.0540,  acc 0.9840\n",
      "2020-03-17 00:14:33|\t99: TRAIN loss 0.0708,  acc 0.9790\n",
      "4 0.9781666666666666\n",
      "2020-03-17 00:15:23|\t0: TRAIN loss 2.3219,  acc 0.0590\n",
      "2020-03-17 00:15:30|\t10: TRAIN loss 0.1335,  acc 0.9610\n",
      "2020-03-17 00:15:36|\t20: TRAIN loss 0.1031,  acc 0.9670\n",
      "2020-03-17 00:15:43|\t30: TRAIN loss 0.0980,  acc 0.9660\n",
      "2020-03-17 00:15:50|\t40: TRAIN loss 0.0979,  acc 0.9710\n",
      "2020-03-17 00:15:56|\t50: TRAIN loss 0.0661,  acc 0.9850\n",
      "2020-03-17 00:16:03|\t60: TRAIN loss 0.0649,  acc 0.9800\n",
      "2020-03-17 00:16:09|\t70: TRAIN loss 0.0809,  acc 0.9750\n",
      "2020-03-17 00:16:16|\t80: TRAIN loss 0.0956,  acc 0.9750\n",
      "2020-03-17 00:16:24|\t90: TRAIN loss 0.0839,  acc 0.9770\n",
      "2020-03-17 00:16:31|\t99: TRAIN loss 0.0769,  acc 0.9770\n",
      "5 0.977\n",
      "orientation= 32 0.9771833333333333\n"
     ]
    }
   ],
   "source": [
    "lgdc=LogisticGDClassifier()\n",
    "\n",
    "K=5\n",
    "block=4\n",
    "orientations=[1,2,4,8,16,32]\n",
    "\n",
    "val_accuracy=[]\n",
    "for orientation in orientations:\n",
    "    model=mnist.ImageFeatureModel(lgdc,size=block,orientations=orientation)\n",
    "    accuracy=validate_model(model,K,images,labels)\n",
    "    val_accuracy.append(accuracy)\n",
    "    print(\"orientation=\",orientation,accuracy)"
   ]
  },
  {
   "cell_type": "code",
   "execution_count": 88,
   "metadata": {
    "scrolled": true
   },
   "outputs": [
    {
     "name": "stdout",
     "output_type": "stream",
     "text": [
      "The best orientation is:  32\n",
      "The validation accuracy is:  0.9771833333333333\n"
     ]
    }
   ],
   "source": [
    "best_index=np.array(val_accuracy).argmax()\n",
    "best_orientation=val_accuracy[best_index]\n",
    "print('The best orientation is: ', orientations[best_index])\n",
    "print('The validation accuracy is: ', val_accuracy[best_index])"
   ]
  },
  {
   "cell_type": "code",
   "execution_count": 89,
   "metadata": {},
   "outputs": [
    {
     "data": {
      "text/plain": [
       "Text(0.5, 1.0, 'validation accuracy vs.  orientations')"
      ]
     },
     "execution_count": 89,
     "metadata": {},
     "output_type": "execute_result"
    },
    {
     "data": {
      "image/png": "[encoded data removed]",
      "text/plain": [
       "<Figure size 432x288 with 1 Axes>"
      ]
     },
     "metadata": {
      "needs_background": "light"
     },
     "output_type": "display_data"
    }
   ],
   "source": [
    "plt.plot(orientations, val_accuracy)\n",
    "plt.title('validation accuracy vs.  orientations')"
   ]
  },
  {
   "cell_type": "code",
   "execution_count": null,
   "metadata": {
    "collapsed": true
   },
   "outputs": [],
   "source": []
  }
 ],
 "metadata": {
  "kernelspec": {
   "display_name": "Python 3",
   "language": "python",
   "name": "python3"
  },
  "language_info": {
   "codemirror_mode": {
    "name": "ipython",
    "version": 3
   },
   "file_extension": ".py",
   "mimetype": "text/x-python",
   "name": "python",
   "nbconvert_exporter": "python",
   "pygments_lexer": "ipython3",
   "version": "3.7.3"
  },
  "toc": {
   "base_numbering": 1,
   "nav_menu": {},
   "number_sections": true,
   "sideBar": true,
   "skip_h1_title": true,
   "title_cell": "Table of Contents",
   "title_sidebar": "Contents",
   "toc_cell": false,
   "toc_position": {},
   "toc_section_display": "block",
   "toc_window_display": false
  }
 },
 "nbformat": 4,
 "nbformat_minor": 2
}
