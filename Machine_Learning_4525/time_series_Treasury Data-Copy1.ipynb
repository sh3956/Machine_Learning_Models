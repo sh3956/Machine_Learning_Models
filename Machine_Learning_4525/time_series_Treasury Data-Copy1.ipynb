{
 "cells": [
  {
   "cell_type": "markdown",
   "metadata": {},
   "source": [
    "## Preliminararies"
   ]
  },
  {
   "cell_type": "markdown",
   "metadata": {},
   "source": [
    "### Imports"
   ]
  },
  {
   "cell_type": "code",
   "execution_count": 42,
   "metadata": {},
   "outputs": [],
   "source": [
    "import os\n",
    "from datetime import date\n",
    "\n",
    "import numpy as np\n",
    "import pandas as pd\n",
    "\n",
    "import matplotlib.pyplot as plt\n",
    "\n",
    "import statsmodels.tsa.stattools\n",
    "import statsmodels.graphics.tsaplots\n",
    "\n",
    "%matplotlib inline"
   ]
  },
  {
   "cell_type": "markdown",
   "metadata": {},
   "source": [
    "### Data Dir"
   ]
  },
  {
   "cell_type": "code",
   "execution_count": 14,
   "metadata": {},
   "outputs": [],
   "source": [
    "data_dir=\"../../data/finance\""
   ]
  },
  {
   "cell_type": "markdown",
   "metadata": {},
   "source": [
    "## CMT Treasury Rate Data"
   ]
  },
  {
   "cell_type": "markdown",
   "metadata": {},
   "source": [
    "<div class=\"alert alert-block alert-info\"> Problem 1.0 </div>\n",
    "Load the data from the \"H15.csv\" file into a pandas dataframe.\n",
    "\n",
    "You must have run the `FinanceDataSets` notebook first to generate that file.\n"
   ]
  },
  {
   "cell_type": "code",
   "execution_count": 85,
   "metadata": {},
   "outputs": [],
   "source": [
    "data_dir=\"../../data/finance\"\n",
    "data=pd.read_csv(data_dir+'/H15.csv')"
   ]
  },
  {
   "cell_type": "code",
   "execution_count": 86,
   "metadata": {},
   "outputs": [
    {
     "data": {
      "text/html": [
       "<div>\n",
       "<style scoped>\n",
       "    .dataframe tbody tr th:only-of-type {\n",
       "        vertical-align: middle;\n",
       "    }\n",
       "\n",
       "    .dataframe tbody tr th {\n",
       "        vertical-align: top;\n",
       "    }\n",
       "\n",
       "    .dataframe thead th {\n",
       "        text-align: right;\n",
       "    }\n",
       "</style>\n",
       "<table border=\"1\" class=\"dataframe\">\n",
       "  <thead>\n",
       "    <tr style=\"text-align: right;\">\n",
       "      <th></th>\n",
       "      <th>DATE</th>\n",
       "      <th>3M</th>\n",
       "      <th>6M</th>\n",
       "      <th>1Y</th>\n",
       "      <th>2Y</th>\n",
       "      <th>3Y</th>\n",
       "      <th>5Y</th>\n",
       "      <th>7Y</th>\n",
       "      <th>10Y</th>\n",
       "      <th>20Y</th>\n",
       "      <th>30Y</th>\n",
       "    </tr>\n",
       "  </thead>\n",
       "  <tbody>\n",
       "    <tr>\n",
       "      <th>0</th>\n",
       "      <td>2006-02-09</td>\n",
       "      <td>4.52</td>\n",
       "      <td>4.67</td>\n",
       "      <td>4.66</td>\n",
       "      <td>4.66</td>\n",
       "      <td>4.62</td>\n",
       "      <td>4.55</td>\n",
       "      <td>4.55</td>\n",
       "      <td>4.54</td>\n",
       "      <td>4.72</td>\n",
       "      <td>4.51</td>\n",
       "    </tr>\n",
       "    <tr>\n",
       "      <th>1</th>\n",
       "      <td>2006-02-10</td>\n",
       "      <td>4.53</td>\n",
       "      <td>4.70</td>\n",
       "      <td>4.70</td>\n",
       "      <td>4.69</td>\n",
       "      <td>4.67</td>\n",
       "      <td>4.59</td>\n",
       "      <td>4.59</td>\n",
       "      <td>4.59</td>\n",
       "      <td>4.76</td>\n",
       "      <td>4.55</td>\n",
       "    </tr>\n",
       "    <tr>\n",
       "      <th>2</th>\n",
       "      <td>2006-02-13</td>\n",
       "      <td>4.55</td>\n",
       "      <td>4.71</td>\n",
       "      <td>4.70</td>\n",
       "      <td>4.68</td>\n",
       "      <td>4.66</td>\n",
       "      <td>4.58</td>\n",
       "      <td>4.58</td>\n",
       "      <td>4.58</td>\n",
       "      <td>4.76</td>\n",
       "      <td>4.56</td>\n",
       "    </tr>\n",
       "    <tr>\n",
       "      <th>3</th>\n",
       "      <td>2006-02-14</td>\n",
       "      <td>4.55</td>\n",
       "      <td>4.72</td>\n",
       "      <td>4.71</td>\n",
       "      <td>4.69</td>\n",
       "      <td>4.68</td>\n",
       "      <td>4.61</td>\n",
       "      <td>4.61</td>\n",
       "      <td>4.62</td>\n",
       "      <td>4.80</td>\n",
       "      <td>4.60</td>\n",
       "    </tr>\n",
       "    <tr>\n",
       "      <th>4</th>\n",
       "      <td>2006-02-15</td>\n",
       "      <td>4.55</td>\n",
       "      <td>4.70</td>\n",
       "      <td>4.70</td>\n",
       "      <td>4.71</td>\n",
       "      <td>4.68</td>\n",
       "      <td>4.60</td>\n",
       "      <td>4.60</td>\n",
       "      <td>4.61</td>\n",
       "      <td>4.78</td>\n",
       "      <td>4.58</td>\n",
       "    </tr>\n",
       "  </tbody>\n",
       "</table>\n",
       "</div>"
      ],
      "text/plain": [
       "         DATE    3M    6M    1Y    2Y    3Y    5Y    7Y   10Y   20Y   30Y\n",
       "0  2006-02-09  4.52  4.67  4.66  4.66  4.62  4.55  4.55  4.54  4.72  4.51\n",
       "1  2006-02-10  4.53  4.70  4.70  4.69  4.67  4.59  4.59  4.59  4.76  4.55\n",
       "2  2006-02-13  4.55  4.71  4.70  4.68  4.66  4.58  4.58  4.58  4.76  4.56\n",
       "3  2006-02-14  4.55  4.72  4.71  4.69  4.68  4.61  4.61  4.62  4.80  4.60\n",
       "4  2006-02-15  4.55  4.70  4.70  4.71  4.68  4.60  4.60  4.61  4.78  4.58"
      ]
     },
     "execution_count": 86,
     "metadata": {},
     "output_type": "execute_result"
    }
   ],
   "source": [
    "data.head()"
   ]
  },
  {
   "cell_type": "markdown",
   "metadata": {},
   "source": [
    "<div class=\"alert alert-block alert-info\">Problem 1.1</div>\n",
    "Plot the history of the 2 year and 5 year CMT rates \n",
    "(the `plot()` function of the `pd.DataFrame` object may be useful)"
   ]
  },
  {
   "cell_type": "code",
   "execution_count": 87,
   "metadata": {},
   "outputs": [
    {
     "data": {
      "image/png": "[encoded data removed]",
      "text/plain": [
       "<Figure size 432x288 with 1 Axes>"
      ]
     },
     "metadata": {
      "needs_background": "light"
     },
     "output_type": "display_data"
    },
    {
     "data": {
      "image/png": "[encoded data removed]",
      "text/plain": [
       "<Figure size 432x288 with 1 Axes>"
      ]
     },
     "metadata": {
      "needs_background": "light"
     },
     "output_type": "display_data"
    }
   ],
   "source": [
    "data['2Y'].plot()\n",
    "plt.title('2 year')\n",
    "plt.show()\n",
    "\n",
    "data['5Y'].plot()\n",
    "plt.title('5 year')\n",
    "plt.show()"
   ]
  },
  {
   "cell_type": "markdown",
   "metadata": {},
   "source": [
    "<div class=\"alert alert-block alert-info\">Problem 1.2</div>\n",
    "\n",
    "Do the 5T CMT rates  at two  consecutive dates  look independent of each other?"
   ]
  },
  {
   "cell_type": "code",
   "execution_count": 88,
   "metadata": {},
   "outputs": [
    {
     "name": "stdout",
     "output_type": "stream",
     "text": [
      "No, it seems like they have the same trend despite different levels of noice.\n"
     ]
    }
   ],
   "source": [
    "print('No, it seems like they have the same trend despite different levels of noice.')"
   ]
  },
  {
   "cell_type": "markdown",
   "metadata": {},
   "source": [
    "### Auto Correlation of Rate Levels"
   ]
  },
  {
   "cell_type": "markdown",
   "metadata": {},
   "source": [
    "For two time series of length $N$, the **auto correlation** function is defined by ([see](https://www.mathworks.com/help/econ/autocorrelation-and-partial-autocorrelation.html),\n",
    "or [wikipedia](https://en.wikipedia.org/wiki/Autocorrelation)\n",
    "is defined as\n",
    "\n",
    "$$\n",
    "    \\rho_\\tau(X,Y) = \\frac{C_\\tau(X,Y)}{C_0(X,Y)}\n",
    "$$\n",
    "where the shifted covariance $C_\\tau(X,Y)$ is defined by\n",
    "$$\n",
    "    C_\\tau(X,Y)= \\sum_{t=0}^{N-\\tau} (X_{t}-\\mu_X)(Y_{t+\\tau}-\\mu_Y)\n",
    "$$\n",
    "and where $\\mu_X$ and $\\mu_Y$ are the sample means\n",
    "\\begin{align}\n",
    "    \\mu_X &=\\frac{1}{N} \\sum_{t=1}^N X_t \\\\\n",
    "    \\mu_Y &=\\frac{1}{N} \\sum_{t=1}^N Y_t \\\\\n",
    "\\end{align} \n",
    "\n",
    "Other definitions that differ by factors of order $\\frac{1}{N-k}$ are used sometimes, but give similar results provided $N \\gg k$. "
   ]
  },
  {
   "cell_type": "markdown",
   "metadata": {},
   "source": [
    "<div class=\"alert alert-block alert-info\">Problem 1.3</div>\n",
    "Compute the auto correlation of the 5Y CMT rate with itself for lags $\\tau=0,1,\\dots,5$.\n",
    "\n",
    "What would you expect those correlations to be if rates for different times were independent from each other?"
   ]
  },
  {
   "cell_type": "code",
   "execution_count": 89,
   "metadata": {},
   "outputs": [],
   "source": [
    "def acf(X, Y, t):\n",
    "    if t==0:\n",
    "        return 1\n",
    "    X_mean = np.mean(X)\n",
    "    Y_mean = np.mean(Y)\n",
    "    C_0 = np.sum((X-X_mean)*(Y-Y_mean))\n",
    "    C_t = np.sum(((X-X_mean)[0:-t])*((Y-Y_mean)[t:]))\n",
    "    return C_t / C_0"
   ]
  },
  {
   "cell_type": "code",
   "execution_count": 90,
   "metadata": {},
   "outputs": [
    {
     "data": {
      "text/plain": [
       "array([1.        , 0.99817712, 0.99642824, 0.99483342, 0.9931474 ,\n",
       "       0.99148257])"
      ]
     },
     "execution_count": 90,
     "metadata": {},
     "output_type": "execute_result"
    }
   ],
   "source": [
    "y5 = data['5Y'].values\n",
    "result=np.zeros(6)\n",
    "for t in range(6):\n",
    "    result[t]=acf(y5,y5,t)\n",
    "result"
   ]
  },
  {
   "cell_type": "markdown",
   "metadata": {},
   "source": [
    "<div class=\"alert alert-block alert-info\">Problem 1.4</div>\n",
    "Compare your results to the auto correlations computed by the function [`statsmodels.tsa.stattools.acf`](https://www.statsmodels.org/dev/generated/statsmodels.tsa.stattools.acf.html)"
   ]
  },
  {
   "cell_type": "code",
   "execution_count": 91,
   "metadata": {},
   "outputs": [
    {
     "name": "stdout",
     "output_type": "stream",
     "text": [
      "[1.         0.99817712 0.99642824 0.99483342 0.9931474  0.99148257]\n",
      "They look basically the same.\n"
     ]
    }
   ],
   "source": [
    "acf_2=statsmodels.tsa.stattools.acf(y5)[:6]\n",
    "print(acf_2)\n",
    "print('They look basically the same.')"
   ]
  },
  {
   "cell_type": "markdown",
   "metadata": {},
   "source": [
    "<div class=\"alert alert-block alert-info\">Problem 1.5</div>\n",
    "\n",
    "Use function [`statsmodels.graphics.tsaplots.plot_acf`](https://www.statsmodels.org/dev/generated/statsmodels.graphics.tsaplots.plot_acf.html)\n",
    "to plot the auto correlation for the 50 first $\\tau$ lags (use the argument `lags` to that function )\n",
    "\n",
    "The light blue shaded area in the graph is the confidence interval for the empirical auto-correlation assuming $X$ and $ Y$ times series\n",
    "are uncorrelated at lag $\\tau$."
   ]
  },
  {
   "cell_type": "code",
   "execution_count": 92,
   "metadata": {},
   "outputs": [
    {
     "data": {
      "image/png": "[encoded data removed]",
      "text/plain": [
       "<Figure size 432x288 with 1 Axes>"
      ]
     },
     "metadata": {
      "needs_background": "light"
     },
     "output_type": "display_data"
    }
   ],
   "source": [
    "g=statsmodels.graphics.tsaplots.plot_acf(y5,lags=50)"
   ]
  },
  {
   "cell_type": "markdown",
   "metadata": {},
   "source": [
    "<div class=\"alert alert-block alert-info\">Problem 1.6</div>\n",
    "It the auto correlation function significantly difference from zero up to lag 50?\n"
   ]
  },
  {
   "cell_type": "code",
   "execution_count": 93,
   "metadata": {},
   "outputs": [
    {
     "name": "stdout",
     "output_type": "stream",
     "text": [
      "Yes, they are significantly different from 0.\n"
     ]
    }
   ],
   "source": [
    "print('Yes, they are significantly different from 0.')"
   ]
  },
  {
   "cell_type": "markdown",
   "metadata": {},
   "source": [
    "### Time series of the daily changes of the CMT 5Y rate"
   ]
  },
  {
   "cell_type": "markdown",
   "metadata": {},
   "source": [
    "<div class=\"alert alert-block alert-info\">Problem 1.7</div>\n",
    "create a series  for the 1-lag difference of CMT rates (daily change of the rate)\n",
    "$$\n",
    "    \\Delta_1 Y_t = Y_{t+1}-Y_{t}\n",
    "$$"
   ]
  },
  {
   "cell_type": "code",
   "execution_count": 94,
   "metadata": {},
   "outputs": [],
   "source": [
    "delta1_y = y5[1:]-y5[:-1]"
   ]
  },
  {
   "cell_type": "markdown",
   "metadata": {},
   "source": [
    "<div class=\"alert alert-block alert-info\">Problem 1.8</div>\n",
    "Compute the auto correlation of the daily changes of the 5Y CMT Rate\n",
    "$$\n",
    "    \\rho_\\tau(\\Delta_1 Y_t,\\Delta_1 Y_t)\n",
    "$$\n",
    "for lags $\\tau=0,1,\\cdots 5$.\n"
   ]
  },
  {
   "cell_type": "code",
   "execution_count": 95,
   "metadata": {},
   "outputs": [
    {
     "name": "stdout",
     "output_type": "stream",
     "text": [
      "[ 1.         -0.04138359 -0.0617599   0.03177387 -0.00863381 -0.03012158]\n"
     ]
    }
   ],
   "source": [
    "acf_3=statsmodels.tsa.stattools.acf(delta1_y)[:6]\n",
    "print(acf_3)"
   ]
  },
  {
   "cell_type": "markdown",
   "metadata": {},
   "source": [
    "<div class=\"alert alert-block alert-info\">Problem 1.9</div>\n",
    "use `statsmodels.graphics.tsaplots.plot_acf` to visual investigate if the 50 first lag correlations are significantly different from zero.\n"
   ]
  },
  {
   "cell_type": "code",
   "execution_count": 96,
   "metadata": {},
   "outputs": [
    {
     "name": "stdout",
     "output_type": "stream",
     "text": [
      "First three lags exceed confidence interval, but only the first one is significantly different from 0.\n"
     ]
    },
    {
     "data": {
      "image/png": "[encoded data removed]",
      "text/plain": [
       "<Figure size 432x288 with 1 Axes>"
      ]
     },
     "metadata": {
      "needs_background": "light"
     },
     "output_type": "display_data"
    }
   ],
   "source": [
    "g2=statsmodels.graphics.tsaplots.plot_acf(delta1_y,lags=50)\n",
    "print('First three lags exceed confidence interval, but only the first one is significantly different from 0.')"
   ]
  },
  {
   "cell_type": "markdown",
   "metadata": {},
   "source": [
    "## Equity Market Indexes"
   ]
  },
  {
   "cell_type": "markdown",
   "metadata": {},
   "source": [
    "<div class=\"alert alert-block alert-info\"> Problem 2.0 </div>\n",
    "Load the data \"RussellIndexes.csv\" file into a pandas dataframe."
   ]
  },
  {
   "cell_type": "code",
   "execution_count": 98,
   "metadata": {},
   "outputs": [
    {
     "data": {
      "text/html": [
       "<div>\n",
       "<style scoped>\n",
       "    .dataframe tbody tr th:only-of-type {\n",
       "        vertical-align: middle;\n",
       "    }\n",
       "\n",
       "    .dataframe tbody tr th {\n",
       "        vertical-align: top;\n",
       "    }\n",
       "\n",
       "    .dataframe thead th {\n",
       "        text-align: right;\n",
       "    }\n",
       "</style>\n",
       "<table border=\"1\" class=\"dataframe\">\n",
       "  <thead>\n",
       "    <tr style=\"text-align: right;\">\n",
       "      <th></th>\n",
       "      <th>DATE</th>\n",
       "      <th>RU3000</th>\n",
       "      <th>RU2000</th>\n",
       "      <th>RU1000V</th>\n",
       "      <th>RU1000</th>\n",
       "      <th>RU2000V</th>\n",
       "      <th>RU1000G</th>\n",
       "      <th>RUMIDCAP</th>\n",
       "      <th>RU2000G</th>\n",
       "      <th>RU3000V</th>\n",
       "      <th>RMIDGR</th>\n",
       "      <th>RMIDVL</th>\n",
       "      <th>RU3000G</th>\n",
       "    </tr>\n",
       "  </thead>\n",
       "  <tbody>\n",
       "    <tr>\n",
       "      <th>0</th>\n",
       "      <td>1995-05-31</td>\n",
       "      <td>1032.69</td>\n",
       "      <td>982.04</td>\n",
       "      <td>192.75</td>\n",
       "      <td>1036.37</td>\n",
       "      <td>1203.23</td>\n",
       "      <td>181.34</td>\n",
       "      <td>1242.92</td>\n",
       "      <td>1190.50</td>\n",
       "      <td>1000.00</td>\n",
       "      <td>338.75</td>\n",
       "      <td>328.35</td>\n",
       "      <td>1000.00</td>\n",
       "    </tr>\n",
       "    <tr>\n",
       "      <th>1</th>\n",
       "      <td>1995-06-01</td>\n",
       "      <td>1034.42</td>\n",
       "      <td>986.60</td>\n",
       "      <td>193.05</td>\n",
       "      <td>1037.77</td>\n",
       "      <td>1209.42</td>\n",
       "      <td>181.55</td>\n",
       "      <td>1246.34</td>\n",
       "      <td>1195.46</td>\n",
       "      <td>1001.91</td>\n",
       "      <td>339.98</td>\n",
       "      <td>329.00</td>\n",
       "      <td>1001.45</td>\n",
       "    </tr>\n",
       "    <tr>\n",
       "      <th>2</th>\n",
       "      <td>1995-06-02</td>\n",
       "      <td>1034.56</td>\n",
       "      <td>989.48</td>\n",
       "      <td>192.99</td>\n",
       "      <td>1037.61</td>\n",
       "      <td>1212.55</td>\n",
       "      <td>181.54</td>\n",
       "      <td>1247.38</td>\n",
       "      <td>1199.32</td>\n",
       "      <td>1001.90</td>\n",
       "      <td>340.23</td>\n",
       "      <td>329.30</td>\n",
       "      <td>1001.72</td>\n",
       "    </tr>\n",
       "    <tr>\n",
       "      <th>3</th>\n",
       "      <td>1995-06-05</td>\n",
       "      <td>1041.21</td>\n",
       "      <td>996.50</td>\n",
       "      <td>194.27</td>\n",
       "      <td>1044.21</td>\n",
       "      <td>1219.08</td>\n",
       "      <td>182.66</td>\n",
       "      <td>1259.02</td>\n",
       "      <td>1209.81</td>\n",
       "      <td>1008.40</td>\n",
       "      <td>343.85</td>\n",
       "      <td>331.99</td>\n",
       "      <td>1008.11</td>\n",
       "    </tr>\n",
       "    <tr>\n",
       "      <th>4</th>\n",
       "      <td>1995-06-06</td>\n",
       "      <td>1041.04</td>\n",
       "      <td>998.22</td>\n",
       "      <td>194.20</td>\n",
       "      <td>1043.82</td>\n",
       "      <td>1221.69</td>\n",
       "      <td>182.59</td>\n",
       "      <td>1258.83</td>\n",
       "      <td>1211.42</td>\n",
       "      <td>1008.28</td>\n",
       "      <td>343.47</td>\n",
       "      <td>332.23</td>\n",
       "      <td>1007.89</td>\n",
       "    </tr>\n",
       "  </tbody>\n",
       "</table>\n",
       "</div>"
      ],
      "text/plain": [
       "         DATE   RU3000  RU2000  RU1000V   RU1000  RU2000V  RU1000G  RUMIDCAP  \\\n",
       "0  1995-05-31  1032.69  982.04   192.75  1036.37  1203.23   181.34   1242.92   \n",
       "1  1995-06-01  1034.42  986.60   193.05  1037.77  1209.42   181.55   1246.34   \n",
       "2  1995-06-02  1034.56  989.48   192.99  1037.61  1212.55   181.54   1247.38   \n",
       "3  1995-06-05  1041.21  996.50   194.27  1044.21  1219.08   182.66   1259.02   \n",
       "4  1995-06-06  1041.04  998.22   194.20  1043.82  1221.69   182.59   1258.83   \n",
       "\n",
       "   RU2000G  RU3000V  RMIDGR  RMIDVL  RU3000G  \n",
       "0  1190.50  1000.00  338.75  328.35  1000.00  \n",
       "1  1195.46  1001.91  339.98  329.00  1001.45  \n",
       "2  1199.32  1001.90  340.23  329.30  1001.72  \n",
       "3  1209.81  1008.40  343.85  331.99  1008.11  \n",
       "4  1211.42  1008.28  343.47  332.23  1007.89  "
      ]
     },
     "execution_count": 98,
     "metadata": {},
     "output_type": "execute_result"
    }
   ],
   "source": [
    "data2=pd.read_csv(data_dir+\"/RussellIndexes.csv\")\n",
    "data2.head()"
   ]
  },
  {
   "cell_type": "markdown",
   "metadata": {},
   "source": [
    "<div class=\"alert alert-block alert-info\">Problem 2.1</div>\n",
    "Plot the history of the RU3000 and RUMIDCAP equity indexes \n",
    "(the `plot()` function of the `pd.DataFrame` object by be useful)"
   ]
  },
  {
   "cell_type": "code",
   "execution_count": 104,
   "metadata": {},
   "outputs": [
    {
     "data": {
      "image/png": "[encoded data removed]",
      "text/plain": [
       "<Figure size 432x288 with 1 Axes>"
      ]
     },
     "metadata": {
      "needs_background": "light"
     },
     "output_type": "display_data"
    },
    {
     "data": {
      "image/png": "[encoded data removed]",
      "text/plain": [
       "<Figure size 432x288 with 1 Axes>"
      ]
     },
     "metadata": {
      "needs_background": "light"
     },
     "output_type": "display_data"
    }
   ],
   "source": [
    "data2[\"RU3000\"].plot()\n",
    "plt.title('RU3000 Graph')\n",
    "plt.show()\n",
    "data2['RUMIDCAP'].plot()\n",
    "plt.title('RUMIDCAP Graph')\n",
    "plt.show()"
   ]
  },
  {
   "cell_type": "markdown",
   "metadata": {},
   "source": [
    "<div class=\"alert alert-block alert-info\">Problem 2.2</div>\n",
    "Plot the history of the log of RU3000 and RUMIDCAP equity indexes \n",
    "(the `plot()` function of the `pd.DataFrame` object by be useful)"
   ]
  },
  {
   "cell_type": "code",
   "execution_count": 114,
   "metadata": {},
   "outputs": [
    {
     "data": {
      "image/png": "[encoded data removed]",
      "text/plain": [
       "<Figure size 432x288 with 1 Axes>"
      ]
     },
     "metadata": {
      "needs_background": "light"
     },
     "output_type": "display_data"
    },
    {
     "data": {
      "image/png": "[encoded data removed]",
      "text/plain": [
       "<Figure size 432x288 with 1 Axes>"
      ]
     },
     "metadata": {
      "needs_background": "light"
     },
     "output_type": "display_data"
    }
   ],
   "source": [
    "l_1 = np.log(data2['RU3000'])\n",
    "l_2 = np.log(data2['RUMIDCAP'])\n",
    "l_1.plot()\n",
    "plt.title('log of ru3000 plot')\n",
    "plt.show()\n",
    "l_2.plot()\n",
    "plt.title('log of rumidcap plot')\n",
    "plt.show()"
   ]
  },
  {
   "cell_type": "markdown",
   "metadata": {},
   "source": [
    "<div class=\"alert alert-block alert-info\">Problem 2.3</div>\n",
    "use `statsmodels.graphics.tsaplots.plot_acf` to visual investigate if the 50 first lag correlations  of the log of RU3000  are significantly different from zero.\n"
   ]
  },
  {
   "cell_type": "code",
   "execution_count": 116,
   "metadata": {},
   "outputs": [
    {
     "data": {
      "image/png": "[encoded data removed]",
      "text/plain": [
       "<Figure size 432x288 with 1 Axes>"
      ]
     },
     "metadata": {
      "needs_background": "light"
     },
     "output_type": "display_data"
    }
   ],
   "source": [
    "data_ru3000 = data2['RU3000'].values\n",
    "g3=statsmodels.graphics.tsaplots.plot_acf(data_ru3000,lags=50)"
   ]
  },
  {
   "cell_type": "code",
   "execution_count": 118,
   "metadata": {},
   "outputs": [
    {
     "name": "stdout",
     "output_type": "stream",
     "text": [
      "Yes, they are significantly differnet from 0.\n"
     ]
    }
   ],
   "source": [
    "print('Yes, they are significantly differnet from 0.')"
   ]
  },
  {
   "cell_type": "markdown",
   "metadata": {},
   "source": [
    "<div class=\"alert alert-block alert-info\">Problem 2.4</div>\n",
    "create a series for the 1-lag difference of the Russell 3000 Log levels\n",
    "(the daily log returns of Rusell 3000).\n",
    "\n",
    "Use `statsmodels.graphics.tsaplots.plot_acf` to investigate if there are significant auto correlations\n",
    "for the first 50 lags of the daily log returns for Rusell 3000."
   ]
  },
  {
   "cell_type": "code",
   "execution_count": 119,
   "metadata": {},
   "outputs": [],
   "source": [
    "delta1_ru3000=data_ru3000[1:]-data_ru3000[:-1]"
   ]
  },
  {
   "cell_type": "code",
   "execution_count": 120,
   "metadata": {},
   "outputs": [
    {
     "data": {
      "image/png": "[encoded data removed]",
      "text/plain": [
       "<Figure size 432x288 with 1 Axes>"
      ]
     },
     "metadata": {
      "needs_background": "light"
     },
     "output_type": "display_data"
    }
   ],
   "source": [
    "g4=statsmodels.graphics.tsaplots.plot_acf(delta1_ru3000,lags=50)"
   ]
  },
  {
   "cell_type": "code",
   "execution_count": 121,
   "metadata": {},
   "outputs": [
    {
     "name": "stdout",
     "output_type": "stream",
     "text": [
      "First three lags exceed the confidence interview, but only the first lag is significantly different from 0.\n"
     ]
    }
   ],
   "source": [
    "print('First three lags exceed the confidence interview, but only the first lag is significantly different from 0.')"
   ]
  },
  {
   "cell_type": "code",
   "execution_count": null,
   "metadata": {},
   "outputs": [],
   "source": []
  }
 ],
 "metadata": {
  "kernelspec": {
   "display_name": "Python 3",
   "language": "python",
   "name": "python3"
  },
  "language_info": {
   "codemirror_mode": {
    "name": "ipython",
    "version": 3
   },
   "file_extension": ".py",
   "mimetype": "text/x-python",
   "name": "python",
   "nbconvert_exporter": "python",
   "pygments_lexer": "ipython3",
   "version": "3.7.3"
  },
  "toc": {
   "base_numbering": 1,
   "nav_menu": {},
   "number_sections": true,
   "sideBar": true,
   "skip_h1_title": true,
   "title_cell": "Table of Contents",
   "title_sidebar": "Contents",
   "toc_cell": false,
   "toc_position": {},
   "toc_section_display": true,
   "toc_window_display": false
  }
 },
 "nbformat": 4,
 "nbformat_minor": 2
}
