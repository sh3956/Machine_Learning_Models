{
 "cells": [
  {
   "cell_type": "markdown",
   "metadata": {},
   "source": [
    "## Preliminaries"
   ]
  },
  {
   "cell_type": "code",
   "execution_count": 1,
   "metadata": {
    "ExecuteTime": {
     "end_time": "2019-03-06T20:18:01.573228Z",
     "start_time": "2019-03-06T20:17:54.511328Z"
    }
   },
   "outputs": [],
   "source": [
    "import numpy as np\n",
    "import pandas as pd\n",
    "\n",
    "import matplotlib.pyplot  as plt \n",
    "\n",
    "from sklearn.discriminant_analysis import LinearDiscriminantAnalysis as LDA\n",
    "from sklearn.model_selection import train_test_split\n",
    "import sklearn.metrics as metrics\n",
    "\n",
    "%matplotlib inline"
   ]
  },
  {
   "cell_type": "markdown",
   "metadata": {},
   "source": [
    "## Prepare Data"
   ]
  },
  {
   "cell_type": "markdown",
   "metadata": {},
   "source": [
    "<div class=\"alert alert-block alert-info\"> Problem 0.1 </div>\n",
    "Read the file 'fair_ml_data.csv' provided with this homework set into a panda's data frame"
   ]
  },
  {
   "cell_type": "code",
   "execution_count": 26,
   "metadata": {
    "ExecuteTime": {
     "end_time": "2019-03-06T20:18:01.575728Z",
     "start_time": "2019-03-06T20:18:01.573228Z"
    }
   },
   "outputs": [],
   "source": [
    "data_dir=\"../../data/fair_ml\"\n"
   ]
  },
  {
   "cell_type": "code",
   "execution_count": 27,
   "metadata": {
    "ExecuteTime": {
     "end_time": "2019-03-06T20:18:01.595728Z",
     "start_time": "2019-03-06T20:18:01.575728Z"
    }
   },
   "outputs": [],
   "source": [
    "filename=data_dir+\"/fair_ml.csv\""
   ]
  },
  {
   "cell_type": "code",
   "execution_count": 28,
   "metadata": {
    "ExecuteTime": {
     "end_time": "2019-03-06T20:18:01.841228Z",
     "start_time": "2019-03-06T20:18:01.598228Z"
    }
   },
   "outputs": [],
   "source": [
    "df=pd.read_csv(filename)"
   ]
  },
  {
   "cell_type": "code",
   "execution_count": 33,
   "metadata": {},
   "outputs": [
    {
     "data": {
      "text/html": [
       "<div>\n",
       "<style scoped>\n",
       "    .dataframe tbody tr th:only-of-type {\n",
       "        vertical-align: middle;\n",
       "    }\n",
       "\n",
       "    .dataframe tbody tr th {\n",
       "        vertical-align: top;\n",
       "    }\n",
       "\n",
       "    .dataframe thead th {\n",
       "        text-align: right;\n",
       "    }\n",
       "</style>\n",
       "<table border=\"1\" class=\"dataframe\">\n",
       "  <thead>\n",
       "    <tr style=\"text-align: right;\">\n",
       "      <th></th>\n",
       "      <th>A</th>\n",
       "      <th>Y</th>\n",
       "      <th>X</th>\n",
       "    </tr>\n",
       "  </thead>\n",
       "  <tbody>\n",
       "    <tr>\n",
       "      <th>0</th>\n",
       "      <td>0</td>\n",
       "      <td>0</td>\n",
       "      <td>-1.192736</td>\n",
       "    </tr>\n",
       "    <tr>\n",
       "      <th>1</th>\n",
       "      <td>0</td>\n",
       "      <td>1</td>\n",
       "      <td>-0.033140</td>\n",
       "    </tr>\n",
       "    <tr>\n",
       "      <th>2</th>\n",
       "      <td>1</td>\n",
       "      <td>1</td>\n",
       "      <td>-0.737864</td>\n",
       "    </tr>\n",
       "    <tr>\n",
       "      <th>3</th>\n",
       "      <td>0</td>\n",
       "      <td>1</td>\n",
       "      <td>0.522630</td>\n",
       "    </tr>\n",
       "    <tr>\n",
       "      <th>4</th>\n",
       "      <td>0</td>\n",
       "      <td>0</td>\n",
       "      <td>-0.138411</td>\n",
       "    </tr>\n",
       "  </tbody>\n",
       "</table>\n",
       "</div>"
      ],
      "text/plain": [
       "   A  Y         X\n",
       "0  0  0 -1.192736\n",
       "1  0  1 -0.033140\n",
       "2  1  1 -0.737864\n",
       "3  0  1  0.522630\n",
       "4  0  0 -0.138411"
      ]
     },
     "execution_count": 33,
     "metadata": {},
     "output_type": "execute_result"
    }
   ],
   "source": [
    "df.head()"
   ]
  },
  {
   "cell_type": "markdown",
   "metadata": {
    "ExecuteTime": {
     "end_time": "2019-03-06T18:07:48.360628Z",
     "start_time": "2019-03-06T18:07:48.339628Z"
    }
   },
   "source": [
    "<div class=\"alert alert-block alert-info\"> Problem 0.2 </div>\n",
    "Split data in a 50% training  and 50% valuation sets"
   ]
  },
  {
   "cell_type": "code",
   "execution_count": 29,
   "metadata": {
    "ExecuteTime": {
     "end_time": "2019-03-06T20:18:01.856828Z",
     "start_time": "2019-03-06T20:18:01.841228Z"
    }
   },
   "outputs": [],
   "source": [
    "train, val=train_test_split(df, test_size=0.5)"
   ]
  },
  {
   "cell_type": "code",
   "execution_count": 30,
   "metadata": {},
   "outputs": [
    {
     "data": {
      "text/plain": [
       "((500000, 3), (500000, 3))"
      ]
     },
     "execution_count": 30,
     "metadata": {},
     "output_type": "execute_result"
    }
   ],
   "source": [
    "train.shape, val.shape"
   ]
  },
  {
   "cell_type": "markdown",
   "metadata": {},
   "source": [
    "<div class=\"alert alert-block alert-info\"> Problem 0.3 </div>\n",
    "\n",
    "In this problem set you will need to fit LDA models to \n",
    "1. the majority group $a=0$ \n",
    "2. minority group $a=1$\n",
    "3. to the whole data set irrespective of group affiliation. \n",
    "\n",
    "Prepare `numpy` arrays for training and validation so  that you can fit those three models:\n",
    "1. Arrays `X0_train`,`X0_val`,`Y0_train`,`Y0_val` for members of the majority group `a=0`.\n",
    "2. Arrays `X1_train`,`X1_val`,`Y1_train`,`Y1_val` for members of the minority group `a=1`.\n",
    "3. Arrays `X_train`,`X_val`,`Y_train`,`Y_val` for all members irrespective of group affiliation.\n"
   ]
  },
  {
   "cell_type": "markdown",
   "metadata": {},
   "source": [
    "### 1."
   ]
  },
  {
   "cell_type": "code",
   "execution_count": 36,
   "metadata": {
    "ExecuteTime": {
     "end_time": "2019-03-06T20:18:02.054828Z",
     "start_time": "2019-03-06T20:18:01.983028Z"
    }
   },
   "outputs": [],
   "source": [
    "train0=train[train['A']==0]\n",
    "val0=val[val['A']==0]"
   ]
  },
  {
   "cell_type": "code",
   "execution_count": 44,
   "metadata": {},
   "outputs": [],
   "source": [
    "X0_train=train0[['X']]\n",
    "X0_val=val0[['X']]\n",
    "Y0_train=train0[['Y']]\n",
    "Y0_val=val0[['Y']]"
   ]
  },
  {
   "cell_type": "markdown",
   "metadata": {},
   "source": [
    "### 2."
   ]
  },
  {
   "cell_type": "code",
   "execution_count": 45,
   "metadata": {},
   "outputs": [],
   "source": [
    "train1=train[train['A']==1]\n",
    "val1=val[val['A']==1]\n",
    "\n",
    "X1_train=train1[['X']]\n",
    "X1_val=val1[['X']]\n",
    "Y1_train=train1[['Y']]\n",
    "Y1_val=val1[['Y']]"
   ]
  },
  {
   "cell_type": "markdown",
   "metadata": {},
   "source": [
    "### 3."
   ]
  },
  {
   "cell_type": "code",
   "execution_count": 46,
   "metadata": {},
   "outputs": [],
   "source": [
    "X_train=train[['X']]\n",
    "X_val=val[['X']]\n",
    "Y_train=train[['Y']]\n",
    "Y_val=val[['Y']]"
   ]
  },
  {
   "cell_type": "markdown",
   "metadata": {},
   "source": [
    "##  Per Group Classifiers"
   ]
  },
  {
   "cell_type": "markdown",
   "metadata": {},
   "source": [
    "### Majority Group model"
   ]
  },
  {
   "cell_type": "markdown",
   "metadata": {
    "ExecuteTime": {
     "end_time": "2019-03-06T18:21:36.350628Z",
     "start_time": "2019-03-06T18:21:36.330628Z"
    }
   },
   "source": [
    "<div class=\"alert alert-block alert-info\"> Problem 1.0 </div>\n",
    "Fit an LDA model to the training examples where $a=1$"
   ]
  },
  {
   "cell_type": "code",
   "execution_count": 48,
   "metadata": {
    "ExecuteTime": {
     "end_time": "2019-03-06T20:18:02.210228Z",
     "start_time": "2019-03-06T20:18:02.135328Z"
    }
   },
   "outputs": [
    {
     "name": "stderr",
     "output_type": "stream",
     "text": [
      "/Users/Renaissance/anaconda2/envs/3point6/lib/python3.7/site-packages/sklearn/utils/validation.py:724: DataConversionWarning: A column-vector y was passed when a 1d array was expected. Please change the shape of y to (n_samples, ), for example using ravel().\n",
      "  y = column_or_1d(y, warn=True)\n"
     ]
    },
    {
     "data": {
      "text/plain": [
       "LinearDiscriminantAnalysis(n_components=None, priors=None, shrinkage=None,\n",
       "                           solver='svd', store_covariance=False, tol=0.0001)"
      ]
     },
     "execution_count": 48,
     "metadata": {},
     "output_type": "execute_result"
    }
   ],
   "source": [
    "model0=LDA()\n",
    "model0.fit(X0_train,Y0_train)"
   ]
  },
  {
   "cell_type": "markdown",
   "metadata": {},
   "source": [
    "<div class=\"alert alert-block alert-info\"> Problem 1.1 </div>\n",
    "Compute the model accuracy on the majority population $a=0$.\n",
    "\n",
    "Because of finite sample (we only have N=2,000 samples) you should get results close, but not identical to what you derived on the written homework."
   ]
  },
  {
   "cell_type": "code",
   "execution_count": 66,
   "metadata": {},
   "outputs": [],
   "source": [
    "Y0_train_value=Y0_train.values.ravel()\n",
    "Y0_val_value=Y0_val.values.ravel()"
   ]
  },
  {
   "cell_type": "code",
   "execution_count": 67,
   "metadata": {
    "ExecuteTime": {
     "end_time": "2019-03-06T20:18:02.220228Z",
     "start_time": "2019-03-06T20:18:02.210228Z"
    },
    "scrolled": true
   },
   "outputs": [],
   "source": [
    "y0_pred=model0.predict(X0_val)\n",
    "accu_0=np.average(y0_pred==Y0_val_value)"
   ]
  },
  {
   "cell_type": "code",
   "execution_count": 68,
   "metadata": {},
   "outputs": [
    {
     "name": "stdout",
     "output_type": "stream",
     "text": [
      "The accuracy of group a=0 is:  0.843544775746429\n"
     ]
    }
   ],
   "source": [
    "print('The accuracy of group a=0 is: ', accu_0)"
   ]
  },
  {
   "cell_type": "markdown",
   "metadata": {},
   "source": [
    "<div class=\"alert alert-block alert-info\"> Problem 1.2 </div>\n",
    "Estimate  the rate of true positives and false negatives on the majority population $a=0$ using the validation data\n",
    "you set aside before.\n",
    "\n",
    "[HINT: The function `sklear.metrix.confusion_matrix may be useful]"
   ]
  },
  {
   "cell_type": "code",
   "execution_count": 69,
   "metadata": {
    "ExecuteTime": {
     "end_time": "2019-03-06T20:18:02.239228Z",
     "start_time": "2019-03-06T20:18:02.220228Z"
    }
   },
   "outputs": [
    {
     "data": {
      "text/plain": [
       "array([[195685,  29356],\n",
       "       [ 33253, 141878]])"
      ]
     },
     "execution_count": 69,
     "metadata": {},
     "output_type": "execute_result"
    }
   ],
   "source": [
    "cm0=metrics.confusion_matrix(Y0_val_value,y0_pred)\n",
    "cm0"
   ]
  },
  {
   "cell_type": "code",
   "execution_count": 70,
   "metadata": {},
   "outputs": [],
   "source": [
    "TN0=cm0[0,0]\n",
    "TP0=cm0[1,1]\n",
    "FP0=cm0[0,1]\n",
    "FN0=cm0[1,0]"
   ]
  },
  {
   "cell_type": "code",
   "execution_count": 72,
   "metadata": {},
   "outputs": [
    {
     "name": "stdout",
     "output_type": "stream",
     "text": [
      "The rate of true positives is:  0.8101249921487343\n",
      "The rate of false negative is:  0.18987500785126563\n"
     ]
    }
   ],
   "source": [
    "print('The rate of true positives is: ', TP0/(TP0+FN0))\n",
    "print('The rate of false negative is: ', FN0/(TP0+FN0))"
   ]
  },
  {
   "cell_type": "markdown",
   "metadata": {},
   "source": [
    "### Minority Group Model"
   ]
  },
  {
   "cell_type": "markdown",
   "metadata": {
    "ExecuteTime": {
     "end_time": "2019-03-06T18:26:36.504628Z",
     "start_time": "2019-03-06T18:26:36.482628Z"
    }
   },
   "source": [
    "<div class=\"alert alert-block alert-info\"> Problem 2.0 </div>\n",
    "Fit an LDA model to the training examples where $a=0$"
   ]
  },
  {
   "cell_type": "code",
   "execution_count": 73,
   "metadata": {
    "ExecuteTime": {
     "end_time": "2019-03-06T20:18:02.358228Z",
     "start_time": "2019-03-06T20:18:02.328228Z"
    }
   },
   "outputs": [
    {
     "name": "stderr",
     "output_type": "stream",
     "text": [
      "/Users/Renaissance/anaconda2/envs/3point6/lib/python3.7/site-packages/sklearn/utils/validation.py:724: DataConversionWarning: A column-vector y was passed when a 1d array was expected. Please change the shape of y to (n_samples, ), for example using ravel().\n",
      "  y = column_or_1d(y, warn=True)\n"
     ]
    },
    {
     "data": {
      "text/plain": [
       "LinearDiscriminantAnalysis(n_components=None, priors=None, shrinkage=None,\n",
       "                           solver='svd', store_covariance=False, tol=0.0001)"
      ]
     },
     "execution_count": 73,
     "metadata": {},
     "output_type": "execute_result"
    }
   ],
   "source": [
    "model1=LDA()\n",
    "model1.fit(X1_train,Y1_train)"
   ]
  },
  {
   "cell_type": "markdown",
   "metadata": {
    "ExecuteTime": {
     "end_time": "2019-03-06T18:28:41.697628Z",
     "start_time": "2019-03-06T18:28:41.675628Z"
    }
   },
   "source": [
    "<div class=\"alert alert-block alert-info\"> Problem 2.1 </div>\n",
    "Compute the model accuracy on the minority population $a=1$."
   ]
  },
  {
   "cell_type": "code",
   "execution_count": 83,
   "metadata": {},
   "outputs": [],
   "source": [
    "Y1_val_value=Y1_val.values.ravel()\n",
    "Y0_val_value=Y0_val.values.ravel()"
   ]
  },
  {
   "cell_type": "code",
   "execution_count": 77,
   "metadata": {
    "ExecuteTime": {
     "end_time": "2019-03-06T20:18:02.396928Z",
     "start_time": "2019-03-06T20:18:02.358228Z"
    }
   },
   "outputs": [
    {
     "data": {
      "text/plain": [
       "0.9813679528789518"
      ]
     },
     "execution_count": 77,
     "metadata": {},
     "output_type": "execute_result"
    }
   ],
   "source": [
    "Y1_pred=model1.predict(X1_val)\n",
    "np.mean(Y1_pred==Y1_val_value)"
   ]
  },
  {
   "cell_type": "markdown",
   "metadata": {
    "ExecuteTime": {
     "end_time": "2019-03-06T18:29:39.436628Z",
     "start_time": "2019-03-06T18:29:39.417628Z"
    }
   },
   "source": [
    "<div class=\"alert alert-block alert-info\"> Problem 2.2 </div>\n",
    "Estimate  the rate of true positives and false negatives on the minority population $a=1$ using the validation data\n",
    "you set aside before."
   ]
  },
  {
   "cell_type": "code",
   "execution_count": 79,
   "metadata": {
    "ExecuteTime": {
     "end_time": "2019-03-06T20:18:02.409428Z",
     "start_time": "2019-03-06T20:18:02.396928Z"
    }
   },
   "outputs": [
    {
     "data": {
      "text/plain": [
       "array([[24073,  1005],\n",
       "       [  855, 73895]])"
      ]
     },
     "execution_count": 79,
     "metadata": {},
     "output_type": "execute_result"
    }
   ],
   "source": [
    "cm1=metrics.confusion_matrix(Y1_val,Y1_pred)\n",
    "cm1"
   ]
  },
  {
   "cell_type": "code",
   "execution_count": 80,
   "metadata": {},
   "outputs": [],
   "source": [
    "TN1=cm1[0,0]\n",
    "TP1=cm1[1,1]\n",
    "FP1=cm1[0,1]\n",
    "FN1=cm1[1,0]"
   ]
  },
  {
   "cell_type": "code",
   "execution_count": 81,
   "metadata": {},
   "outputs": [
    {
     "name": "stdout",
     "output_type": "stream",
     "text": [
      "The rate of true positives is:  0.988561872909699\n",
      "The rate of false negative is:  0.011438127090301004\n"
     ]
    }
   ],
   "source": [
    "print('The rate of true positives is: ', TP1/(TP1+FN1))\n",
    "print('The rate of false negative is: ', FN1/(TP1+FN1))"
   ]
  },
  {
   "cell_type": "markdown",
   "metadata": {
    "ExecuteTime": {
     "end_time": "2019-03-06T18:50:20.418628Z",
     "start_time": "2019-03-06T18:50:20.366628Z"
    }
   },
   "source": [
    "<div class=\"alert alert-block alert-info\"> Problem 2.3 </div>\n",
    "Calculate the accuracy on the overall population (including $a=0,1$) if we use different classifiers for $a=0$ and $a=1$"
   ]
  },
  {
   "cell_type": "code",
   "execution_count": 87,
   "metadata": {
    "ExecuteTime": {
     "end_time": "2019-03-06T20:18:02.515628Z",
     "start_time": "2019-03-06T20:18:02.503128Z"
    }
   },
   "outputs": [],
   "source": [
    "accu_blend=(np.sum(y0_pred==Y0_val_value)+np.sum(Y1_pred==Y1_val_value))/len(Y_val)"
   ]
  },
  {
   "cell_type": "code",
   "execution_count": 88,
   "metadata": {},
   "outputs": [
    {
     "name": "stdout",
     "output_type": "stream",
     "text": [
      "The overall population accuracy is:  0.871062\n"
     ]
    }
   ],
   "source": [
    "print('The overall population accuracy is: ', accu_blend)"
   ]
  },
  {
   "cell_type": "markdown",
   "metadata": {},
   "source": [
    "## Fair (Anti-Classification) Model\n",
    "\n",
    "<div class=\"alert alert-block alert-info\"> Problem 3.1 </div>\n",
    "Train an LDA model using the whole dataset to predict $y$ based on $x$ without making use of the $a$ attribute."
   ]
  },
  {
   "cell_type": "code",
   "execution_count": 89,
   "metadata": {
    "ExecuteTime": {
     "end_time": "2019-03-06T20:18:02.543128Z",
     "start_time": "2019-03-06T20:18:02.515628Z"
    }
   },
   "outputs": [],
   "source": [
    "lda=LDA()"
   ]
  },
  {
   "cell_type": "code",
   "execution_count": 90,
   "metadata": {},
   "outputs": [
    {
     "name": "stderr",
     "output_type": "stream",
     "text": [
      "/Users/Renaissance/anaconda2/envs/3point6/lib/python3.7/site-packages/sklearn/utils/validation.py:724: DataConversionWarning: A column-vector y was passed when a 1d array was expected. Please change the shape of y to (n_samples, ), for example using ravel().\n",
      "  y = column_or_1d(y, warn=True)\n"
     ]
    },
    {
     "data": {
      "text/plain": [
       "LinearDiscriminantAnalysis(n_components=None, priors=None, shrinkage=None,\n",
       "                           solver='svd', store_covariance=False, tol=0.0001)"
      ]
     },
     "execution_count": 90,
     "metadata": {},
     "output_type": "execute_result"
    }
   ],
   "source": [
    "lda.fit(X_train, Y_train)"
   ]
  },
  {
   "cell_type": "markdown",
   "metadata": {},
   "source": [
    "<div class=\"alert alert-block alert-info\"> Problem 3.1 </div>\n",
    "Estimate the accuracy of the fair model"
   ]
  },
  {
   "cell_type": "code",
   "execution_count": 94,
   "metadata": {},
   "outputs": [],
   "source": [
    "Y_val_value=Y_val.values.ravel()"
   ]
  },
  {
   "cell_type": "code",
   "execution_count": 95,
   "metadata": {
    "ExecuteTime": {
     "end_time": "2019-03-06T20:18:02.600628Z",
     "start_time": "2019-03-06T20:18:02.573128Z"
    }
   },
   "outputs": [],
   "source": [
    "y_pred_fair=lda.predict(X_val)\n",
    "accu_fair=np.average(Y_val_value==y_pred_fair)"
   ]
  },
  {
   "cell_type": "code",
   "execution_count": 96,
   "metadata": {},
   "outputs": [
    {
     "name": "stdout",
     "output_type": "stream",
     "text": [
      "The accuracy of the fair model is:  0.665934\n"
     ]
    }
   ],
   "source": [
    "print('The accuracy of the fair model is: ', accu_fair)"
   ]
  },
  {
   "cell_type": "markdown",
   "metadata": {},
   "source": [
    "<div class=\"alert alert-block alert-info\"> Problem 3.2 </div>\n",
    "Compute the accuracy the fair model when applied only to the majority population\n",
    "where $a=0$"
   ]
  },
  {
   "cell_type": "code",
   "execution_count": 99,
   "metadata": {
    "ExecuteTime": {
     "end_time": "2019-03-06T20:18:02.628128Z",
     "start_time": "2019-03-06T20:18:02.600628Z"
    }
   },
   "outputs": [
    {
     "data": {
      "text/plain": [
       "0.8229661245664365"
      ]
     },
     "execution_count": 99,
     "metadata": {},
     "output_type": "execute_result"
    }
   ],
   "source": [
    "Y0_pred=lda.predict(X0_val)\n",
    "np.average(Y0_pred==Y0_val_value)"
   ]
  },
  {
   "cell_type": "markdown",
   "metadata": {
    "ExecuteTime": {
     "end_time": "2019-03-06T20:20:12.936828Z",
     "start_time": "2019-03-06T20:20:12.890028Z"
    }
   },
   "source": [
    "<div class=\"alert alert-block alert-info\"> Problem 3.3 </div>\n",
    "Compute true positive and false positive rates for the majority population  ($a=0$)."
   ]
  },
  {
   "cell_type": "code",
   "execution_count": 100,
   "metadata": {
    "ExecuteTime": {
     "end_time": "2019-03-06T20:18:02.676828Z",
     "start_time": "2019-03-06T20:18:02.674328Z"
    }
   },
   "outputs": [
    {
     "data": {
      "text/plain": [
       "array([[171208,  53833],\n",
       "       [ 17011, 158120]])"
      ]
     },
     "execution_count": 100,
     "metadata": {},
     "output_type": "execute_result"
    }
   ],
   "source": [
    "cm0=metrics.confusion_matrix(Y0_val,Y0_pred)\n",
    "cm0"
   ]
  },
  {
   "cell_type": "code",
   "execution_count": 101,
   "metadata": {},
   "outputs": [],
   "source": [
    "TN0=cm0[0,0]\n",
    "TP0=cm0[1,1]\n",
    "FP0=cm0[0,1]\n",
    "FN0=cm0[1,0]"
   ]
  },
  {
   "cell_type": "code",
   "execution_count": 102,
   "metadata": {},
   "outputs": [
    {
     "name": "stdout",
     "output_type": "stream",
     "text": [
      "The rate of true positives is:  0.9028669967053234\n",
      "The rate of false negative is:  0.09713300329467656\n"
     ]
    }
   ],
   "source": [
    "print('The rate of true positives is: ', TP0/(TP0+FN0))\n",
    "print('The rate of false negative is: ', FN0/(TP0+FN0))"
   ]
  },
  {
   "cell_type": "markdown",
   "metadata": {
    "ExecuteTime": {
     "end_time": "2019-03-06T18:48:15.064628Z",
     "start_time": "2019-03-06T18:48:15.040628Z"
    }
   },
   "source": [
    "<div class=\"alert alert-block alert-info\"> Problem 3.3 </div>\n",
    "Compute the accuracy the fair model when applied only to the majority population\n",
    "where $a=1$"
   ]
  },
  {
   "cell_type": "code",
   "execution_count": 104,
   "metadata": {
    "ExecuteTime": {
     "end_time": "2019-03-06T20:18:02.756828Z",
     "start_time": "2019-03-06T20:18:02.731828Z"
    }
   },
   "outputs": [
    {
     "data": {
      "text/plain": [
       "0.03645269864166366"
      ]
     },
     "execution_count": 104,
     "metadata": {},
     "output_type": "execute_result"
    }
   ],
   "source": [
    "Y1_pred=lda.predict(X1_val)\n",
    "np.mean(Y1_pred==Y1_val_value)"
   ]
  },
  {
   "cell_type": "markdown",
   "metadata": {
    "ExecuteTime": {
     "end_time": "2019-03-06T20:21:13.306928Z",
     "start_time": "2019-03-06T20:21:13.260128Z"
    }
   },
   "source": [
    "<div class=\"alert alert-block alert-info\"> Problem 3.4 </div>\n",
    "Compute true positive and false positive rates for the minority population  ($a=1$)."
   ]
  },
  {
   "cell_type": "code",
   "execution_count": 105,
   "metadata": {
    "ExecuteTime": {
     "end_time": "2019-03-06T20:18:02.795528Z",
     "start_time": "2019-03-06T20:18:02.756828Z"
    }
   },
   "outputs": [
    {
     "data": {
      "text/plain": [
       "array([[  255, 24823],\n",
       "       [71366,  3384]])"
      ]
     },
     "execution_count": 105,
     "metadata": {},
     "output_type": "execute_result"
    }
   ],
   "source": [
    "cm1=metrics.confusion_matrix(Y1_val,Y1_pred)\n",
    "cm1"
   ]
  },
  {
   "cell_type": "code",
   "execution_count": 106,
   "metadata": {},
   "outputs": [],
   "source": [
    "TN1=cm1[0,0]\n",
    "TP1=cm1[1,1]\n",
    "FP1=cm1[0,1]\n",
    "FN1=cm1[1,0]"
   ]
  },
  {
   "cell_type": "code",
   "execution_count": 107,
   "metadata": {},
   "outputs": [
    {
     "name": "stdout",
     "output_type": "stream",
     "text": [
      "The rate of true positives is:  0.04527090301003345\n",
      "The rate of false negative is:  0.9547290969899666\n"
     ]
    }
   ],
   "source": [
    "print('The rate of true positives is: ', TP1/(TP1+FN1))\n",
    "print('The rate of false negative is: ', FN1/(TP1+FN1))"
   ]
  },
  {
   "cell_type": "code",
   "execution_count": null,
   "metadata": {},
   "outputs": [],
   "source": []
  }
 ],
 "metadata": {
  "kernelspec": {
   "display_name": "Python 3",
   "language": "python",
   "name": "python3"
  },
  "language_info": {
   "codemirror_mode": {
    "name": "ipython",
    "version": 3
   },
   "file_extension": ".py",
   "mimetype": "text/x-python",
   "name": "python",
   "nbconvert_exporter": "python",
   "pygments_lexer": "ipython3",
   "version": "3.7.3"
  },
  "toc": {
   "base_numbering": 1,
   "nav_menu": {},
   "number_sections": true,
   "sideBar": true,
   "skip_h1_title": true,
   "title_cell": "Table of Contents",
   "title_sidebar": "Contents",
   "toc_cell": false,
   "toc_position": {},
   "toc_section_display": true,
   "toc_window_display": true
  }
 },
 "nbformat": 4,
 "nbformat_minor": 2
}
