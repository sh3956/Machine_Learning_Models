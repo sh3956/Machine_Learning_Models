{
 "cells": [
  {
   "cell_type": "markdown",
   "metadata": {},
   "source": [
    "# Homework 6"
   ]
  },
  {
   "cell_type": "markdown",
   "metadata": {},
   "source": [
    "In this homework we will\n",
    "1. Use `sklearn`'s **`SVC`** class to perform non-linear SVM classification \n",
    "2. Use `sklearn`'s `cross_val_score` and `GridSearchCV` functions to perform cross validation and hyper-parameter tunning.\n",
    "3. Reconstruct the classification boundary given  `sklearn`  provide support vectors. \n"
   ]
  },
  {
   "cell_type": "markdown",
   "metadata": {},
   "source": [
    "## Preliminaries"
   ]
  },
  {
   "cell_type": "markdown",
   "metadata": {
    "ExecuteTime": {
     "end_time": "2018-04-02T20:39:32.695907Z",
     "start_time": "2018-04-02T20:39:32.692907Z"
    }
   },
   "source": [
    "### Imports"
   ]
  },
  {
   "cell_type": "markdown",
   "metadata": {
    "ExecuteTime": {
     "end_time": "2018-04-02T20:38:41.094907Z",
     "start_time": "2018-04-02T20:38:41.087907Z"
    }
   },
   "source": [
    "<div class=\"alert alert-block alert-info\"> Problem 0 </div>\n",
    "This time you will need to **add any other necessary  import statements** yourself."
   ]
  },
  {
   "cell_type": "code",
   "execution_count": 1,
   "metadata": {
    "ExecuteTime": {
     "end_time": "2020-04-02T18:04:00.699830Z",
     "start_time": "2020-04-02T18:04:00.294748Z"
    }
   },
   "outputs": [],
   "source": [
    "import numpy as np\n",
    "import matplotlib.pyplot as plt\n",
    "\n",
    "\n",
    "%matplotlib inline\n",
    "\n",
    "import sys\n",
    "sys.path.append(\"../..\")\n",
    "import E4525_ML.samples as samples"
   ]
  },
  {
   "cell_type": "markdown",
   "metadata": {},
   "source": [
    "### Random Seed"
   ]
  },
  {
   "cell_type": "code",
   "execution_count": 2,
   "metadata": {
    "ExecuteTime": {
     "end_time": "2020-04-02T18:04:00.706461Z",
     "start_time": "2020-04-02T18:04:00.701725Z"
    }
   },
   "outputs": [],
   "source": [
    "seed=4543\n",
    "np.random.seed(seed)"
   ]
  },
  {
   "cell_type": "markdown",
   "metadata": {
    "ExecuteTime": {
     "end_time": "2018-04-02T20:40:09.742907Z",
     "start_time": "2018-04-02T20:40:09.739907Z"
    }
   },
   "source": [
    "### Sample Data Generation"
   ]
  },
  {
   "cell_type": "code",
   "execution_count": 3,
   "metadata": {
    "ExecuteTime": {
     "end_time": "2020-04-02T18:04:00.720923Z",
     "start_time": "2020-04-02T18:04:00.708660Z"
    }
   },
   "outputs": [],
   "source": [
    "N=40\n",
    "X,Y=samples.ellipsoid(N//2)\n",
    "X_test,Y_test=samples.ellipsoid(N//2)"
   ]
  },
  {
   "cell_type": "code",
   "execution_count": 4,
   "metadata": {
    "ExecuteTime": {
     "end_time": "2020-04-02T18:04:01.063756Z",
     "start_time": "2020-04-02T18:04:00.726012Z"
    }
   },
   "outputs": [
    {
     "data": {
      "text/plain": [
       "<matplotlib.collections.PathCollection at 0x11601df98>"
      ]
     },
     "execution_count": 4,
     "metadata": {},
     "output_type": "execute_result"
    },
    {
     "data": {
      "image/png": "[encoded data removed]",
      "text/plain": [
       "<Figure size 432x288 with 1 Axes>"
      ]
     },
     "metadata": {
      "needs_background": "light"
     },
     "output_type": "display_data"
    }
   ],
   "source": [
    "plt.scatter(X[:,0],X[:,1],c=Y, s=40, cmap=plt.cm.Spectral)"
   ]
  },
  {
   "cell_type": "markdown",
   "metadata": {},
   "source": [
    "## Polinomial features"
   ]
  },
  {
   "cell_type": "markdown",
   "metadata": {
    "ExecuteTime": {
     "end_time": "2018-04-02T20:43:13.079907Z",
     "start_time": "2018-04-02T20:43:13.070907Z"
    }
   },
   "source": [
    "<div class=\"alert alert-block alert-info\"> Problem 1.0 </div>\n",
    "Greate a function **`phi`**, that, given input $ N\\times 2$ array $X$ generates  $N \\times 5$ array $Z$\n",
    "with all monomials in $X$ at to second order, i.e. with the  columns\n",
    "\n",
    "$$\n",
    "        X_1, X_2, X_1^2, X_1 X_2, X_2^2\n",
    "$$\n"
   ]
  },
  {
   "cell_type": "code",
   "execution_count": 11,
   "metadata": {
    "ExecuteTime": {
     "end_time": "2018-04-03T09:14:49.648330Z",
     "start_time": "2018-04-03T09:14:49.643316Z"
    }
   },
   "outputs": [],
   "source": [
    "def phi(X):\n",
    "    row=X.shape[0]\n",
    "    Z=[[0 for i in range(5)] for j in range(row)]\n",
    "    for i in range(row):\n",
    "        Z[i][0]=X[i][0]\n",
    "        Z[i][1]=X[i][1]\n",
    "        Z[i][2]=X[i][0]**2\n",
    "        Z[i][3]=X[i][0]*X[i][1]\n",
    "        Z[i][4]=X[i][1]**2\n",
    "    return Z"
   ]
  },
  {
   "cell_type": "markdown",
   "metadata": {},
   "source": [
    "<div class=\"alert alert-block alert-info\"> Problem 1.1 </div>\n",
    "Generate feature arrays `Z` and `Z_test` with all monomial at to second order for the training data `X` and the test data `X_test` "
   ]
  },
  {
   "cell_type": "code",
   "execution_count": 12,
   "metadata": {
    "ExecuteTime": {
     "end_time": "2018-04-03T09:14:51.382939Z",
     "start_time": "2018-04-03T09:14:51.377928Z"
    }
   },
   "outputs": [],
   "source": [
    "Z=phi(X)\n",
    "Z_test=phi(X_test)"
   ]
  },
  {
   "cell_type": "code",
   "execution_count": 18,
   "metadata": {},
   "outputs": [
    {
     "data": {
      "text/plain": [
       "(40, 40)"
      ]
     },
     "execution_count": 18,
     "metadata": {},
     "output_type": "execute_result"
    }
   ],
   "source": [
    "len(Z), len(X)"
   ]
  },
  {
   "cell_type": "code",
   "execution_count": 19,
   "metadata": {},
   "outputs": [
    {
     "data": {
      "text/plain": [
       "(40, 40)"
      ]
     },
     "execution_count": 19,
     "metadata": {},
     "output_type": "execute_result"
    }
   ],
   "source": [
    "len(Z_test), len(X_test)"
   ]
  },
  {
   "cell_type": "markdown",
   "metadata": {},
   "source": [
    "## Linear SVM"
   ]
  },
  {
   "cell_type": "markdown",
   "metadata": {},
   "source": [
    "<div class=\"alert alert-block alert-info\"> Problem 2.0 </div>\n",
    "using `sklearn`'s  function `model_validation.cross_val_score` and `sklearn`'s `svm.SVC` estimator (classifier) compute the average 10-Fold cross validation error of a **linear** svm model fitted to the transformed feature data `Z`.\n",
    "\n",
    "[HINT] You need to import any `sklearn` modules or functions you want use."
   ]
  },
  {
   "cell_type": "code",
   "execution_count": 21,
   "metadata": {
    "ExecuteTime": {
     "end_time": "2018-04-03T09:14:54.983509Z",
     "start_time": "2018-04-03T09:14:54.958445Z"
    }
   },
   "outputs": [],
   "source": [
    "from sklearn import svm\n",
    "from sklearn.model_selection import cross_val_score"
   ]
  },
  {
   "cell_type": "code",
   "execution_count": 25,
   "metadata": {},
   "outputs": [
    {
     "name": "stdout",
     "output_type": "stream",
     "text": [
      "The avg 10-fold cross validation score is:  0.9\n"
     ]
    }
   ],
   "source": [
    "model1=svm.SVC(kernel='linear')\n",
    "scores=cross_val_score(model1, Z, Y, cv=10)\n",
    "print('The avg 10-fold cross validation score is: ', np.average(scores))"
   ]
  },
  {
   "cell_type": "markdown",
   "metadata": {},
   "source": [
    "<div class=\"alert alert-block alert-info\"> Problem 2.1 </div>\n",
    "fit the SVC estimator to the transformed training data `Z`.\n",
    "After fitting the model, compute the number of support vectors\n",
    "\n",
    "[HINT] After fitting, Support vectors are stored into the model's variable `support_vectors_`.\n",
    "\n",
    "Look into [SVC documentation](http://scikit-learn.org/stable/modules/generated/sklearn.svm.SVC.html), specially the **Attributes** section  for information on available results returned by the classifier."
   ]
  },
  {
   "cell_type": "code",
   "execution_count": 29,
   "metadata": {
    "ExecuteTime": {
     "end_time": "2018-04-03T09:15:02.583707Z",
     "start_time": "2018-04-03T09:15:02.578693Z"
    }
   },
   "outputs": [
    {
     "name": "stdout",
     "output_type": "stream",
     "text": [
      "The number of support vector is:  8\n"
     ]
    }
   ],
   "source": [
    "model1.fit(Z, Y)\n",
    "num_sv=len(model1.support_vectors_)\n",
    "print('The number of support vector is: ', num_sv)"
   ]
  },
  {
   "cell_type": "markdown",
   "metadata": {},
   "source": [
    "<div class=\"alert alert-block alert-info\"> Problem 2.2 </div>\n",
    "Show that the fitted estimator contains a variable `C` with the value of $C$ it was initialized with "
   ]
  },
  {
   "cell_type": "code",
   "execution_count": 30,
   "metadata": {
    "ExecuteTime": {
     "end_time": "2018-04-03T09:15:05.051266Z",
     "start_time": "2018-04-03T09:15:05.047255Z"
    }
   },
   "outputs": [
    {
     "data": {
      "text/plain": [
       "1.0"
      ]
     },
     "execution_count": 30,
     "metadata": {},
     "output_type": "execute_result"
    }
   ],
   "source": [
    "model1.C"
   ]
  },
  {
   "cell_type": "code",
   "execution_count": 31,
   "metadata": {},
   "outputs": [
    {
     "name": "stdout",
     "output_type": "stream",
     "text": [
      "The value of C is:  1.0\n"
     ]
    }
   ],
   "source": [
    "print('The value of C is: ', model1.C)"
   ]
  },
  {
   "cell_type": "markdown",
   "metadata": {
    "collapsed": true
   },
   "source": [
    "<div class=\"alert alert-block alert-info\"> Problem 2.3 </div>\n",
    "Using the function [`model_selection.GridSearchCV`](http://scikit-learn.org/stable/modules/generated/sklearn.model_selection.GridSearchCV.html#sklearn.model_selection.GridSearchCV)\n",
    "select by 10-fold cross validation the optimal value of C to use while fitting a  SVC linear model with the transformed training data `Z`.\n",
    "\n",
    "Display clearly the optimal value of C, and the number of support vectors of the best model\n",
    "\n",
    "[HINT] \n",
    "\n",
    "1. Read the  [`model_selection.GridSearchCV` ](http://scikit-learn.org/stable/modules/generated/sklearn.model_selection.GridSearchCV.html#sklearn.model_selection.GridSearchCV)        documentation carefully\n",
    "2. Parameters to search over are passed in the `parameters`'s  **dictionary**   argument of `GridSearchCV`\n",
    "3. The number of folds is controled by the argument  `cv`\n",
    "4. Consider only the values of $C$ provided below\n",
    "5. The GridSearchCV object, after fitting, contains a variable **`best_estimator_`** with the best calibrated model. You can get \n",
    "   from the best estimator $C$ and the array of support vectors."
   ]
  },
  {
   "cell_type": "code",
   "execution_count": 32,
   "metadata": {},
   "outputs": [],
   "source": [
    "from sklearn.model_selection import GridSearchCV"
   ]
  },
  {
   "cell_type": "code",
   "execution_count": 33,
   "metadata": {
    "ExecuteTime": {
     "end_time": "2020-04-02T18:04:01.071288Z",
     "start_time": "2020-04-02T18:04:01.068057Z"
    }
   },
   "outputs": [],
   "source": [
    "Cs=[0.001,0.01,0.1,1,10,100,1000,10000]\n",
    "parameters={'C':Cs}"
   ]
  },
  {
   "cell_type": "code",
   "execution_count": 34,
   "metadata": {
    "ExecuteTime": {
     "end_time": "2018-04-03T09:15:11.874399Z",
     "start_time": "2018-04-03T09:15:11.871391Z"
    }
   },
   "outputs": [
    {
     "data": {
      "text/plain": [
       "GridSearchCV(cv=10, error_score='raise-deprecating',\n",
       "             estimator=SVC(C=1.0, cache_size=200, class_weight=None, coef0=0.0,\n",
       "                           decision_function_shape='ovr', degree=3,\n",
       "                           gamma='auto_deprecated', kernel='linear',\n",
       "                           max_iter=-1, probability=False, random_state=None,\n",
       "                           shrinking=True, tol=0.001, verbose=False),\n",
       "             iid='warn', n_jobs=None,\n",
       "             param_grid={'C': [0.001, 0.01, 0.1, 1, 10, 100, 1000, 10000]},\n",
       "             pre_dispatch='2*n_jobs', refit=True, return_train_score=False,\n",
       "             scoring=None, verbose=0)"
      ]
     },
     "execution_count": 34,
     "metadata": {},
     "output_type": "execute_result"
    }
   ],
   "source": [
    "svc = svm.SVC(kernel='linear')\n",
    "gcv=GridSearchCV(svc, parameters, cv=10)\n",
    "gcv.fit(Z, Y)"
   ]
  },
  {
   "cell_type": "code",
   "execution_count": 36,
   "metadata": {},
   "outputs": [
    {
     "data": {
      "text/plain": [
       "SVC(C=0.1, cache_size=200, class_weight=None, coef0=0.0,\n",
       "    decision_function_shape='ovr', degree=3, gamma='auto_deprecated',\n",
       "    kernel='linear', max_iter=-1, probability=False, random_state=None,\n",
       "    shrinking=True, tol=0.001, verbose=False)"
      ]
     },
     "execution_count": 36,
     "metadata": {},
     "output_type": "execute_result"
    }
   ],
   "source": [
    "gcv.best_estimator_"
   ]
  },
  {
   "cell_type": "code",
   "execution_count": 78,
   "metadata": {},
   "outputs": [
    {
     "name": "stdout",
     "output_type": "stream",
     "text": [
      "The value of C is:  0.1\n",
      "The number of support vectors are:  9\n"
     ]
    }
   ],
   "source": [
    "svc_best=gcv.best_estimator_\n",
    "svc_best.fit(Z, Y)\n",
    "print('The value of C is: ', 0.1)\n",
    "print('The number of support vectors are: ', len(svc_best.support_vectors_))"
   ]
  },
  {
   "cell_type": "markdown",
   "metadata": {
    "ExecuteTime": {
     "end_time": "2018-04-03T10:02:08.481555Z",
     "start_time": "2018-04-03T10:02:08.476540Z"
    }
   },
   "source": [
    "<div class=\"alert alert-block alert-info\"> Problem 2.4 </div>\n",
    "Compute the 10-fold cross validation accuracy of the best estimator using `sklearn` `cross_val_score` function"
   ]
  },
  {
   "cell_type": "code",
   "execution_count": 79,
   "metadata": {
    "ExecuteTime": {
     "end_time": "2018-04-03T09:15:19.218917Z",
     "start_time": "2018-04-03T09:15:19.193852Z"
    }
   },
   "outputs": [
    {
     "data": {
      "text/plain": [
       "0.95"
      ]
     },
     "execution_count": 79,
     "metadata": {},
     "output_type": "execute_result"
    }
   ],
   "source": [
    "scores=cross_val_score(svc_best,Z,Y,cv=10)\n",
    "np.mean(scores)"
   ]
  },
  {
   "cell_type": "markdown",
   "metadata": {},
   "source": [
    "<div class=\"alert alert-block alert-info\"> Problem 2.5 </div>\n",
    "Show the class Y for each support vector\n",
    "\n",
    "[HINT] after fitting the estimator  contains an boolean array `support_` that is set true for the index of data points that are support vectors"
   ]
  },
  {
   "cell_type": "code",
   "execution_count": 83,
   "metadata": {
    "ExecuteTime": {
     "end_time": "2018-04-03T09:15:28.030337Z",
     "start_time": "2018-04-03T09:15:28.024321Z"
    }
   },
   "outputs": [],
   "source": [
    "index=svc_best.support_\n",
    "predict_value=svc_best.predict(Z)\n",
    "predict_sv=predict_value[index]\n",
    "Y_sv=Y[index]"
   ]
  },
  {
   "cell_type": "code",
   "execution_count": 84,
   "metadata": {},
   "outputs": [
    {
     "name": "stdout",
     "output_type": "stream",
     "text": [
      "The predicted value of support vectors are:  [0 0 0 0 0 1 1 1 1]\n"
     ]
    }
   ],
   "source": [
    "print('The predicted value of support vectors are: ', Y_sv)"
   ]
  },
  {
   "cell_type": "markdown",
   "metadata": {
    "ExecuteTime": {
     "end_time": "2018-04-03T10:09:41.669967Z",
     "start_time": "2018-04-03T10:09:41.663950Z"
    }
   },
   "source": [
    "<div class=\"alert alert-block alert-info\"> Problem 2.6 </div>\n",
    "Show that\n",
    "$$\n",
    "    \\sum_i \\alpha_i y_i =0\n",
    "$$\n",
    "where $y_i=-1$ for the negative class and $y_i=+1$ for the positive class\n",
    "[HINT] \n",
    "1. Our input classes are y={0,1}, but `SVC` internally treats them as if they were y=(-1,1)\n",
    "2. The fitted estimator contains an array **`dual_coef_`** that contains the values of $\\alpha_i y_i$\n",
    "3. `dual_coef_` is a $1 x N$ array, it may be easier for the rest of this notebook to turn in into a $N$ array by using\n",
    "    `ravel()` method.\n"
   ]
  },
  {
   "cell_type": "code",
   "execution_count": 85,
   "metadata": {
    "ExecuteTime": {
     "end_time": "2018-04-03T09:15:32.466124Z",
     "start_time": "2018-04-03T09:15:32.455095Z"
    }
   },
   "outputs": [],
   "source": [
    "dual_coef=svc_best.dual_coef_.ravel()"
   ]
  },
  {
   "cell_type": "code",
   "execution_count": 86,
   "metadata": {},
   "outputs": [
    {
     "name": "stdout",
     "output_type": "stream",
     "text": [
      "The sum of dual coefficient is:  2.7755575615628914e-17\n",
      "Which is very closed to 0.\n"
     ]
    }
   ],
   "source": [
    "sum_dual_coef=sum(dual_coef)\n",
    "print('The sum of dual coefficient is: ', sum_dual_coef)\n",
    "print('Which is very closed to 0.')"
   ]
  },
  {
   "cell_type": "markdown",
   "metadata": {
    "ExecuteTime": {
     "end_time": "2018-04-03T10:16:07.567731Z",
     "start_time": "2018-04-03T10:16:07.559709Z"
    }
   },
   "source": [
    "<div class=\"alert alert-block alert-info\"> Problem 2.7 </div>\n",
    "Show wich support vectors are in violation of the margin\n",
    "\n",
    "[HINT]\n",
    "Remember that support vectors in violation of the marging satisfy\n",
    "$$\n",
    "    \\alpha_i = C\n",
    "$$\n",
    "But that `SVC` returned \n",
    "\n",
    "$$\n",
    "    \\textrm{dual_coef}_i = \\alpha_i y_i\n",
    "$$"
   ]
  },
  {
   "cell_type": "code",
   "execution_count": 96,
   "metadata": {
    "ExecuteTime": {
     "end_time": "2018-04-03T09:15:34.758215Z",
     "start_time": "2018-04-03T09:15:34.752200Z"
    }
   },
   "outputs": [
    {
     "data": {
      "text/plain": [
       "array([False, False,  True, False, False, False,  True,  True,  True])"
      ]
     },
     "execution_count": 96,
     "metadata": {},
     "output_type": "execute_result"
    }
   ],
   "source": [
    "violation=np.abs(dual_coef)==0.1\n",
    "violation"
   ]
  },
  {
   "cell_type": "code",
   "execution_count": 58,
   "metadata": {},
   "outputs": [
    {
     "name": "stdout",
     "output_type": "stream",
     "text": [
      "The 7th and the 9th support vectors are in violation of the margin.\n"
     ]
    }
   ],
   "source": [
    "print('The 3rd, 7th, 8th and the 9th support vectors are in violation of the margin.')"
   ]
  },
  {
   "cell_type": "markdown",
   "metadata": {
    "ExecuteTime": {
     "end_time": "2018-04-03T10:18:52.672521Z",
     "start_time": "2018-04-03T10:18:52.666505Z"
    }
   },
   "source": [
    "<div class=\"alert alert-block alert-info\"> Problem 2.8 </div>\n",
    "Using equation\n",
    "$$\n",
    "    w_d = \\sum_i \\alpha_i y_i x_{i,d}\n",
    "$$\n",
    "compute the vector of loadings $w$"
   ]
  },
  {
   "cell_type": "code",
   "execution_count": 64,
   "metadata": {},
   "outputs": [
    {
     "data": {
      "text/plain": [
       "array([-0.0745366 , -0.03340815, -0.1       , -0.09613701, -0.02785635,\n",
       "        0.03193811,  0.1       ,  0.1       ,  0.1       ])"
      ]
     },
     "execution_count": 64,
     "metadata": {},
     "output_type": "execute_result"
    }
   ],
   "source": [
    "dual_coef"
   ]
  },
  {
   "cell_type": "code",
   "execution_count": 92,
   "metadata": {
    "ExecuteTime": {
     "end_time": "2018-04-03T09:15:39.007508Z",
     "start_time": "2018-04-03T09:15:39.001493Z"
    }
   },
   "outputs": [
    {
     "data": {
      "text/plain": [
       "array([ 0.14682956,  0.06861315, -0.37866999,  0.25213885, -0.37136477])"
      ]
     },
     "execution_count": 92,
     "metadata": {},
     "output_type": "execute_result"
    }
   ],
   "source": [
    "w=np.dot(svc_best.support_vectors_.T,dual_coef)\n",
    "w"
   ]
  },
  {
   "cell_type": "markdown",
   "metadata": {
    "ExecuteTime": {
     "end_time": "2018-04-03T10:20:51.574518Z",
     "start_time": "2018-04-03T10:20:51.568503Z"
    }
   },
   "source": [
    "<div class=\"alert alert-block alert-info\"> Problem 2.9 </div>\n",
    "Select a support vector not in violation of the margin and use the equation\n",
    "\n",
    "$$\n",
    "    y_i(w^T x + b) =1\n",
    "$$\n",
    "to compute $b$"
   ]
  },
  {
   "cell_type": "code",
   "execution_count": 94,
   "metadata": {
    "ExecuteTime": {
     "end_time": "2018-04-03T09:15:43.510475Z",
     "start_time": "2018-04-03T09:15:43.505462Z"
    }
   },
   "outputs": [
    {
     "data": {
      "text/plain": [
       "array([ 4.71747825,  4.93114745, 22.25460101, 23.26258084, 24.3162152 ])"
      ]
     },
     "execution_count": 94,
     "metadata": {},
     "output_type": "execute_result"
    }
   ],
   "source": [
    "sv=svc_best.support_vectors_[0]\n",
    "sv"
   ]
  },
  {
   "cell_type": "code",
   "execution_count": 142,
   "metadata": {},
   "outputs": [
    {
     "data": {
      "text/plain": [
       "9.56092798354063"
      ]
     },
     "execution_count": 142,
     "metadata": {},
     "output_type": "execute_result"
    }
   ],
   "source": [
    "b=-1- np.dot(w.T,sv)\n",
    "b"
   ]
  },
  {
   "cell_type": "code",
   "execution_count": null,
   "metadata": {},
   "outputs": [],
   "source": []
  },
  {
   "cell_type": "markdown",
   "metadata": {},
   "source": [
    "<div class=\"alert alert-block alert-info\"> Problem 2.10 </div>\n",
    "Write a prediction function that classifies poinst as having class $y=0$ or $y=1$ in terms of $w$ and $b$\n",
    "\n",
    "Use this class to classify all points in the training set and verify that the accuracy of your function is exactly the same as  the\n",
    "accuracy of the `predict` method of the best estimator."
   ]
  },
  {
   "cell_type": "code",
   "execution_count": 154,
   "metadata": {
    "ExecuteTime": {
     "end_time": "2018-04-03T09:15:57.863622Z",
     "start_time": "2018-04-03T09:15:57.859611Z"
    }
   },
   "outputs": [],
   "source": [
    "def prediction(x, w, b):\n",
    "    return (np.sign(np.dot(x, w)+b)+1)/2"
   ]
  },
  {
   "cell_type": "code",
   "execution_count": 155,
   "metadata": {},
   "outputs": [
    {
     "data": {
      "text/plain": [
       "0.975"
      ]
     },
     "execution_count": 155,
     "metadata": {},
     "output_type": "execute_result"
    }
   ],
   "source": [
    "y_pred=prediction(Z, w, b)\n",
    "np.mean(y_pred==Y)"
   ]
  },
  {
   "cell_type": "code",
   "execution_count": 157,
   "metadata": {
    "scrolled": true
   },
   "outputs": [
    {
     "data": {
      "text/plain": [
       "0.975"
      ]
     },
     "execution_count": 157,
     "metadata": {},
     "output_type": "execute_result"
    }
   ],
   "source": [
    "best_pred=svc_best.predict(Z)\n",
    "np.mean(best_pred==Y)"
   ]
  },
  {
   "cell_type": "code",
   "execution_count": 158,
   "metadata": {},
   "outputs": [
    {
     "name": "stdout",
     "output_type": "stream",
     "text": [
      "They have the same accuracy.\n"
     ]
    }
   ],
   "source": [
    "print('They have the same accuracy.')"
   ]
  },
  {
   "cell_type": "markdown",
   "metadata": {
    "collapsed": true
   },
   "source": [
    "## Polinomial Kernel"
   ]
  },
  {
   "cell_type": "markdown",
   "metadata": {},
   "source": [
    "<div class=\"alert alert-block alert-info\"> Problem 3.1 </div>\n",
    "using sklearn's function model_validation.cross_val_score and sklearn's svm.SVC estimator (classifier) compute the average 10-Fold cross validation error of a linear svm model to the **polinomial** kernel and the **untransformed** training data $X$,$Y.\n",
    "\n",
    "Set the polinomial kernel to be\n",
    "$$\n",
    "    K(x,x') = (1 + x^T x')^2\n",
    "$$\n",
    "\n",
    "[HINT] \n",
    "1. `SVC` implement the following parametrization of the polynomial kernel\n",
    "$$\n",
    "    K(x,x') = ( c + \\gamma x^T x')^d\n",
    "$$\n",
    "where $c$ is the parameter `coef0` of `SVC`'s constructor and $\\gamma$ is the `gamma` parameter, and $d$ is the `degree` parameter.\n",
    "\n",
    "2. You may want to review again the [SVC documentation](http://scikit-learn.org/stable/modules/generated/sklearn.svm.SVC.html) "
   ]
  },
  {
   "cell_type": "code",
   "execution_count": 160,
   "metadata": {
    "ExecuteTime": {
     "end_time": "2018-04-03T10:41:21.745872Z",
     "start_time": "2018-04-03T10:41:21.742864Z"
    }
   },
   "outputs": [
    {
     "data": {
      "text/plain": [
       "0.9"
      ]
     },
     "execution_count": 160,
     "metadata": {},
     "output_type": "execute_result"
    }
   ],
   "source": [
    "model2=svm.SVC(kernel=\"poly\", coef0=1, gamma=1, degree=2)\n",
    "\n",
    "scores=cross_val_score(model2,X,Y,cv=10)\n",
    "np.average(scores)"
   ]
  },
  {
   "cell_type": "code",
   "execution_count": 161,
   "metadata": {},
   "outputs": [
    {
     "name": "stdout",
     "output_type": "stream",
     "text": [
      "The 10-Fold cross validation score of polinomial kernel is 0.9 \n"
     ]
    }
   ],
   "source": [
    "print('The 10-Fold cross validation score of polinomial kernel is 0.9 ')"
   ]
  },
  {
   "cell_type": "markdown",
   "metadata": {
    "ExecuteTime": {
     "end_time": "2018-04-03T10:34:28.640987Z",
     "start_time": "2018-04-03T10:34:28.630960Z"
    }
   },
   "source": [
    "<div class=\"alert alert-block alert-info\"> Problem 3.2 </div>\n",
    "Using the function [`model_selection.GridSearchCV`](http://scikit-learn.org/stable/modules/generated/sklearn.model_selection.GridSearchCV.html#sklearn.model_selection.GridSearchCV)\n",
    "select by 10-fold cross validation the optimal values of $C$ and $\\gamma$ to use while fitting a  SVC polynomial kernel with the untransformed training data `X`. Keep the constant $c$ (`coef0`) fixed at 1.\n",
    "\n",
    "Display clearly the optimal values of $C$ and $\\gamma$, and the number of support vectors of the best model\n",
    "\n",
    "[HINT] \n",
    "\n",
    "1. Read the  [`model_selection.GridSearchCV` ](http://scikit-learn.org/stable/modules/generated/sklearn.model_selection.GridSearchCV.html#sklearn.model_selection.GridSearchCV)        documentation carefully\n",
    "2. Parameters to search over are passed in the `parameters`'s  **dictionary**   argument of `GridSearchCV`\n",
    "3. The number of folds is controled by the argument  `cv`\n",
    "4. Consider only the values of $C$ and $\\gamma$ provided below\n",
    "5. The GridSearchCV object, after fitting, contains a variable **`best_estimator_`** with the best calibrated model. You can get \n",
    "   from the values of best estimator's $C$  and $\\gamma$ parameters and the array of support vectors.\n",
    "6. As the search may be a bit time consuming, it may be useful so set the `GridSearchCV` verbose parameter so that you can see if the search is making progress."
   ]
  },
  {
   "cell_type": "code",
   "execution_count": 162,
   "metadata": {
    "ExecuteTime": {
     "end_time": "2020-04-02T18:04:01.088534Z",
     "start_time": "2020-04-02T18:04:01.074927Z"
    }
   },
   "outputs": [],
   "source": [
    "Cs=[0.001,0.01,0.1,1,10,100]\n",
    "gammas=[0.01,0.1,1,10,100]\n",
    "\n",
    "parameters={'C':Cs, 'gamma':gammas}"
   ]
  },
  {
   "cell_type": "code",
   "execution_count": 165,
   "metadata": {
    "ExecuteTime": {
     "end_time": "2018-04-03T10:41:25.340425Z",
     "start_time": "2018-04-03T10:41:25.337417Z"
    }
   },
   "outputs": [
    {
     "data": {
      "text/plain": [
       "GridSearchCV(cv=10, error_score='raise-deprecating',\n",
       "             estimator=SVC(C=1.0, cache_size=200, class_weight=None, coef0=1,\n",
       "                           decision_function_shape='ovr', degree=2, gamma=1,\n",
       "                           kernel='poly', max_iter=-1, probability=False,\n",
       "                           random_state=None, shrinking=True, tol=0.001,\n",
       "                           verbose=False),\n",
       "             iid='warn', n_jobs=None,\n",
       "             param_grid={'C': [0.001, 0.01, 0.1, 1, 10, 100],\n",
       "                         'gamma': [0.01, 0.1, 1, 10, 100]},\n",
       "             pre_dispatch='2*n_jobs', refit=True, return_train_score=False,\n",
       "             scoring=None, verbose=0)"
      ]
     },
     "execution_count": 165,
     "metadata": {},
     "output_type": "execute_result"
    }
   ],
   "source": [
    "gcv=GridSearchCV(model2, parameters, cv=10)\n",
    "gcv.fit(X, Y)"
   ]
  },
  {
   "cell_type": "code",
   "execution_count": 166,
   "metadata": {},
   "outputs": [
    {
     "data": {
      "text/plain": [
       "SVC(C=0.1, cache_size=200, class_weight=None, coef0=1,\n",
       "    decision_function_shape='ovr', degree=2, gamma=1, kernel='poly',\n",
       "    max_iter=-1, probability=False, random_state=None, shrinking=True,\n",
       "    tol=0.001, verbose=False)"
      ]
     },
     "execution_count": 166,
     "metadata": {},
     "output_type": "execute_result"
    }
   ],
   "source": [
    "gcv.best_estimator_"
   ]
  },
  {
   "cell_type": "code",
   "execution_count": 167,
   "metadata": {},
   "outputs": [
    {
     "name": "stdout",
     "output_type": "stream",
     "text": [
      "The best C is 0.1, the gamma is 1\n"
     ]
    }
   ],
   "source": [
    "print('The best C is 0.1, the gamma is 1')"
   ]
  },
  {
   "cell_type": "markdown",
   "metadata": {
    "ExecuteTime": {
     "end_time": "2018-04-03T09:19:12.901242Z",
     "start_time": "2018-04-03T09:19:12.862139Z"
    },
    "collapsed": true
   },
   "source": [
    "<div class=\"alert alert-block alert-info\"> Problem 3.3 </div>\n",
    "Show the class Y for each support vector\n",
    "\n",
    "[HINT] after fitting the estimator  contains an boolean array `support_` that is set true for the index of data points that are support vectors"
   ]
  },
  {
   "cell_type": "code",
   "execution_count": 168,
   "metadata": {},
   "outputs": [],
   "source": [
    "svc_2=gcv.best_estimator_"
   ]
  },
  {
   "cell_type": "code",
   "execution_count": 169,
   "metadata": {
    "ExecuteTime": {
     "end_time": "2018-04-03T09:19:12.928316Z",
     "start_time": "2018-04-03T09:19:12.907258Z"
    }
   },
   "outputs": [
    {
     "data": {
      "text/plain": [
       "array([0, 0, 0, 0, 0, 0, 1, 1, 1, 1], dtype=uint8)"
      ]
     },
     "execution_count": 169,
     "metadata": {},
     "output_type": "execute_result"
    }
   ],
   "source": [
    "index=svc_2.support_\n",
    "Y[index]"
   ]
  },
  {
   "cell_type": "markdown",
   "metadata": {
    "ExecuteTime": {
     "end_time": "2018-04-06T10:46:04.857000Z",
     "start_time": "2018-04-06T10:46:04.850985Z"
    }
   },
   "source": [
    "<div class=\"alert alert-block alert-info\"> Problem 3.4 </div>\n",
    "Show that\n",
    "$$\n",
    "    \\sum_i \\alpha_i y_i =0\n",
    "$$\n",
    "where $y_i=-1$ for the negative class and $y_i=+1$ for the positive class\n"
   ]
  },
  {
   "cell_type": "code",
   "execution_count": 173,
   "metadata": {
    "ExecuteTime": {
     "end_time": "2018-04-03T09:19:12.979450Z",
     "start_time": "2018-04-03T09:19:12.951375Z"
    }
   },
   "outputs": [
    {
     "data": {
      "text/plain": [
       "0.0"
      ]
     },
     "execution_count": 173,
     "metadata": {},
     "output_type": "execute_result"
    }
   ],
   "source": [
    "dual_coef2=svc_2.dual_coef_.ravel()\n",
    "np.sum(dual_coef2)"
   ]
  },
  {
   "cell_type": "code",
   "execution_count": 174,
   "metadata": {},
   "outputs": [
    {
     "name": "stdout",
     "output_type": "stream",
     "text": [
      "The sum of dual coefficient is 0\n"
     ]
    }
   ],
   "source": [
    "print('The sum of dual coefficient is 0')"
   ]
  },
  {
   "cell_type": "markdown",
   "metadata": {
    "ExecuteTime": {
     "end_time": "2018-04-06T10:46:50.498374Z",
     "start_time": "2018-04-06T10:46:50.491356Z"
    }
   },
   "source": [
    "<div class=\"alert alert-block alert-info\"> Problem 3.5 </div>\n",
    "Show which support vectors are in violation of the margin\n"
   ]
  },
  {
   "cell_type": "code",
   "execution_count": 176,
   "metadata": {
    "ExecuteTime": {
     "end_time": "2018-04-03T09:19:13.047634Z",
     "start_time": "2018-04-03T09:19:13.016550Z"
    }
   },
   "outputs": [
    {
     "name": "stdout",
     "output_type": "stream",
     "text": [
      "[False False False False False False  True False  True]\n"
     ]
    }
   ],
   "source": [
    "vio2= np.abs(alpha)==svc_2.C\n",
    "print(vio2)"
   ]
  },
  {
   "cell_type": "code",
   "execution_count": 177,
   "metadata": {},
   "outputs": [
    {
     "name": "stdout",
     "output_type": "stream",
     "text": [
      "The seventh and the last are the vectors that are in violation\n"
     ]
    }
   ],
   "source": [
    "print('The seventh and the last are the vectors that are in violation')"
   ]
  },
  {
   "cell_type": "markdown",
   "metadata": {
    "ExecuteTime": {
     "end_time": "2018-04-03T09:19:13.070693Z",
     "start_time": "2018-04-03T09:19:13.051643Z"
    }
   },
   "source": [
    "<div class=\"alert alert-block alert-info\"> Problem 3.6 </div>\n",
    "Write a function that, give two matrices $X_{i,d}$, $X'_{j,d}$ for $i=1,\\dots,N_1$, $j=1,\\dots,N_2$ and $d=1,\\dots D$\n",
    "computes the kernel products\n",
    "$$\n",
    "    K_{i,j} = \\textrm{kernel}(X_i,X'_j)\n",
    "$$\n",
    "where 'kernel' is the optimal kernel you found by cross-validation"
   ]
  },
  {
   "cell_type": "code",
   "execution_count": 185,
   "metadata": {
    "ExecuteTime": {
     "end_time": "2018-04-03T09:19:13.090746Z",
     "start_time": "2018-04-03T09:19:13.076708Z"
    }
   },
   "outputs": [],
   "source": [
    "def kernel_product(X, X_, gamma):\n",
    "    return (gamma*np.dot(X,X_.T)+1)**2"
   ]
  },
  {
   "cell_type": "markdown",
   "metadata": {
    "ExecuteTime": {
     "end_time": "2018-04-03T09:19:13.401572Z",
     "start_time": "2018-04-03T09:19:13.092751Z"
    }
   },
   "source": [
    "<div class=\"alert alert-block alert-info\"> Problem 3.7 </div>\n",
    "Write a prediction function that classifies points as having class $y=0$ or $y=1$ in terms of $\\alpha$, $b$, and the support vectors, using equation\n",
    "\n",
    "$$\n",
    "  y(x) =  \\frac{\\textrm{sign}( \\sum_i \\alpha_i y_i K(x,x_i) + b ) + 1}{2}\n",
    "$$\n",
    "\n",
    "Use this class to classify all points in the training set and verify that the accuracy of your function is exactly the same as  the\n",
    "accuracy of the `predict` method of the best estimator."
   ]
  },
  {
   "cell_type": "code",
   "execution_count": 220,
   "metadata": {},
   "outputs": [],
   "source": [
    "def predict_2(x,support_vectors,alpha,b):\n",
    "    pred=np.dot(alpha,kernel_product(support_vectors,x, svc_2.gamma))+b\n",
    "    return (np.sign(pred)+1)/2"
   ]
  },
  {
   "cell_type": "code",
   "execution_count": 221,
   "metadata": {},
   "outputs": [
    {
     "data": {
      "text/plain": [
       "array([10.4469308])"
      ]
     },
     "execution_count": 221,
     "metadata": {},
     "output_type": "execute_result"
    }
   ],
   "source": [
    "v=svc_2.support_vectors_[0]\n",
    "v=v.reshape(1,len(v))\n",
    "b=-1-np.dot(dual_coef2,kernel_product(svc_2.support_vectors_,v, svc_2.gamma))\n",
    "b"
   ]
  },
  {
   "cell_type": "code",
   "execution_count": 222,
   "metadata": {},
   "outputs": [],
   "source": [
    "p_1=predict_2(X, svc_2.support_vectors_, dual_coef2, b)"
   ]
  },
  {
   "cell_type": "code",
   "execution_count": 223,
   "metadata": {},
   "outputs": [
    {
     "data": {
      "text/plain": [
       "0.975"
      ]
     },
     "execution_count": 223,
     "metadata": {},
     "output_type": "execute_result"
    }
   ],
   "source": [
    "np.average(p_1==Y)"
   ]
  },
  {
   "cell_type": "code",
   "execution_count": 224,
   "metadata": {},
   "outputs": [
    {
     "data": {
      "text/plain": [
       "0.975"
      ]
     },
     "execution_count": 224,
     "metadata": {},
     "output_type": "execute_result"
    }
   ],
   "source": [
    "Y_pred=svc_2.predict(X)\n",
    "np.mean(Y_pred==Y)"
   ]
  },
  {
   "cell_type": "markdown",
   "metadata": {
    "ExecuteTime": {
     "end_time": "2018-04-03T11:30:39.093828Z",
     "start_time": "2018-04-03T11:30:39.090820Z"
    },
    "collapsed": true
   },
   "source": [
    "<div class=\"alert alert-block alert-info\"> Problem 3.8 </div>\n",
    "Use the function `decision_boundary_2d` from the python module `E4525_ML.plots` to display a graph of the training points and \n",
    "the optimal estimator descision boundary."
   ]
  },
  {
   "cell_type": "code",
   "execution_count": 229,
   "metadata": {},
   "outputs": [],
   "source": [
    "import matplotlib.pyplot as plt\n",
    "import E4525_ML.plots as plots"
   ]
  },
  {
   "cell_type": "code",
   "execution_count": 231,
   "metadata": {
    "ExecuteTime": {
     "end_time": "2018-04-03T11:30:39.932057Z",
     "start_time": "2018-04-03T11:30:39.909998Z"
    }
   },
   "outputs": [
    {
     "name": "stdout",
     "output_type": "stream",
     "text": [
      "(12544, 2) (40,) (12544,)\n"
     ]
    },
    {
     "data": {
      "image/png": "[encoded data removed]",
      "text/plain": [
       "<Figure size 432x288 with 1 Axes>"
      ]
     },
     "metadata": {
      "needs_background": "light"
     },
     "output_type": "display_data"
    }
   ],
   "source": [
    "fig=plt.figure()\n",
    "ax=fig.gca()\n",
    "plots.decision_boundary_2d(svc_2,X,Y,ax)"
   ]
  },
  {
   "cell_type": "code",
   "execution_count": null,
   "metadata": {},
   "outputs": [],
   "source": []
  },
  {
   "cell_type": "code",
   "execution_count": null,
   "metadata": {},
   "outputs": [],
   "source": []
  },
  {
   "cell_type": "code",
   "execution_count": null,
   "metadata": {},
   "outputs": [],
   "source": []
  }
 ],
 "metadata": {
  "kernelspec": {
   "display_name": "Python 3",
   "language": "python",
   "name": "python3"
  },
  "language_info": {
   "codemirror_mode": {
    "name": "ipython",
    "version": 3
   },
   "file_extension": ".py",
   "mimetype": "text/x-python",
   "name": "python",
   "nbconvert_exporter": "python",
   "pygments_lexer": "ipython3",
   "version": "3.7.3"
  },
  "toc": {
   "base_numbering": 1,
   "nav_menu": {},
   "number_sections": true,
   "sideBar": true,
   "skip_h1_title": true,
   "title_cell": "Table of Contents",
   "title_sidebar": "Contents",
   "toc_cell": false,
   "toc_position": {},
   "toc_section_display": "block",
   "toc_window_display": false
  }
 },
 "nbformat": 4,
 "nbformat_minor": 2
}
