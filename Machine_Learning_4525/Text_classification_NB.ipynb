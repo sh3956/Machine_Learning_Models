{
 "cells": [
  {
   "cell_type": "markdown",
   "metadata": {},
   "source": [
    "## Preliminaries"
   ]
  },
  {
   "cell_type": "markdown",
   "metadata": {},
   "source": [
    "### Imports"
   ]
  },
  {
   "cell_type": "code",
   "execution_count": 1,
   "metadata": {
    "ExecuteTime": {
     "end_time": "2018-10-01T16:47:01.299335Z",
     "start_time": "2018-10-01T16:46:54.477735Z"
    }
   },
   "outputs": [],
   "source": [
    "import pickle\n",
    "\n",
    "import numpy as np\n",
    "import pandas as pd\n",
    "import matplotlib.pyplot as plt\n",
    "\n",
    "from sklearn.feature_extraction.text import CountVectorizer,TfidfVectorizer\n",
    "from sklearn.preprocessing import normalize\n",
    "from sklearn.neighbors import KNeighborsClassifier\n",
    "from sklearn.naive_bayes import MultinomialNB\n",
    "from sklearn import metrics\n",
    "from sklearn.model_selection import train_test_split, KFold\n",
    "\n",
    "%matplotlib inline"
   ]
  },
  {
   "cell_type": "markdown",
   "metadata": {
    "ExecuteTime": {
     "end_time": "2018-02-15T11:06:16.497625Z",
     "start_time": "2018-02-15T11:06:16.466372Z"
    }
   },
   "source": [
    "### Random Seed"
   ]
  },
  {
   "cell_type": "code",
   "execution_count": 2,
   "metadata": {
    "ExecuteTime": {
     "end_time": "2018-10-01T16:47:01.304335Z",
     "start_time": "2018-10-01T16:47:01.301335Z"
    }
   },
   "outputs": [],
   "source": [
    "seed=136\n",
    "np.random.seed(seed)"
   ]
  },
  {
   "cell_type": "markdown",
   "metadata": {},
   "source": [
    "### Data Directories"
   ]
  },
  {
   "cell_type": "code",
   "execution_count": 3,
   "metadata": {
    "ExecuteTime": {
     "end_time": "2018-10-01T16:47:01.396935Z",
     "start_time": "2018-10-01T16:47:01.306335Z"
    }
   },
   "outputs": [],
   "source": [
    "raw_data_dir=r\"../../raw/C50/C50train\"\n",
    "test_dir    =r\"../../raw/C50/C50test\"\n",
    "data_dir=r\"../../data/C50\"\n"
   ]
  },
  {
   "cell_type": "markdown",
   "metadata": {},
   "source": [
    "## Document Data"
   ]
  },
  {
   "cell_type": "markdown",
   "metadata": {},
   "source": [
    "### Corpus (List of documents)"
   ]
  },
  {
   "cell_type": "code",
   "execution_count": 4,
   "metadata": {
    "ExecuteTime": {
     "end_time": "2018-10-01T16:47:01.699535Z",
     "start_time": "2018-10-01T16:47:01.398935Z"
    }
   },
   "outputs": [
    {
     "data": {
      "text/html": [
       "<div>\n",
       "<style scoped>\n",
       "    .dataframe tbody tr th:only-of-type {\n",
       "        vertical-align: middle;\n",
       "    }\n",
       "\n",
       "    .dataframe tbody tr th {\n",
       "        vertical-align: top;\n",
       "    }\n",
       "\n",
       "    .dataframe thead th {\n",
       "        text-align: right;\n",
       "    }\n",
       "</style>\n",
       "<table border=\"1\" class=\"dataframe\">\n",
       "  <thead>\n",
       "    <tr style=\"text-align: right;\">\n",
       "      <th></th>\n",
       "      <th>filename</th>\n",
       "      <th>label</th>\n",
       "    </tr>\n",
       "    <tr>\n",
       "      <th>document_id</th>\n",
       "      <th></th>\n",
       "      <th></th>\n",
       "    </tr>\n",
       "  </thead>\n",
       "  <tbody>\n",
       "    <tr>\n",
       "      <th>0</th>\n",
       "      <td>../../raw/C50/C50train/RobinSidel/147604newsML...</td>\n",
       "      <td>RobinSidel</td>\n",
       "    </tr>\n",
       "    <tr>\n",
       "      <th>1</th>\n",
       "      <td>../../raw/C50/C50train/RobinSidel/196812newsML...</td>\n",
       "      <td>RobinSidel</td>\n",
       "    </tr>\n",
       "    <tr>\n",
       "      <th>2</th>\n",
       "      <td>../../raw/C50/C50train/RobinSidel/219316newsML...</td>\n",
       "      <td>RobinSidel</td>\n",
       "    </tr>\n",
       "    <tr>\n",
       "      <th>3</th>\n",
       "      <td>../../raw/C50/C50train/RobinSidel/251225newsML...</td>\n",
       "      <td>RobinSidel</td>\n",
       "    </tr>\n",
       "    <tr>\n",
       "      <th>4</th>\n",
       "      <td>../../raw/C50/C50train/RobinSidel/177958newsML...</td>\n",
       "      <td>RobinSidel</td>\n",
       "    </tr>\n",
       "  </tbody>\n",
       "</table>\n",
       "</div>"
      ],
      "text/plain": [
       "                                                      filename       label\n",
       "document_id                                                               \n",
       "0            ../../raw/C50/C50train/RobinSidel/147604newsML...  RobinSidel\n",
       "1            ../../raw/C50/C50train/RobinSidel/196812newsML...  RobinSidel\n",
       "2            ../../raw/C50/C50train/RobinSidel/219316newsML...  RobinSidel\n",
       "3            ../../raw/C50/C50train/RobinSidel/251225newsML...  RobinSidel\n",
       "4            ../../raw/C50/C50train/RobinSidel/177958newsML...  RobinSidel"
      ]
     },
     "execution_count": 4,
     "metadata": {},
     "output_type": "execute_result"
    }
   ],
   "source": [
    "documents_filename=data_dir+\"/C50_documents.csv\"\n",
    "documents=pd.read_csv(documents_filename,index_col=\"document_id\")\n",
    "documents.head()"
   ]
  },
  {
   "cell_type": "code",
   "execution_count": 5,
   "metadata": {
    "ExecuteTime": {
     "end_time": "2018-10-01T16:47:01.719135Z",
     "start_time": "2018-10-01T16:47:01.701535Z"
    }
   },
   "outputs": [
    {
     "data": {
      "text/html": [
       "<div>\n",
       "<style scoped>\n",
       "    .dataframe tbody tr th:only-of-type {\n",
       "        vertical-align: middle;\n",
       "    }\n",
       "\n",
       "    .dataframe tbody tr th {\n",
       "        vertical-align: top;\n",
       "    }\n",
       "\n",
       "    .dataframe thead th {\n",
       "        text-align: right;\n",
       "    }\n",
       "</style>\n",
       "<table border=\"1\" class=\"dataframe\">\n",
       "  <thead>\n",
       "    <tr style=\"text-align: right;\">\n",
       "      <th></th>\n",
       "      <th>filename</th>\n",
       "      <th>label</th>\n",
       "    </tr>\n",
       "    <tr>\n",
       "      <th>document_id</th>\n",
       "      <th></th>\n",
       "      <th></th>\n",
       "    </tr>\n",
       "  </thead>\n",
       "  <tbody>\n",
       "    <tr>\n",
       "      <th>0</th>\n",
       "      <td>../../raw/C50/C50test/RobinSidel/347781newsML.txt</td>\n",
       "      <td>RobinSidel</td>\n",
       "    </tr>\n",
       "    <tr>\n",
       "      <th>1</th>\n",
       "      <td>../../raw/C50/C50test/RobinSidel/306379newsML.txt</td>\n",
       "      <td>RobinSidel</td>\n",
       "    </tr>\n",
       "    <tr>\n",
       "      <th>2</th>\n",
       "      <td>../../raw/C50/C50test/RobinSidel/324849newsML.txt</td>\n",
       "      <td>RobinSidel</td>\n",
       "    </tr>\n",
       "    <tr>\n",
       "      <th>3</th>\n",
       "      <td>../../raw/C50/C50test/RobinSidel/284041newsML.txt</td>\n",
       "      <td>RobinSidel</td>\n",
       "    </tr>\n",
       "    <tr>\n",
       "      <th>4</th>\n",
       "      <td>../../raw/C50/C50test/RobinSidel/363477newsML.txt</td>\n",
       "      <td>RobinSidel</td>\n",
       "    </tr>\n",
       "  </tbody>\n",
       "</table>\n",
       "</div>"
      ],
      "text/plain": [
       "                                                      filename       label\n",
       "document_id                                                               \n",
       "0            ../../raw/C50/C50test/RobinSidel/347781newsML.txt  RobinSidel\n",
       "1            ../../raw/C50/C50test/RobinSidel/306379newsML.txt  RobinSidel\n",
       "2            ../../raw/C50/C50test/RobinSidel/324849newsML.txt  RobinSidel\n",
       "3            ../../raw/C50/C50test/RobinSidel/284041newsML.txt  RobinSidel\n",
       "4            ../../raw/C50/C50test/RobinSidel/363477newsML.txt  RobinSidel"
      ]
     },
     "execution_count": 5,
     "metadata": {},
     "output_type": "execute_result"
    }
   ],
   "source": [
    "test_documents_filename=data_dir+\"/C50_test_documents.csv\"\n",
    "test_documents=pd.read_csv(test_documents_filename,index_col=\"document_id\")\n",
    "test_documents.head()"
   ]
  },
  {
   "cell_type": "markdown",
   "metadata": {},
   "source": [
    "### Load Pre-Trained Features"
   ]
  },
  {
   "cell_type": "markdown",
   "metadata": {},
   "source": [
    "#### Load Features"
   ]
  },
  {
   "cell_type": "markdown",
   "metadata": {},
   "source": [
    "<div class=\"alert alert-block alert-info\"> Problem 1.0 </div>\n",
    "Load the diagram features from files `digram_features.p` and digram_test_features.p` from the data directory (you generated this files while running 'TexFeatures' notebook)"
   ]
  },
  {
   "cell_type": "code",
   "execution_count": 6,
   "metadata": {},
   "outputs": [],
   "source": [
    "d_features=pickle.load(open(data_dir+'/digram_features.p',\"rb\"))\n",
    "d_test_features=pickle.load(open(data_dir+'/digram_test_features.p',\"rb\"))"
   ]
  },
  {
   "cell_type": "code",
   "execution_count": 7,
   "metadata": {},
   "outputs": [
    {
     "data": {
      "text/plain": [
       "((2500, 382647), (2500, 382647))"
      ]
     },
     "execution_count": 7,
     "metadata": {},
     "output_type": "execute_result"
    }
   ],
   "source": [
    "d_features.shape, d_features.shape"
   ]
  },
  {
   "cell_type": "markdown",
   "metadata": {
    "ExecuteTime": {
     "end_time": "2018-01-21T22:03:06.235419Z",
     "start_time": "2018-01-21T22:03:06.219795Z"
    }
   },
   "source": [
    "<div class=\"alert alert-block alert-info\"> Problem 1.2 </div>\n",
    "How many documents are collected in `features`?"
   ]
  },
  {
   "cell_type": "code",
   "execution_count": 8,
   "metadata": {
    "ExecuteTime": {
     "end_time": "2018-02-15T11:09:11.521033Z",
     "start_time": "2018-02-15T11:09:11.509033Z"
    }
   },
   "outputs": [
    {
     "name": "stdout",
     "output_type": "stream",
     "text": [
      "(2500, 382647)\n",
      "There are 2500 documents are collected in digram_features.\n"
     ]
    }
   ],
   "source": [
    "print(d_features.shape)\n",
    "print(f'There are {d_features.shape[0]} documents are collected in digram_features.')"
   ]
  },
  {
   "cell_type": "markdown",
   "metadata": {},
   "source": [
    "<div class=\"alert alert-block alert-info\"> Problem 1.3 </div>\n",
    "What is the size of the digram vocabulary?"
   ]
  },
  {
   "cell_type": "code",
   "execution_count": 9,
   "metadata": {
    "ExecuteTime": {
     "end_time": "2018-02-15T11:09:11.537033Z",
     "start_time": "2018-02-15T11:09:11.521033Z"
    }
   },
   "outputs": [
    {
     "data": {
      "text/plain": [
       "382647"
      ]
     },
     "execution_count": 9,
     "metadata": {},
     "output_type": "execute_result"
    }
   ],
   "source": [
    "d_features.shape[1]"
   ]
  },
  {
   "cell_type": "markdown",
   "metadata": {
    "ExecuteTime": {
     "end_time": "2018-01-21T22:09:15.766264Z",
     "start_time": "2018-01-21T22:09:15.750639Z"
    }
   },
   "source": [
    "<div class=\"alert alert-block alert-info\"> Problem 1.4 </div>\n",
    "save the features of the  first document into a vector named `v`.\n",
    "What is its shape?"
   ]
  },
  {
   "cell_type": "code",
   "execution_count": 10,
   "metadata": {
    "ExecuteTime": {
     "end_time": "2018-02-15T11:09:11.553033Z",
     "start_time": "2018-02-15T11:09:11.537033Z"
    }
   },
   "outputs": [
    {
     "data": {
      "text/plain": [
       "(1, 382647)"
      ]
     },
     "execution_count": 10,
     "metadata": {},
     "output_type": "execute_result"
    }
   ],
   "source": [
    "v=d_features[0, :]\n",
    "v.shape"
   ]
  },
  {
   "cell_type": "markdown",
   "metadata": {},
   "source": [
    "<div class=\"alert alert-block alert-info\"> Problem 1.5 </div>\n",
    "\n",
    "Do we need to normalize the vector features? how can you tell?"
   ]
  },
  {
   "cell_type": "code",
   "execution_count": 11,
   "metadata": {
    "ExecuteTime": {
     "end_time": "2018-02-15T11:09:11.569034Z",
     "start_time": "2018-02-15T11:09:11.553033Z"
    }
   },
   "outputs": [
    {
     "name": "stdout",
     "output_type": "stream",
     "text": [
      "Yes, we need to normalize the vector features, so that we can have feature frequencies.\n"
     ]
    }
   ],
   "source": [
    "print('Yes, we need to normalize the vector features, so that we can have feature frequencies.')"
   ]
  },
  {
   "cell_type": "markdown",
   "metadata": {},
   "source": [
    "<div class=\"alert alert-block alert-info\"> Problem 1.6 </div>\n",
    "If necesary: use `sklearn.preprocessing.normalize` to normalize features and test features."
   ]
  },
  {
   "cell_type": "code",
   "execution_count": 12,
   "metadata": {
    "ExecuteTime": {
     "end_time": "2018-02-15T11:09:11.669033Z",
     "start_time": "2018-02-15T11:09:11.585034Z"
    }
   },
   "outputs": [],
   "source": [
    "d_features=normalize(d_features)\n",
    "d_test_features=normalize(d_test_features)"
   ]
  },
  {
   "cell_type": "markdown",
   "metadata": {},
   "source": [
    "## K-Neighbors Text Classification"
   ]
  },
  {
   "cell_type": "markdown",
   "metadata": {
    "ExecuteTime": {
     "end_time": "2018-02-15T09:41:08.088459Z",
     "start_time": "2018-02-15T09:41:08.072455Z"
    }
   },
   "source": [
    "<div class=\"alert alert-block alert-info\"> Problem 2.0 </div>\n",
    "using `sklearn.model_selection.train_test_split` to separate data into a 90% training set an a 10% validation set"
   ]
  },
  {
   "cell_type": "code",
   "execution_count": 13,
   "metadata": {
    "ExecuteTime": {
     "end_time": "2018-02-15T11:09:11.709034Z",
     "start_time": "2018-02-15T11:09:11.669033Z"
    }
   },
   "outputs": [],
   "source": [
    "train_features, validation_features, label_train, label_validation = train_test_split(d_features, documents['label'], test_size=0.1)"
   ]
  },
  {
   "cell_type": "markdown",
   "metadata": {},
   "source": [
    "<div class=\"alert alert-block alert-info\"> Problem 2.1 </div>\n",
    "Show the sizes of train and validation sets"
   ]
  },
  {
   "cell_type": "code",
   "execution_count": 14,
   "metadata": {
    "ExecuteTime": {
     "end_time": "2018-02-15T11:09:11.717033Z",
     "start_time": "2018-02-15T11:09:11.709034Z"
    }
   },
   "outputs": [
    {
     "name": "stdout",
     "output_type": "stream",
     "text": [
      "(2250, 382647)\n",
      "(250, 382647)\n"
     ]
    }
   ],
   "source": [
    "print(train_features.shape)\n",
    "print(validation_features.shape)"
   ]
  },
  {
   "cell_type": "markdown",
   "metadata": {},
   "source": [
    "<div class=\"alert alert-block alert-info\"> Problem 2.2 </div>\n",
    "To check that all your inputs are set up correctly use `sklearn.neighbors.KNeighborsClassifier` to fit a nearest neighbor classifier to the training data"
   ]
  },
  {
   "cell_type": "code",
   "execution_count": 15,
   "metadata": {
    "ExecuteTime": {
     "end_time": "2018-02-15T11:09:11.733033Z",
     "start_time": "2018-02-15T11:09:11.717033Z"
    }
   },
   "outputs": [
    {
     "data": {
      "text/plain": [
       "KNeighborsClassifier(algorithm='auto', leaf_size=30, metric='minkowski',\n",
       "                     metric_params=None, n_jobs=None, n_neighbors=1, p=2,\n",
       "                     weights='uniform')"
      ]
     },
     "execution_count": 15,
     "metadata": {},
     "output_type": "execute_result"
    }
   ],
   "source": [
    "knc=KNeighborsClassifier(1)\n",
    "knc.fit(train_features, label_train)"
   ]
  },
  {
   "cell_type": "markdown",
   "metadata": {},
   "source": [
    "<div class=\"alert alert-block alert-info\"> Problem 2.3 </div>\n",
    "What is the predicted label for the first document on the test set?\n",
    "Does it agree with the true label for that document?"
   ]
  },
  {
   "cell_type": "code",
   "execution_count": null,
   "metadata": {
    "ExecuteTime": {
     "end_time": "2018-02-15T11:09:11.849040Z",
     "start_time": "2018-02-15T11:09:11.837033Z"
    }
   },
   "outputs": [],
   "source": [
    "pred_validation=knc.predict(validation_features)\n",
    "print('The predicted labels are:', pred_validation[:5], '...')\n",
    "print('The real labels are', label_validation[:5])\n",
    "print('It agreed with true label with:', np.average(pred_validation == label_validation))\n"
   ]
  },
  {
   "cell_type": "code",
   "execution_count": null,
   "metadata": {},
   "outputs": [],
   "source": [
    "knc.get_params"
   ]
  },
  {
   "cell_type": "markdown",
   "metadata": {},
   "source": [
    "<div class=\"alert alert-block alert-info\"> Problem 2.4 </div>\n",
    "Use the train/valuation split to select the optimal number of neighbors K in K-neighbors classifier. Use accuracy as \n",
    "your selection metric."
   ]
  },
  {
   "cell_type": "code",
   "execution_count": null,
   "metadata": {},
   "outputs": [],
   "source": [
    "type(validation_features)"
   ]
  },
  {
   "cell_type": "code",
   "execution_count": null,
   "metadata": {},
   "outputs": [],
   "source": [
    "type(label_train)"
   ]
  },
  {
   "cell_type": "code",
   "execution_count": 17,
   "metadata": {
    "ExecuteTime": {
     "end_time": "2018-02-15T11:09:11.865033Z",
     "start_time": "2018-02-15T11:09:11.849040Z"
    }
   },
   "outputs": [
    {
     "name": "stdout",
     "output_type": "stream",
     "text": [
      "0.764\n",
      "0.684\n",
      "0.656\n",
      "0.64\n",
      "0.636\n",
      "0.608\n",
      "0.572\n",
      "0.58\n",
      "0.56\n",
      "0.544\n",
      "0.56\n",
      "0.556\n",
      "0.552\n",
      "0.532\n",
      "0.54\n",
      "0.552\n",
      "0.544\n",
      "0.544\n",
      "0.52\n",
      "The best accuracy is 0.764, with k_value: 1.\n"
     ]
    }
   ],
   "source": [
    "k_range=np.arange(1, 20)\n",
    "\n",
    "result_accuracy=0\n",
    "best_k=0\n",
    "\n",
    "for k in k_range:\n",
    "    knc2=KNeighborsClassifier(k)\n",
    "    knc2.fit(train_features, label_train)\n",
    "    \n",
    "    pred_validation=knc2.predict(validation_features)\n",
    "    \n",
    "    accuracy=np.mean(pred_validation == label_validation)\n",
    "    print(accuracy)\n",
    "    \n",
    "    if result_accuracy < accuracy:\n",
    "        result_accuracy=accuracy\n",
    "        best_k=k\n",
    "   \n",
    "print(f'The best accuracy is {result_accuracy}, with k_value: {best_k}.')\n",
    "    \n",
    "    "
   ]
  },
  {
   "cell_type": "markdown",
   "metadata": {},
   "source": [
    "<div class=\"alert alert-block alert-info\"> Problem 2.5 </div>\n",
    "Re-train the best model will all non-test documents and evaluate performance on the test data set."
   ]
  },
  {
   "cell_type": "code",
   "execution_count": 18,
   "metadata": {
    "ExecuteTime": {
     "end_time": "2018-02-15T11:09:13.199699Z",
     "start_time": "2018-02-15T11:09:12.903699Z"
    }
   },
   "outputs": [
    {
     "name": "stdout",
     "output_type": "stream",
     "text": [
      "The best model performance on test data is:  0.5056\n"
     ]
    }
   ],
   "source": [
    "best_k=1\n",
    "knc3=KNeighborsClassifier(1)\n",
    "knc3.fit(d_features, documents['label'])\n",
    "\n",
    "pred_test=knc3.predict(d_test_features)\n",
    "\n",
    "accuracy=np.mean(pred_test == test_documents['label'])\n",
    "print('The best model performance on test data is: ', accuracy)"
   ]
  },
  {
   "cell_type": "markdown",
   "metadata": {},
   "source": [
    "<div class=\"alert alert-block alert-info\"> Problem 2.6 </div>\n",
    "Is there a significant difference between the performance in the training and test set? can you speculate on why?"
   ]
  },
  {
   "cell_type": "markdown",
   "metadata": {
    "ExecuteTime": {
     "end_time": "2018-02-15T11:09:13.203698Z",
     "start_time": "2018-02-15T11:09:13.199699Z"
    }
   },
   "source": [
    "##### Yes, there is. Since knn with 1 nesteat neighbor is high variance and low bias, it should perform much better on train set than test set. Hence, our test accuracy are much worse than train accuracy."
   ]
  },
  {
   "cell_type": "markdown",
   "metadata": {
    "ExecuteTime": {
     "end_time": "2018-01-21T23:09:05.500552Z",
     "start_time": "2018-01-21T23:09:05.484891Z"
    }
   },
   "source": [
    "### Naive Bayes Classifier Amazon Reviews"
   ]
  },
  {
   "cell_type": "code",
   "execution_count": 19,
   "metadata": {
    "ExecuteTime": {
     "end_time": "2018-10-01T16:47:01.736135Z",
     "start_time": "2018-10-01T16:47:01.721135Z"
    }
   },
   "outputs": [],
   "source": [
    "data_dir=r\"../../raw/amazon-reviews\""
   ]
  },
  {
   "cell_type": "code",
   "execution_count": 20,
   "metadata": {
    "ExecuteTime": {
     "end_time": "2018-10-01T16:47:01.757135Z",
     "start_time": "2018-10-01T16:47:01.738135Z"
    }
   },
   "outputs": [],
   "source": [
    "reviews_filename=data_dir+\"/reviews.csv\"    "
   ]
  },
  {
   "cell_type": "markdown",
   "metadata": {
    "ExecuteTime": {
     "end_time": "2018-02-15T10:29:22.080243Z",
     "start_time": "2018-02-15T10:29:22.064587Z"
    }
   },
   "source": [
    "<div class=\"alert alert-block alert-info\"> Problem 3.0 </div>\n",
    "Save file `reviews.csv` posted in canvas into the `data_dir` above"
   ]
  },
  {
   "cell_type": "markdown",
   "metadata": {},
   "source": [
    "<div class=\"alert alert-block alert-info\"> Problem 3.1 </div>\n",
    "Read the reviews file into a data frame"
   ]
  },
  {
   "cell_type": "code",
   "execution_count": 21,
   "metadata": {},
   "outputs": [],
   "source": [
    "reviews=pd.read_csv(reviews_filename)"
   ]
  },
  {
   "cell_type": "markdown",
   "metadata": {},
   "source": [
    "<div class=\"alert alert-block alert-info\"> Problem 3.2 </div>\n",
    "Use panda's function isna() to count how many rows have a missing \"Summary\" column"
   ]
  },
  {
   "cell_type": "code",
   "execution_count": 22,
   "metadata": {},
   "outputs": [
    {
     "name": "stdout",
     "output_type": "stream",
     "text": [
      "(array([0, 1]), array([568411,     43]))\n",
      "There are 43 rows\n"
     ]
    }
   ],
   "source": [
    "nan_count=np.sum(reviews.isna(), axis=1)\n",
    "print(np.unique(nan_count, return_counts=True))\n",
    "print('There are 43 rows')"
   ]
  },
  {
   "cell_type": "markdown",
   "metadata": {
    "ExecuteTime": {
     "end_time": "2018-10-01T16:43:36.794635Z",
     "start_time": "2018-10-01T16:43:36.783635Z"
    }
   },
   "source": [
    "<div class=\"alert alert-block alert-info\"> Problem 3.3 </div>\n",
    "Use panda's function fillna() to turn missing summaries into empty (\"\") summaries"
   ]
  },
  {
   "cell_type": "code",
   "execution_count": 23,
   "metadata": {},
   "outputs": [
    {
     "name": "stdout",
     "output_type": "stream",
     "text": [
      "(array([False]), array([568454]))\n",
      "All summaries are converted.\n"
     ]
    }
   ],
   "source": [
    "reviews['Summary']=reviews['Summary'].replace(np.nan, '')\n",
    "print(np.unique(reviews['Summary'].isna(), return_counts=True))\n",
    "print('All summaries are converted.')"
   ]
  },
  {
   "cell_type": "markdown",
   "metadata": {},
   "source": [
    "<div class=\"alert alert-block alert-info\"> Problem 3.4 </div>\n",
    "Create two numpy arrays:\n",
    "1. `documents_all` containing the contents of the \"Summary\" column, after replacing `nan`s by empty strings.\n",
    "2. `labels_all` containing the \"Score\" column\n"
   ]
  },
  {
   "cell_type": "code",
   "execution_count": 24,
   "metadata": {
    "ExecuteTime": {
     "end_time": "2018-02-15T11:09:16.441017Z",
     "start_time": "2018-02-15T11:09:13.251165Z"
    }
   },
   "outputs": [],
   "source": [
    "documents_all=reviews['Summary'].values\n",
    "labels_all=reviews['Score'].values"
   ]
  },
  {
   "cell_type": "markdown",
   "metadata": {},
   "source": [
    "<div class=\"alert alert-block alert-info\"> Problem 3.5 </div>\n",
    "Split `all_documents` and `labels_all` into a training  and test document set using a 10% test split"
   ]
  },
  {
   "cell_type": "code",
   "execution_count": 25,
   "metadata": {},
   "outputs": [],
   "source": [
    "review_train, review_test, label_train, label_test=train_test_split(documents_all, labels_all, test_size=0.1)"
   ]
  },
  {
   "cell_type": "code",
   "execution_count": 26,
   "metadata": {},
   "outputs": [
    {
     "name": "stdout",
     "output_type": "stream",
     "text": [
      "(511608,) (56846,)\n"
     ]
    }
   ],
   "source": [
    "print(review_train.shape, review_test.shape)"
   ]
  },
  {
   "cell_type": "markdown",
   "metadata": {
    "ExecuteTime": {
     "end_time": "2018-02-15T10:37:19.293779Z",
     "start_time": "2018-02-15T10:37:19.278157Z"
    }
   },
   "source": [
    "<div class=\"alert alert-block alert-info\"> Problem 3.6 </div>\n",
    "Create `count`, `set` and `Tfidf` features both for your training and test sets using `CountVectorizer` and `TfidfVectorizer`.\n",
    "1. Set the `input` variable to \"content\", as the document array contains the text of the documents not  their filenames as in the `C50` example.\n",
    "2. ** Do not ** set the `tokenizer` and `stopword` variables, they slow down the processing significantly, and, for this example do not really improve performance."
   ]
  },
  {
   "cell_type": "code",
   "execution_count": 27,
   "metadata": {
    "ExecuteTime": {
     "end_time": "2018-02-15T11:09:18.300004Z",
     "start_time": "2018-02-15T11:09:18.284410Z"
    }
   },
   "outputs": [],
   "source": [
    "countVectorizer=CountVectorizer(input='content')"
   ]
  },
  {
   "cell_type": "code",
   "execution_count": 28,
   "metadata": {},
   "outputs": [],
   "source": [
    "setVectorizer=CountVectorizer(input='content', binary=True)"
   ]
  },
  {
   "cell_type": "code",
   "execution_count": 29,
   "metadata": {},
   "outputs": [],
   "source": [
    "tfIdfVectorizer=TfidfVectorizer(input=\"content\")"
   ]
  },
  {
   "cell_type": "code",
   "execution_count": 30,
   "metadata": {},
   "outputs": [],
   "source": [
    "count=countVectorizer.fit_transform(review_train)\n",
    "set_=setVectorizer.fit_transform(review_train)\n",
    "Tfidf=tfIdfVectorizer.fit_transform(review_train)"
   ]
  },
  {
   "cell_type": "code",
   "execution_count": 31,
   "metadata": {},
   "outputs": [],
   "source": [
    "count_test=countVectorizer.transform(review_test)\n",
    "set_test=setVectorizer.transform(review_test)\n",
    "tfidf_test=tfIdfVectorizer.transform(review_test)"
   ]
  },
  {
   "cell_type": "markdown",
   "metadata": {
    "ExecuteTime": {
     "end_time": "2018-02-15T10:39:07.828239Z",
     "start_time": "2018-02-15T10:39:07.812618Z"
    }
   },
   "source": [
    "<div class=\"alert alert-block alert-info\"> Problem 3.7 </div>\n",
    "Show the number of documents in the training set, and the size of the vocabulary."
   ]
  },
  {
   "cell_type": "code",
   "execution_count": 32,
   "metadata": {
    "ExecuteTime": {
     "end_time": "2018-02-15T11:09:32.529808Z",
     "start_time": "2018-02-15T11:09:32.514185Z"
    }
   },
   "outputs": [
    {
     "name": "stdout",
     "output_type": "stream",
     "text": [
      "The number of documents in the training set is:  511608\n"
     ]
    }
   ],
   "source": [
    "print('The number of documents in the training set is: ', review_train.shape[0])"
   ]
  },
  {
   "cell_type": "markdown",
   "metadata": {},
   "source": [
    "<div class=\"alert alert-block alert-info\"> Problem 3.8 </div>\n",
    "We will perform binary classification: create `Y` and `Y_test` variables that are true if the review score is larger than 3\n",
    "(positive review) and false otherwise (negative review)"
   ]
  },
  {
   "cell_type": "code",
   "execution_count": 33,
   "metadata": {},
   "outputs": [
    {
     "data": {
      "text/plain": [
       "511608"
      ]
     },
     "execution_count": 33,
     "metadata": {},
     "output_type": "execute_result"
    }
   ],
   "source": [
    "len(label_train)"
   ]
  },
  {
   "cell_type": "code",
   "execution_count": 34,
   "metadata": {},
   "outputs": [],
   "source": [
    "## 最后是predict 是否大于3"
   ]
  },
  {
   "cell_type": "code",
   "execution_count": 35,
   "metadata": {
    "ExecuteTime": {
     "end_time": "2018-02-15T11:09:32.561062Z",
     "start_time": "2018-02-15T11:09:32.529808Z"
    }
   },
   "outputs": [],
   "source": [
    "## new constructed label\n",
    "Y=label_train > 3\n",
    "Y_test=label_test > 3"
   ]
  },
  {
   "cell_type": "markdown",
   "metadata": {},
   "source": [
    "<div class=\"alert alert-block alert-info\"> Problem 3.9 </div>\n",
    "What proportion of reviews are positive on the training set?"
   ]
  },
  {
   "cell_type": "code",
   "execution_count": 36,
   "metadata": {
    "ExecuteTime": {
     "end_time": "2018-02-15T11:09:32.576687Z",
     "start_time": "2018-02-15T11:09:32.561062Z"
    }
   },
   "outputs": [
    {
     "data": {
      "text/plain": [
       "0.7806367375021501"
      ]
     },
     "execution_count": 36,
     "metadata": {},
     "output_type": "execute_result"
    }
   ],
   "source": [
    "np.average(Y)"
   ]
  },
  {
   "cell_type": "markdown",
   "metadata": {
    "ExecuteTime": {
     "end_time": "2018-02-15T10:50:49.844753Z",
     "start_time": "2018-02-15T10:50:49.829126Z"
    }
   },
   "source": [
    "<div class=\"alert alert-block alert-info\"> Problem 3.10 </div>\n",
    "To check that you have all your inputs set up correctly check that you\n",
    "can fit a `MultinomialNB` with smoothing $\\alpha=1$ to the count features.\n",
    "What prediction accuracy do you obtain *in sample* in the training set?"
   ]
  },
  {
   "cell_type": "code",
   "execution_count": 37,
   "metadata": {
    "ExecuteTime": {
     "end_time": "2018-02-15T11:09:32.592315Z",
     "start_time": "2018-02-15T11:09:32.576687Z"
    }
   },
   "outputs": [
    {
     "data": {
      "text/plain": [
       "0.8856605056996764"
      ]
     },
     "execution_count": 37,
     "metadata": {},
     "output_type": "execute_result"
    }
   ],
   "source": [
    "mnb=MultinomialNB(alpha=1.0)\n",
    "mnb.fit(count, Y)\n",
    "np.average(mnb.predict(count)==Y)"
   ]
  },
  {
   "cell_type": "code",
   "execution_count": 38,
   "metadata": {},
   "outputs": [
    {
     "data": {
      "text/plain": [
       "array([ True, False,  True, ...,  True,  True,  True])"
      ]
     },
     "execution_count": 38,
     "metadata": {},
     "output_type": "execute_result"
    }
   ],
   "source": [
    "mnb.predict(count)"
   ]
  },
  {
   "cell_type": "markdown",
   "metadata": {
    "ExecuteTime": {
     "end_time": "2018-02-15T10:53:10.490848Z",
     "start_time": "2018-02-15T10:53:10.475228Z"
    }
   },
   "source": [
    "<div class=\"alert alert-block alert-info\"> Problem 3.11 </div>\n",
    "Use K-Fold validation with K=10 to select between multinomial Naive Bayes classifiers trained to either `set`, `count` and `tfidf` featues. Find the features that have the best accuracy. \n",
    "\n",
    "\n",
    "State clearly what model you selected.\n",
    "\n",
    "[HINT] \n",
    "1. Look and how this is done on the `Validate_Text` notebook.\n",
    "2. You can reuse any code you find useful on the `Validate_Text` notebook."
   ]
  },
  {
   "cell_type": "code",
   "execution_count": 39,
   "metadata": {},
   "outputs": [],
   "source": [
    "def model_cross_validation(model,X,y,folds):\n",
    "    '''\n",
    "    model: the model we want to test\n",
    "    X: full_ x data\n",
    "    y: full_ y data\n",
    "    fold: a kfold type object that should be defined (containing number of folds)\n",
    "    \n",
    "    '''\n",
    "    kfolds=len(folds)\n",
    "    train_performance=np.empty(kfolds)\n",
    "    validation_performance=np.empty(kfolds)\n",
    "    \n",
    "    for idx in range(kfolds):\n",
    "        # seperate train and validation set from idx_th fold\n",
    "        train,validation=folds[idx]\n",
    "        # get train set accuracy\n",
    "        X_train=X[train]\n",
    "        y_train=y[train]\n",
    "        model.fit(X_train,y_train)\n",
    "        train_accuracy=np.average(model.predict(X_train)==y_train)\n",
    "        # get validation set accuracy \n",
    "        X_validation=X[validation]\n",
    "        y_validation=y[validation]\n",
    "        validation_accuracy=np.average(model.predict(X_validation)==y_validation)\n",
    "        \n",
    "        # save accuracy results in train/ validation performance list\n",
    "        train_performance[idx]=train_accuracy\n",
    "        validation_performance[idx]=validation_accuracy\n",
    "        \n",
    "    return train_performance,validation_performance"
   ]
  },
  {
   "cell_type": "code",
   "execution_count": 40,
   "metadata": {
    "ExecuteTime": {
     "end_time": "2018-02-15T11:09:32.779870Z",
     "start_time": "2018-02-15T11:09:32.764208Z"
    }
   },
   "outputs": [],
   "source": [
    "kf=KFold(10,shuffle=True)\n",
    "folds=list(kf.split(set_))"
   ]
  },
  {
   "cell_type": "code",
   "execution_count": 41,
   "metadata": {},
   "outputs": [
    {
     "name": "stdout",
     "output_type": "stream",
     "text": [
      "0.8859732451489319 0.8772810421374558\n",
      "0.8860505613197704 0.8773005876266156\n",
      "0.8779084767890643 0.8698261219288742\n"
     ]
    }
   ],
   "source": [
    "## use array as input Y\n",
    "\n",
    "## count_\n",
    "train_count,validation_count=model_cross_validation(mnb,count,Y,folds)\n",
    "print(train_count.mean(),validation_count.mean()) \n",
    "\n",
    "## set_\n",
    "train_set,validation_set=model_cross_validation(mnb,set_,Y,folds)\n",
    "print(train_set.mean(),validation_set.mean()) \n",
    "\n",
    "## tfidf\n",
    "train_tfidf, validation_tfidf=model_cross_validation(mnb, Tfidf, Y, folds)\n",
    "print(train_tfidf.mean(),validation_tfidf.mean())"
   ]
  },
  {
   "cell_type": "code",
   "execution_count": 42,
   "metadata": {},
   "outputs": [
    {
     "data": {
      "text/plain": [
       "(511608, 32010)"
      ]
     },
     "execution_count": 42,
     "metadata": {},
     "output_type": "execute_result"
    }
   ],
   "source": [
    "set_.shape"
   ]
  },
  {
   "cell_type": "markdown",
   "metadata": {},
   "source": [
    "<div class=\"alert alert-block alert-info\"> Problem 3.12 </div>\n",
    "Fit the best model to all the training data and compute its accuray on the test set"
   ]
  },
  {
   "cell_type": "code",
   "execution_count": 43,
   "metadata": {
    "ExecuteTime": {
     "end_time": "2018-02-15T11:35:54.052902Z",
     "start_time": "2018-02-15T11:35:53.939194Z"
    }
   },
   "outputs": [
    {
     "name": "stdout",
     "output_type": "stream",
     "text": [
      "The accuracy is:  0.8791647609330472\n"
     ]
    }
   ],
   "source": [
    "## set is the best model here; so choose set to train all training data\n",
    "mnb.fit(set_, Y)\n",
    "print('The accuracy is: ', np.average(mnb.predict(set_test)==Y_test))\n",
    "set_accuracy=np.average(mnb.predict(set_test)==Y_test)"
   ]
  },
  {
   "cell_type": "markdown",
   "metadata": {
    "ExecuteTime": {
     "end_time": "2018-02-15T11:15:19.054261Z",
     "start_time": "2018-02-15T11:15:19.038637Z"
    }
   },
   "source": [
    "<div class=\"alert alert-block alert-info\"> Problem 3.13</div>\n",
    "Make a box plot showing the distribution of `set`, `count` and `tfidf` accuracies on the K fold cross-validations.\n",
    "\n",
    "Display clearly in the graph the performance of the best model trained on all the data on the test set.\n"
   ]
  },
  {
   "cell_type": "code",
   "execution_count": 44,
   "metadata": {
    "ExecuteTime": {
     "end_time": "2018-02-15T11:36:02.993804Z",
     "start_time": "2018-02-15T11:36:02.962563Z"
    }
   },
   "outputs": [],
   "source": [
    "## combined together and make a transpose 3*10 -> 10*3\n",
    "datav=np.vstack((validation_count,validation_set,validation_tfidf)).T\n",
    "data=pd.DataFrame(datav,columns=[\"Count\",\"Set\",\"Tfidf\"])"
   ]
  },
  {
   "cell_type": "code",
   "execution_count": 45,
   "metadata": {
    "scrolled": true
   },
   "outputs": [
    {
     "data": {
      "text/plain": [
       "array([[0.87652704, 0.8769766 , 0.87037001],\n",
       "       [0.87832529, 0.87814937, 0.86767264],\n",
       "       [0.8777389 , 0.87762163, 0.8704091 ],\n",
       "       [0.87568656, 0.87576474, 0.87095639],\n",
       "       [0.87871621, 0.87910713, 0.86833721],\n",
       "       [0.87717206, 0.87678114, 0.87021364],\n",
       "       [0.87666387, 0.8767616 , 0.86857176],\n",
       "       [0.87801255, 0.87820801, 0.86949043],\n",
       "       [0.87916341, 0.87887021, 0.87388585],\n",
       "       [0.87480453, 0.87476544, 0.86835418]])"
      ]
     },
     "execution_count": 45,
     "metadata": {},
     "output_type": "execute_result"
    }
   ],
   "source": [
    "datav"
   ]
  },
  {
   "cell_type": "code",
   "execution_count": 46,
   "metadata": {},
   "outputs": [
    {
     "data": {
      "text/plain": [
       "<matplotlib.lines.Line2D at 0x11c599e48>"
      ]
     },
     "execution_count": 46,
     "metadata": {},
     "output_type": "execute_result"
    },
    {
     "data": {
      "image/png": "[encoded data removed]",
      "text/plain": [
       "<Figure size 432x288 with 1 Axes>"
      ]
     },
     "metadata": {
      "needs_background": "light"
     },
     "output_type": "display_data"
    }
   ],
   "source": [
    "ax=data.boxplot()\n",
    "ax.axhline(y=set_accuracy,linestyle=\"dashed\",color=\"k\")"
   ]
  },
  {
   "cell_type": "markdown",
   "metadata": {},
   "source": [
    "<div class=\"alert alert-block alert-info\"> Problem 3.14</div>\n",
    "1. Why do the `test` and `count` results look so similar in this case?\n",
    "2. Comment on the difference between cross-validation average performace and test performance"
   ]
  },
  {
   "cell_type": "markdown",
   "metadata": {
    "ExecuteTime": {
     "end_time": "2018-02-15T11:20:15.953472Z",
     "start_time": "2018-02-15T11:20:15.922360Z"
    }
   },
   "source": [
    "1. Set and count here are from same 'CountVectorizer' function, and since the summary is short, there is a high possibility that there are only a few duplicated words in the summary. Hence, the array output for count and set should be similar. "
   ]
  },
  {
   "cell_type": "markdown",
   "metadata": {},
   "source": [
    "2. The test set performance is better than validation set performance. It is basically because we use both validation set and training set to learn,  more training data can give a relatively higher accuracy."
   ]
  },
  {
   "cell_type": "markdown",
   "metadata": {},
   "source": [
    "<div class=\"alert alert-block alert-info\"> Problem 4.0 </div>\n",
    "With the best features  features fitted to the full training set:\n",
    "use `sklearn` `model.predict_prob` function to compute the probabilities of the positive class.\n",
    "\n",
    "[HINT] `model.predict_prob` returns probabilities for both the negative and positive class, we only need the positive class"
   ]
  },
  {
   "cell_type": "code",
   "execution_count": 47,
   "metadata": {},
   "outputs": [
    {
     "data": {
      "text/plain": [
       "array([ True, False,  True, ...,  True,  True,  True])"
      ]
     },
     "execution_count": 47,
     "metadata": {},
     "output_type": "execute_result"
    }
   ],
   "source": [
    "mnb.predict(count)"
   ]
  },
  {
   "cell_type": "code",
   "execution_count": 48,
   "metadata": {},
   "outputs": [
    {
     "data": {
      "text/plain": [
       "array([[1.10118730e-02, 9.88988127e-01],\n",
       "       [9.49081388e-01, 5.09186119e-02],\n",
       "       [8.74849893e-04, 9.99125150e-01],\n",
       "       ...,\n",
       "       [1.89052580e-02, 9.81094742e-01],\n",
       "       [1.69826684e-02, 9.83017332e-01],\n",
       "       [4.92604273e-01, 5.07395727e-01]])"
      ]
     },
     "execution_count": 48,
     "metadata": {},
     "output_type": "execute_result"
    }
   ],
   "source": [
    "mnb.predict_proba(set_test)"
   ]
  },
  {
   "cell_type": "code",
   "execution_count": 49,
   "metadata": {
    "ExecuteTime": {
     "end_time": "2018-02-15T11:28:53.929690Z",
     "start_time": "2018-02-15T11:28:53.800028Z"
    }
   },
   "outputs": [
    {
     "name": "stdout",
     "output_type": "stream",
     "text": [
      "[0.98898813 0.05091861 0.99912515 ... 0.98109474 0.98301733 0.50739573]\n"
     ]
    }
   ],
   "source": [
    "positive_prob=mnb.predict_proba(set_test)[:, 1]\n",
    "print(positive_prob)"
   ]
  },
  {
   "cell_type": "code",
   "execution_count": 50,
   "metadata": {},
   "outputs": [
    {
     "data": {
      "text/plain": [
       "array([ True, False,  True, ...,  True,  True,  True])"
      ]
     },
     "execution_count": 50,
     "metadata": {},
     "output_type": "execute_result"
    }
   ],
   "source": [
    "Y_test"
   ]
  },
  {
   "cell_type": "markdown",
   "metadata": {},
   "source": [
    "<div class=\"alert alert-block alert-info\"> Problem 4.1 </div>\n",
    "use `sklearn` `metrics.roc_curve` to create a roc_curve for the best features classifier\n",
    "\n",
    "Plot the ROC curve."
   ]
  },
  {
   "cell_type": "code",
   "execution_count": 51,
   "metadata": {
    "ExecuteTime": {
     "end_time": "2018-02-15T11:30:19.391035Z",
     "start_time": "2018-02-15T11:30:19.359771Z"
    }
   },
   "outputs": [
    {
     "data": {
      "text/plain": [
       "Text(0, 0.5, 'tpr')"
      ]
     },
     "execution_count": 51,
     "metadata": {},
     "output_type": "execute_result"
    },
    {
     "data": {
      "image/png": "[encoded data removed]",
      "text/plain": [
       "<Figure size 432x288 with 1 Axes>"
      ]
     },
     "metadata": {
      "needs_background": "light"
     },
     "output_type": "display_data"
    }
   ],
   "source": [
    "fpr, tpr, thresholds = metrics.roc_curve(Y_test, positive_prob)\n",
    "plt.plot(fpr, tpr)\n",
    "plt.title('ROC')\n",
    "plt.xlabel('fpr')\n",
    "plt.ylabel('tpr')"
   ]
  },
  {
   "cell_type": "markdown",
   "metadata": {
    "ExecuteTime": {
     "end_time": "2018-02-15T11:35:23.183871Z",
     "start_time": "2018-02-15T11:35:23.152590Z"
    }
   },
   "source": [
    "<div class=\"alert alert-block alert-info\"> Problem 4.2 </div>\n",
    "1. Find the point on the ROC curve with a threshold probability closest to 0.5.\n",
    "2. Show its rate of false positives and of false negatives.\n",
    "3. Show its accuracy and compare it to the best classifier accuracy that you computed before"
   ]
  },
  {
   "cell_type": "code",
   "execution_count": 52,
   "metadata": {},
   "outputs": [
    {
     "name": "stdout",
     "output_type": "stream",
     "text": [
      "11415 0.4999348767199922\n"
     ]
    }
   ],
   "source": [
    "index_=np.argmin((thresholds-0.5)**2)\n",
    "print(index_, thresholds[index_])"
   ]
  },
  {
   "cell_type": "code",
   "execution_count": 53,
   "metadata": {},
   "outputs": [
    {
     "name": "stdout",
     "output_type": "stream",
     "text": [
      "The false positives rate is:  0.33095027713069325\n",
      "The false negative rate is:  0.061941122147892824\n"
     ]
    }
   ],
   "source": [
    "print('The false positives rate is: ', fpr[index_])\n",
    "print('The false negative rate is: ', 1-tpr[index_])"
   ]
  },
  {
   "cell_type": "code",
   "execution_count": 54,
   "metadata": {},
   "outputs": [
    {
     "name": "stdout",
     "output_type": "stream",
     "text": [
      "The accuracy is:  0.8790481519732904\n"
     ]
    }
   ],
   "source": [
    "## accuracy=positive class rate*TPR + negative class rate * TNR\n",
    "print('The accuracy is: ', (1-fpr[index_])*np.average(Y==0)+tpr[index_]*np.average(Y==1))"
   ]
  },
  {
   "cell_type": "code",
   "execution_count": 55,
   "metadata": {},
   "outputs": [
    {
     "name": "stdout",
     "output_type": "stream",
     "text": [
      "The set accuracy is:  0.8791647609330472\n",
      "They are pretty closed. ROC with threshold 0.5 is a little bit better.\n"
     ]
    }
   ],
   "source": [
    "print('The set accuracy is: ', set_accuracy)\n",
    "print('They are pretty closed. ROC with threshold 0.5 is a little bit better.')"
   ]
  },
  {
   "cell_type": "markdown",
   "metadata": {
    "ExecuteTime": {
     "end_time": "2018-02-15T11:39:45.896421Z",
     "start_time": "2018-02-15T11:39:45.865167Z"
    }
   },
   "source": [
    "<div class=\"alert alert-block alert-info\"> Problem 4.3 </div>\n",
    "Redraw the ROC curve, highlighting the point of the curve that correspont to optimal accuracy."
   ]
  },
  {
   "cell_type": "code",
   "execution_count": 56,
   "metadata": {
    "ExecuteTime": {
     "end_time": "2018-02-15T11:38:03.154374Z",
     "start_time": "2018-02-15T11:38:02.973456Z"
    }
   },
   "outputs": [
    {
     "data": {
      "text/plain": [
       "Text(0.5, 1.0, 'Roc curve marked with optimal accuracy point')"
      ]
     },
     "execution_count": 56,
     "metadata": {},
     "output_type": "execute_result"
    },
    {
     "data": {
      "image/png": "[encoded data removed]",
      "text/plain": [
       "<Figure size 432x288 with 1 Axes>"
      ]
     },
     "metadata": {
      "needs_background": "light"
     },
     "output_type": "display_data"
    }
   ],
   "source": [
    "plt.plot(fpr,tpr,label=\"set\")\n",
    "plt.plot([fpr[index_]], [tpr[index_]], marker='D')\n",
    "plt.xlabel(\"False Positive Rate\")\n",
    "plt.ylabel(\"True Positive Rate\")\n",
    "plt.title('Roc curve marked with optimal accuracy point')"
   ]
  },
  {
   "cell_type": "code",
   "execution_count": null,
   "metadata": {},
   "outputs": [],
   "source": []
  },
  {
   "cell_type": "code",
   "execution_count": null,
   "metadata": {},
   "outputs": [],
   "source": []
  },
  {
   "cell_type": "code",
   "execution_count": null,
   "metadata": {},
   "outputs": [],
   "source": []
  },
  {
   "cell_type": "code",
   "execution_count": null,
   "metadata": {},
   "outputs": [],
   "source": []
  },
  {
   "cell_type": "code",
   "execution_count": null,
   "metadata": {},
   "outputs": [],
   "source": []
  }
 ],
 "metadata": {
  "kernelspec": {
   "display_name": "Python 3",
   "language": "python",
   "name": "python3"
  },
  "language_info": {
   "codemirror_mode": {
    "name": "ipython",
    "version": 3
   },
   "file_extension": ".py",
   "mimetype": "text/x-python",
   "name": "python",
   "nbconvert_exporter": "python",
   "pygments_lexer": "ipython3",
   "version": "3.7.3"
  },
  "toc": {
   "base_numbering": 1,
   "nav_menu": {},
   "number_sections": true,
   "sideBar": true,
   "skip_h1_title": true,
   "title_cell": "Table of Contents",
   "title_sidebar": "Contents",
   "toc_cell": false,
   "toc_position": {},
   "toc_section_display": "block",
   "toc_window_display": false
  }
 },
 "nbformat": 4,
 "nbformat_minor": 2
}
